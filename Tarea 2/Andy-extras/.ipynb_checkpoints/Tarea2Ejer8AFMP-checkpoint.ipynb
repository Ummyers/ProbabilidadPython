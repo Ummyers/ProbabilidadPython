{
 "cells": [
  {
   "cell_type": "markdown",
   "metadata": {},
   "source": [
    "# >Inicia ejercicio<"
   ]
  },
  {
   "cell_type": "markdown",
   "metadata": {},
   "source": [
    "La variable **conta** inicializa en $-1$ ya que es la que cuenta cuantos cerillos tiene la otra caja "
   ]
  },
  {
   "cell_type": "code",
   "execution_count": 129,
   "metadata": {},
   "outputs": [],
   "source": [
    "import random\n",
    "\n",
    "def Banach(n):\n",
    "    c0 = [0 for i in range(n+1)]\n",
    "    c1 = [1 for i in range(n+1)]\n",
    "    c = [c0,c1]\n",
    "\n",
    "    conta = -1\n",
    "    \n",
    "    while len(c0)>0 and len(c1)>0:\n",
    "    #while c0 and c1:\n",
    "        elec = random.choice(random.choice(c))\n",
    "        if elec == 0:\n",
    "            c0.remove(elec)\n",
    "        else: c1.remove(elec)\n",
    "            \n",
    "        conta+=1\n",
    "        c = [c0,c1]\n",
    "\n",
    "    print(\"La longitud de c0 es:\",len(c0))\n",
    "    print(c0)\n",
    "    print(c1)\n",
    "    if c0: #Si la lista c0 es no vacia\n",
    "        return 0,conta,len(c0)-1\n",
    "    else: return 1,conta,len(c1)-1"
   ]
  },
  {
   "cell_type": "code",
   "execution_count": 132,
   "metadata": {},
   "outputs": [
    {
     "name": "stdout",
     "output_type": "stream",
     "text": [
      "La longitud de c0 es: 4\n",
      "[0, 0, 0, 0]\n",
      "[]\n",
      "Banach usó:  17 cerrilos, antes de vaciar la caja 1 y la otra cajita 0 quedo con 3 fosforós\n"
     ]
    }
   ],
   "source": [
    "B = Banach(10)\n",
    "\n",
    "print(\"Banach usó: \", B[1], \n",
    "      \"cerrilos, antes de vaciar la caja\", 1-B[0], \"y la otra cajita\",B[0],\"quedo con\", B[2], \"fosforós\")"
   ]
  },
  {
   "cell_type": "markdown",
   "metadata": {},
   "source": [
    "Esta función es la que hicimos con Memo, pero con algunas modificaciones, expuestas anteriormente. "
   ]
  },
  {
   "cell_type": "code",
   "execution_count": 280,
   "metadata": {},
   "outputs": [],
   "source": [
    "def construccionBanch(n):\n",
    "    c0 = [0 for i in range(n+1)]\n",
    "    c1 = [1 for i in range(n+1)]\n",
    "    c = [c0,c1]\n",
    "\n",
    "    conta = -1\n",
    "    \n",
    "    while len(c0)>0 and len(c1)>0:\n",
    "    #while c0 and c1:\n",
    "        elec = random.choice(random.choice(c))\n",
    "        if elec == 0:\n",
    "            c0.remove(elec)\n",
    "        else: c1.remove(elec)\n",
    "            \n",
    "        conta+=1\n",
    "        c = [c0,c1]\n",
    "\n",
    "    if c0: #Si la lista c0 es no vacia\n",
    "        #print(len(c0)-1)\n",
    "        return len(c0)-1\n",
    "    else: \n",
    "        #print(len(c1)-1)\n",
    "        return len(c1)-1\n",
    "    \n"
   ]
  },
  {
   "cell_type": "markdown",
   "metadata": {},
   "source": [
    "## 1. Función experimento\n",
    "La función **experimento** recibe dos parametros, el primero $n$ es el número de cerillos que habrá en las dos cajas, es decir, en cada caja habrá $n$ cerillos, el segundo parámetro $rep$ es el número de veces que se repetira el experimento"
   ]
  },
  {
   "cell_type": "code",
   "execution_count": 286,
   "metadata": {},
   "outputs": [],
   "source": [
    "import random #Para poder usar la función que generar pseudoaleatorios\n",
    "from collections import defaultdict #Para inicializar el diccionario\n",
    "\n",
    "\n",
    "def experimento(n,rep):\n",
    "    #Estamos diciendo que dictLan es un diccionario de tipo integer\n",
    "    dictLan = defaultdict(int)\n",
    "    \n",
    "    #Ponemos las posibles claves que puede tomar el resultado\n",
    "    for i in range (1,n+1):\n",
    "        dictLan[i]\n",
    "    \n",
    "    for i in range(rep):\n",
    "        res = construccionBanch(n)\n",
    "        if res != 0:\n",
    "            dictLan[res]+=1\n",
    "        #print(res)\n",
    "    #Devuelve un diccionario\n",
    "    return dictLan\n"
   ]
  },
  {
   "cell_type": "code",
   "execution_count": 287,
   "metadata": {},
   "outputs": [
    {
     "data": {
      "text/plain": [
       "defaultdict(int,\n",
       "            {1: 0,\n",
       "             2: 1,\n",
       "             3: 2,\n",
       "             4: 1,\n",
       "             5: 3,\n",
       "             6: 0,\n",
       "             7: 2,\n",
       "             8: 0,\n",
       "             9: 0,\n",
       "             10: 0,\n",
       "             11: 0})"
      ]
     },
     "execution_count": 287,
     "metadata": {},
     "output_type": "execute_result"
    }
   ],
   "source": [
    "f = experimento(11,12) #Simple ejemplo de tener 11 cerillos en dos cajas y repetirlo 12 veces\n",
    "f"
   ]
  },
  {
   "cell_type": "markdown",
   "metadata": {},
   "source": [
    "## Vamos a simular lo que pidio Memo, es decir, repetiremos el experimento $100,000$ veces teniendo 10 cerillos cada caja y obtenemos la siguiente gráfica."
   ]
  },
  {
   "cell_type": "code",
   "execution_count": 289,
   "metadata": {},
   "outputs": [
    {
     "data": {
      "image/png": "[encoded data removed]",
      "text/plain": [
       "<Figure size 432x288 with 1 Axes>"
      ]
     },
     "metadata": {
      "needs_background": "light"
     },
     "output_type": "display_data"
    }
   ],
   "source": [
    "from collections import Counter\n",
    "import matplotlib.pyplot as plt \n",
    "\n",
    "# f es nuestro diccionario de donde tomamos los valores\n",
    "f = experimento(10,100000)\n",
    "\n",
    "#No tuvimos que usar items para gráficar\n",
    "plt.bar(range(len(f)), f.values(), align='center') \n",
    "plt.xticks(range(len(f)), list(f.keys())) \n",
    "\n",
    "# Titulo de la imagen\n",
    "plt.title(\"Gráfica de simular el experimento\")\n",
    "\n",
    "#Función que al generar la imagen la guardará en la carpeta donde se encuentra tu jupyter\n",
    "plt.savefig(\"Banch1.jpg\")\n",
    "\n",
    "#Muestra la gráfica\n",
    "plt.show()"
   ]
  },
  {
   "cell_type": "markdown",
   "metadata": {},
   "source": [
    "## Ahora teniendo 20 cerillos en cada caja..."
   ]
  },
  {
   "cell_type": "code",
   "execution_count": 290,
   "metadata": {},
   "outputs": [
    {
     "data": {
      "image/png": "[encoded data removed]",
      "text/plain": [
       "<Figure size 432x288 with 1 Axes>"
      ]
     },
     "metadata": {
      "needs_background": "light"
     },
     "output_type": "display_data"
    }
   ],
   "source": [
    "from collections import Counter\n",
    "import matplotlib.pyplot as plt \n",
    "\n",
    "# f es nuestro diccionario de donde tomamos los valores\n",
    "f = experimento(20,100000)\n",
    "\n",
    "#No tuvimos que usar items para gráficar\n",
    "plt.bar(range(len(f)), f.values(), align='center') \n",
    "plt.xticks(range(len(f)), list(f.keys())) \n",
    "\n",
    "# Titulo de la imagen\n",
    "plt.title(\"Gráfica de simular el experimento\")\n",
    "\n",
    "#Función que al generar la imagen la guardará en la carpeta donde se encuentra tu jupyter\n",
    "plt.savefig(\"Banch1.jpg\")\n",
    "\n",
    "#Muestra la gráfica\n",
    "plt.show()"
   ]
  },
  {
   "cell_type": "markdown",
   "metadata": {},
   "source": [
    "## Ahora teniendo $100$ cerillos en cada caja.\n",
    "Si bajas este archivo puede que tarde un poco tu equipo en obtener esta gráfica. "
   ]
  },
  {
   "cell_type": "code",
   "execution_count": 291,
   "metadata": {},
   "outputs": [
    {
     "data": {
      "image/png": "[encoded data removed]",
      "text/plain": [
       "<Figure size 432x288 with 1 Axes>"
      ]
     },
     "metadata": {
      "needs_background": "light"
     },
     "output_type": "display_data"
    }
   ],
   "source": [
    "from collections import Counter\n",
    "import matplotlib.pyplot as plt \n",
    "\n",
    "# f es nuestro diccionario de donde tomamos los valores\n",
    "f = experimento(100,100000)\n",
    "\n",
    "#No tuvimos que usar items para gráficar\n",
    "plt.bar(range(len(f)), f.values(), align='center') \n",
    "plt.xticks(range(len(f)), list(f.keys())) \n",
    "\n",
    "# Titulo de la imagen\n",
    "plt.title(\"Gráfica de simular el experimento\")\n",
    "\n",
    "#Función que al generar la imagen la guardará en la carpeta donde se encuentra tu jupyter\n",
    "plt.savefig(\"Banch1.jpg\")\n",
    "\n",
    "#Muestra la gráfica\n",
    "plt.show()"
   ]
  }
 ],
 "metadata": {
  "kernelspec": {
   "display_name": "Python 3",
   "language": "python",
   "name": "python3"
  },
  "language_info": {
   "codemirror_mode": {
    "name": "ipython",
    "version": 3
   },
   "file_extension": ".py",
   "mimetype": "text/x-python",
   "name": "python",
   "nbconvert_exporter": "python",
   "pygments_lexer": "ipython3",
   "version": "3.8.3"
  }
 },
 "nbformat": 4,
 "nbformat_minor": 4
}
