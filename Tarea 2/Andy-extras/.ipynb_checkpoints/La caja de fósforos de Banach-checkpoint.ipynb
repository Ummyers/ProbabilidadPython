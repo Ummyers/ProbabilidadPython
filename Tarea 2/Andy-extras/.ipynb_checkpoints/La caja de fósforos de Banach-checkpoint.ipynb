{
 "cells": [
  {
   "cell_type": "markdown",
   "metadata": {
    "id": "p9hIbgL4gfL8"
   },
   "source": [
    "# El Problema de la caja de fósforos de Banach"
   ]
  },
  {
   "cell_type": "markdown",
   "metadata": {
    "id": "pude6G4dgoJK"
   },
   "source": [
    "El célebre matemático polaco Stefan Banach solía reunirse con otros matemáticos en el Café Escocés en Lwów, Polonia, en donde había un cuaderno en el cual se anotaban los problemas planteados y sus soluciones. Esta libreta se conoce como el Libro Escocés. El siguiente es el último problema incluido en este libro).\n",
    "\n",
    "En todo momento, Banach lleva $2$ cajas de fósforos: $1$ en su bolsillo izquierdo y $1$ en su bolsillo derecho. Cada vez que necesita un fósforo, es igualmente probable que lo saque de cualquier bolsillo. Considere el momento en que Banach descubre por primera vez que una de sus cajas de fósforos está vacía. \n",
    " \n",
    "1. Si se supone que ambas cajas de fósforos inicialmente contenían $N$ fósforos, ¿cuál es la probabilidad de que haya exactamente $k$ fósforos, $k=0,1,\\dots, N$, en la otra caja?\n",
    "2.\tResuelve el problema de la caja de fósforos de Banach cuando la caja de fósforos de la izquierda contenía originalmente $N_1$ fósforos y la caja de la derecha contenía $N_2$ fósforos.\n",
    "3.\tEncuentra la probabilidad de que, en el momento en que se vacía la primera caja (en lugar de encontrarse vacía), la otra caja contenga exactamente $k$ fósforos.\n",
    "\n"
   ]
  },
  {
   "cell_type": "markdown",
   "metadata": {},
   "source": [
    "## Simulación en Python"
   ]
  },
  {
   "cell_type": "code",
   "execution_count": 2,
   "metadata": {},
   "outputs": [
    {
     "data": {
      "text/plain": [
       "[0, 0, 0, 0, 0, 0, 0, 0, 0, 0]"
      ]
     },
     "execution_count": 2,
     "metadata": {},
     "output_type": "execute_result"
    }
   ],
   "source": [
    "n = 10 # el número de fósforos en la cajas. \n",
    "\n",
    "c0 = [0 for i in range(n)]\n",
    "\n",
    "c0"
   ]
  },
  {
   "cell_type": "markdown",
   "metadata": {},
   "source": [
    "Otra forma de hacerlo es:"
   ]
  },
  {
   "cell_type": "code",
   "execution_count": 4,
   "metadata": {},
   "outputs": [
    {
     "data": {
      "text/plain": [
       "[1, 1, 1, 1, 1, 1, 1, 1, 1, 1]"
      ]
     },
     "execution_count": 4,
     "metadata": {},
     "output_type": "execute_result"
    }
   ],
   "source": [
    "c1 =[1,]*n\n",
    "c1"
   ]
  },
  {
   "cell_type": "code",
   "execution_count": null,
   "metadata": {},
   "outputs": [],
   "source": [
    "import random\n",
    "\n",
    "c = [c0,c1] #Ponemos las cajas en una lista\n",
    "p = random.choice(c) #Elegimos una de las cajas\n",
    "e = random.choice(p) #Se elige un fosforó de una caja\n",
    "\n",
    "if e==0:\n",
    "    c0.remove(e)\n",
    "else:\n",
    "    c1.remove(e)\n",
    "\n",
    "print(c0)\n",
    "print(c1)"
   ]
  },
  {
   "cell_type": "markdown",
   "metadata": {},
   "source": [
    "El experimento se acaba cuando una de las cajas de cerilos es vacía."
   ]
  },
  {
   "cell_type": "code",
   "execution_count": 29,
   "metadata": {},
   "outputs": [
    {
     "name": "stdout",
     "output_type": "stream",
     "text": [
      "[]\n",
      "[1, 1]\n",
      "18\n"
     ]
    }
   ],
   "source": [
    "n = 10\n",
    "c0 = [0 for i in range(n)]\n",
    "c1 = [1 for i in range(n)]\n",
    "c = [c0,c1]\n",
    "\n",
    "conta = 0\n",
    "while len(c0)>0 and len(c1)>0:\n",
    "#while c0 and c1:\n",
    "    elec = random.choice(random.choice(c))\n",
    "    if elec == 0:\n",
    "        c0.remove(elec)\n",
    "    else: c1.remove(elec)\n",
    "    \n",
    "    conta+=1\n",
    "    c = [c0,c1]\n",
    "    \n",
    "print(c0)\n",
    "print(c1)\n",
    "print(conta)"
   ]
  },
  {
   "cell_type": "markdown",
   "metadata": {},
   "source": [
    "Ahora definimos la función "
   ]
  },
  {
   "cell_type": "code",
   "execution_count": 55,
   "metadata": {},
   "outputs": [],
   "source": [
    "import random\n",
    "\n",
    "def Banach(n):\n",
    "    c0 = [0 for i in range(n+1)]\n",
    "    c1 = [1 for i in range(n+1)]\n",
    "    c = [c0,c1]\n",
    "\n",
    "    conta = 0\n",
    "    while len(c0)>0 and len(c1)>0:\n",
    "    #while c0 and c1:\n",
    "        elec = random.choice(random.choice(c))\n",
    "        if elec == 0:\n",
    "            c0.remove(elec)\n",
    "        else: c1.remove(elec)\n",
    "\n",
    "        conta+=1\n",
    "        c = [c0,c1]\n",
    "\n",
    "    print(\"La longitud de c0 es:\",len(c0))\n",
    "    if c0: #Si la lista c0 es no vacia\n",
    "        return 0,conta,len(c0)-1\n",
    "    else: return 1,conta,len(c0)-1\n"
   ]
  },
  {
   "cell_type": "code",
   "execution_count": 57,
   "metadata": {},
   "outputs": [
    {
     "name": "stdout",
     "output_type": "stream",
     "text": [
      "La longitud de c0 es: 7\n",
      "[]\n",
      "[1, 1]\n",
      "Banach usó:  15 cerrilos, antes de vaciar la caja 1 y la otra cajita 0 quedo con  6 fosforós\n"
     ]
    }
   ],
   "source": [
    "B = Banach(10)\n",
    "print(c0)\n",
    "print(c1)\n",
    "print(\"Banach usó: \", B[1], \n",
    "      \"cerrilos, antes de vaciar la caja\", 1-B[0], \"y la otra cajita\",B[0],\"quedo con \", B[2], \"fosforós\")"
   ]
  },
  {
   "cell_type": "markdown",
   "metadata": {},
   "source": [
    "# >Inicia el ejercicio<"
   ]
  },
  {
   "cell_type": "markdown",
   "metadata": {},
   "source": [
    "## Ejercicio\n",
    "1. Agregar un contador que cuente el momento en que Banach se da cuenta de que alguna de las cajitas esta vacía."
   ]
  },
  {
   "cell_type": "code",
   "execution_count": null,
   "metadata": {},
   "outputs": [],
   "source": []
  }
 ],
 "metadata": {
  "kernelspec": {
   "display_name": "Python 3",
   "language": "python",
   "name": "python3"
  },
  "language_info": {
   "codemirror_mode": {
    "name": "ipython",
    "version": 3
   },
   "file_extension": ".py",
   "mimetype": "text/x-python",
   "name": "python",
   "nbconvert_exporter": "python",
   "pygments_lexer": "ipython3",
   "version": "3.8.3"
  }
 },
 "nbformat": 4,
 "nbformat_minor": 4
}
