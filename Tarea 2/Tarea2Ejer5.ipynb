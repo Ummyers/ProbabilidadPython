{
 "cells": [
  {
   "cell_type": "code",
   "execution_count": 9,
   "metadata": {},
   "outputs": [
    {
     "name": "stdout",
     "output_type": "stream",
     "text": [
      "4.0755955533910675e-05\n",
      "0.008802996233189591\n"
     ]
    }
   ],
   "source": [
    "import numpy as np \n",
    "import matplotlib.pyplot as plt\n",
    "import random\n",
    "from math import factorial\n",
    "\n",
    "\n",
    "def numero_combinaciones(m, l):\n",
    "    return factorial(m) // (factorial(l) * factorial(m - l))\n",
    "\n",
    "#Simulamos la v.a. X\n",
    "def proba(n, x, p, k):\n",
    "    a = ((2*n)+k - x)//2\n",
    "    b = numero_combinaciones (2*n, a)\n",
    "    return (b * (p**a) *(1-p)**(2*n-a)) \n",
    "\n",
    "print(proba(11,48,0.388,62))\n",
    "\n",
    "n1 = random.randint(10,20)\n",
    "x1 = random.randrange(40,50,2)\n",
    "p1 = random.random()\n",
    "k1 = random.randrange(x1-(2*n1),x1+(2*n1),2)\n",
    "print(proba(n1,x1,p1,k1))"
   ]
  },
  {
   "cell_type": "code",
   "execution_count": null,
   "metadata": {},
   "outputs": [],
   "source": []
  }
 ],
 "metadata": {
  "kernelspec": {
   "display_name": "Python 3",
   "language": "python",
   "name": "python3"
  },
  "language_info": {
   "codemirror_mode": {
    "name": "ipython",
    "version": 3
   },
   "file_extension": ".py",
   "mimetype": "text/x-python",
   "name": "python",
   "nbconvert_exporter": "python",
   "pygments_lexer": "ipython3",
   "version": "3.8.3"
  }
 },
 "nbformat": 4,
 "nbformat_minor": 4
}
