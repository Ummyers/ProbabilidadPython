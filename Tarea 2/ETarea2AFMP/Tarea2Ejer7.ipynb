{
 "cells": [
  {
   "cell_type": "markdown",
   "metadata": {},
   "source": [
    "### Función que calcula el factorial de un número"
   ]
  },
  {
   "cell_type": "code",
   "execution_count": 1,
   "metadata": {},
   "outputs": [],
   "source": [
    "import math\n",
    "\n",
    "def factorial(x):\n",
    "    producto = 1\n",
    "    for i in range (1,x+1):\n",
    "        producto = producto * i\n",
    "        #print(i)\n",
    "    return producto"
   ]
  },
  {
   "cell_type": "markdown",
   "metadata": {},
   "source": [
    "# Función ejercicio 7 extra para la tarea 2"
   ]
  },
  {
   "cell_type": "code",
   "execution_count": 41,
   "metadata": {},
   "outputs": [],
   "source": [
    "\"\"\" \n",
    "Función que calcula la probabilidad de que eclosionen Z <=10 huevos\n",
    "p: float\n",
    "    Probabilidad que tiene un huevo de eclosionar según el insecto\n",
    "theta: entero\n",
    "    Intensidad de poisson\n",
    "\"\"\"\n",
    "import math \n",
    "def huevos(p, theta):\n",
    "    for k in range (10):\n",
    "        suma = (1/(factorial(k)*factorial(10-k)))*(p**k)*((1-p)**(10-k))*(theta**(10))*(math.exp(-theta))\n",
    "    return suma"
   ]
  },
  {
   "cell_type": "markdown",
   "metadata": {},
   "source": [
    "Para la función **huevos** estamos fijando que se pusieron 10 huevos y calculamos que cual es la proba de que $P(Z<=10)$"
   ]
  },
  {
   "cell_type": "markdown",
   "metadata": {},
   "source": [
    "Prueba 1: Prueba en la que la probabilidad de que eclosione un huevo es de $p=0.3$ y con una intensidad $\\theta = 2$"
   ]
  },
  {
   "cell_type": "code",
   "execution_count": 42,
   "metadata": {},
   "outputs": [
    {
     "data": {
      "text/plain": [
       "5.2618358122395e-09"
      ]
     },
     "execution_count": 42,
     "metadata": {},
     "output_type": "execute_result"
    }
   ],
   "source": [
    "huevos(0.3,2)"
   ]
  }
 ],
 "metadata": {
  "kernelspec": {
   "display_name": "Python 3",
   "language": "python",
   "name": "python3"
  },
  "language_info": {
   "codemirror_mode": {
    "name": "ipython",
    "version": 3
   },
   "file_extension": ".py",
   "mimetype": "text/x-python",
   "name": "python",
   "nbconvert_exporter": "python",
   "pygments_lexer": "ipython3",
   "version": "3.8.3"
  }
 },
 "nbformat": 4,
 "nbformat_minor": 4
}
