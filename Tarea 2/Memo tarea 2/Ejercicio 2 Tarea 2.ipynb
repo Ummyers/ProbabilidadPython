{
 "cells": [
  {
   "cell_type": "markdown",
   "metadata": {
    "id": "rvX2aVwEOxWd"
   },
   "source": [
    "# Ejercicio 2 Tarea 2"
   ]
  },
  {
   "cell_type": "markdown",
   "metadata": {
    "id": "egoGDNgbOxWk"
   },
   "source": [
    "Supongamos que un dado justo se lanza dos veces. Consideremos las siguientes variables aleatorias:\n",
    "\n",
    "\\begin{align*}\n",
    "\tX&=\\text{el valor máximo que aparece en los dos lanzamientos}\\\\\n",
    "\tY&=\\text{el valor mínimo que aparece en los dos lanzamientos}\\\\\n",
    "\tZ&=\\text{la suma de los números que aparecen en los dos lanzamientos}\\\\\n",
    "\tW&=\\text{la resta de los números que aparecen en los dos lanzamientos}\n",
    "\t\\end{align*}\n",
    "    \n",
    "Encuentra la ley (distribución o función de probabilidades discreta) de estas variables aleatorias. Además, encuentra la esperanza y varianza de cada una de ellas."
   ]
  },
  {
   "cell_type": "markdown",
   "metadata": {
    "id": "w1OhvK9cOxWl"
   },
   "source": [
    "## Espacio Muestral"
   ]
  },
  {
   "cell_type": "markdown",
   "metadata": {
    "id": "xz5W1dn7OxWm"
   },
   "source": [
    "$$\n",
    "\\Omega=\\{(i,j):1\\le i,j\\le 6, \\text{ enteros}\\}\n",
    "$$"
   ]
  },
  {
   "cell_type": "code",
   "execution_count": 2,
   "metadata": {
    "id": "t7zwcJgpOxWn",
    "outputId": "95b91547-d7aa-472a-fe85-2f74e3609a6f"
   },
   "outputs": [
    {
     "data": {
      "text/plain": [
       "[(1, 1),\n",
       " (1, 2),\n",
       " (1, 3),\n",
       " (1, 4),\n",
       " (1, 5),\n",
       " (1, 6),\n",
       " (2, 1),\n",
       " (2, 2),\n",
       " (2, 3),\n",
       " (2, 4),\n",
       " (2, 5),\n",
       " (2, 6),\n",
       " (3, 1),\n",
       " (3, 2),\n",
       " (3, 3),\n",
       " (3, 4),\n",
       " (3, 5),\n",
       " (3, 6),\n",
       " (4, 1),\n",
       " (4, 2),\n",
       " (4, 3),\n",
       " (4, 4),\n",
       " (4, 5),\n",
       " (4, 6),\n",
       " (5, 1),\n",
       " (5, 2),\n",
       " (5, 3),\n",
       " (5, 4),\n",
       " (5, 5),\n",
       " (5, 6),\n",
       " (6, 1),\n",
       " (6, 2),\n",
       " (6, 3),\n",
       " (6, 4),\n",
       " (6, 5),\n",
       " (6, 6)]"
      ]
     },
     "execution_count": 2,
     "metadata": {},
     "output_type": "execute_result"
    }
   ],
   "source": [
    "Omega=[(i,j) for i in range(1,7) for j in range(1,7)]\n",
    "Omega"
   ]
  },
  {
   "cell_type": "markdown",
   "metadata": {
    "id": "fAoJpBKQOxWu"
   },
   "source": [
    "Debemos darnos cuenta que estamos ante un modelo uniforme discreto (laplaciano, clásico) de probabilidad. La clase se eventos es el potencia de $\\Omega$, es decir $\\mathcal F=2^\\Omega$. Y la medida de probabilidad está dada por\n",
    "\n",
    "$$\n",
    "\\mathbb P(A)=\\frac{|A|}{|\\Omega|},\\qquad\\forall\\,A\\subset\\Omega.\n",
    "$$\n",
    "\n",
    "Aquí $|\\Omega|=36$."
   ]
  },
  {
   "cell_type": "markdown",
   "metadata": {
    "id": "rzeTLYAoOxWv"
   },
   "source": [
    "## La variable aleatoria $X$"
   ]
  },
  {
   "cell_type": "markdown",
   "metadata": {
    "id": "DSaOiRzcOxWw"
   },
   "source": [
    "La v.a. $X$ es una función $X:\\Omega\\to\\mathbb R$ que está definida por la regla\n",
    "\n",
    "$$\n",
    "X(i,j)=\\max\\{i,j\\},\\qquad(i,j)\\in\\Omega\n",
    "$$"
   ]
  },
  {
   "cell_type": "code",
   "execution_count": 3,
   "metadata": {
    "id": "SDOAU8dxOxWw",
    "outputId": "b46f839c-f76a-4a99-a62a-32b936e89421"
   },
   "outputs": [
    {
     "data": {
      "text/plain": [
       "{(1, 1): 1,\n",
       " (1, 2): 2,\n",
       " (1, 3): 3,\n",
       " (1, 4): 4,\n",
       " (1, 5): 5,\n",
       " (1, 6): 6,\n",
       " (2, 1): 2,\n",
       " (2, 2): 2,\n",
       " (2, 3): 3,\n",
       " (2, 4): 4,\n",
       " (2, 5): 5,\n",
       " (2, 6): 6,\n",
       " (3, 1): 3,\n",
       " (3, 2): 3,\n",
       " (3, 3): 3,\n",
       " (3, 4): 4,\n",
       " (3, 5): 5,\n",
       " (3, 6): 6,\n",
       " (4, 1): 4,\n",
       " (4, 2): 4,\n",
       " (4, 3): 4,\n",
       " (4, 4): 4,\n",
       " (4, 5): 5,\n",
       " (4, 6): 6,\n",
       " (5, 1): 5,\n",
       " (5, 2): 5,\n",
       " (5, 3): 5,\n",
       " (5, 4): 5,\n",
       " (5, 5): 5,\n",
       " (5, 6): 6,\n",
       " (6, 1): 6,\n",
       " (6, 2): 6,\n",
       " (6, 3): 6,\n",
       " (6, 4): 6,\n",
       " (6, 5): 6,\n",
       " (6, 6): 6}"
      ]
     },
     "execution_count": 3,
     "metadata": {},
     "output_type": "execute_result"
    }
   ],
   "source": [
    "X={(i,j):max(i,j) for i,j in Omega}\n",
    "X"
   ]
  },
  {
   "cell_type": "markdown",
   "metadata": {
    "id": "c7Tz2jhdOxW1"
   },
   "source": [
    "El rango de valores de $X$ está dado por el conjunto\n",
    "\n",
    "$$\n",
    "\\mathrm{rango}(X)=\\{1,2,3,4,5,6\\}.\n",
    "$$"
   ]
  },
  {
   "cell_type": "code",
   "execution_count": 4,
   "metadata": {
    "id": "gKpSDZ9eOxW2",
    "outputId": "c2198dd2-d992-46c4-a1d8-ce78f664a7f4"
   },
   "outputs": [
    {
     "data": {
      "text/plain": [
       "{1, 2, 3, 4, 5, 6}"
      ]
     },
     "execution_count": 4,
     "metadata": {},
     "output_type": "execute_result"
    }
   ],
   "source": [
    "set(X.values())"
   ]
  },
  {
   "cell_type": "markdown",
   "metadata": {
    "id": "5u27Ve2_OxW5"
   },
   "source": [
    "## La ley de $X$"
   ]
  },
  {
   "cell_type": "markdown",
   "metadata": {
    "id": "qdUQRoTAOxW6"
   },
   "source": [
    "Para calcular la ley de $X$ debemos considerar los siguiente eventos"
   ]
  },
  {
   "cell_type": "markdown",
   "metadata": {
    "id": "dTs-uWKyOxW7"
   },
   "source": [
    "\\begin{align}\n",
    "(X=k):=X^{-1}(k)&=\\{(i,j)\\in\\Omega:X(i,j)=k\\},\\\\[0.3em]\n",
    "&=\\{(i,j)\\in\\Omega:\\max(i,j)=k\\},\\qquad k=1,2,3,4,5,6,\n",
    "\\end{align}"
   ]
  },
  {
   "cell_type": "markdown",
   "metadata": {
    "id": "48NKmZq4OxW8"
   },
   "source": [
    "Por ejemplo:"
   ]
  },
  {
   "cell_type": "markdown",
   "metadata": {
    "id": "mJbyMph6OxW8"
   },
   "source": [
    "$$\n",
    "(X=3)=X^{-1}(3)=\\{(i,j)\\in\\Omega:\\max(i,j)=3\\}=\\{(1,3),(2,3),(3,2),(3,1),(3,3)\\}\n",
    "$$"
   ]
  },
  {
   "cell_type": "code",
   "execution_count": 5,
   "metadata": {
    "id": "7le0AQAjOxW9",
    "outputId": "f99d8635-64ff-42cf-e518-1dc9de19b11f"
   },
   "outputs": [
    {
     "data": {
      "text/plain": [
       "defaultdict(list,\n",
       "            {1: [(1, 1)],\n",
       "             2: [(1, 2), (2, 1), (2, 2)],\n",
       "             3: [(1, 3), (2, 3), (3, 1), (3, 2), (3, 3)],\n",
       "             4: [(1, 4), (2, 4), (3, 4), (4, 1), (4, 2), (4, 3), (4, 4)],\n",
       "             5: [(1, 5),\n",
       "              (2, 5),\n",
       "              (3, 5),\n",
       "              (4, 5),\n",
       "              (5, 1),\n",
       "              (5, 2),\n",
       "              (5, 3),\n",
       "              (5, 4),\n",
       "              (5, 5)],\n",
       "             6: [(1, 6),\n",
       "              (2, 6),\n",
       "              (3, 6),\n",
       "              (4, 6),\n",
       "              (5, 6),\n",
       "              (6, 1),\n",
       "              (6, 2),\n",
       "              (6, 3),\n",
       "              (6, 4),\n",
       "              (6, 5),\n",
       "              (6, 6)]})"
      ]
     },
     "execution_count": 5,
     "metadata": {},
     "output_type": "execute_result"
    }
   ],
   "source": [
    "# Imágenes inversas respecto X\n",
    "\n",
    "from collections import defaultdict\n",
    "iX = defaultdict(list)\n",
    "for i,j in X.items():\n",
    "    iX[j].append(i)\n",
    "    \n",
    "iX"
   ]
  },
  {
   "cell_type": "markdown",
   "metadata": {
    "id": "esR1v01POxXB"
   },
   "source": [
    "La ley (función de probabilidades discreta -no función de distribución acumulativa de probabilides-, la cual determina la *distribución*) de $X$ está dada entonces por"
   ]
  },
  {
   "cell_type": "markdown",
   "metadata": {
    "id": "j5dJQjohOxXC"
   },
   "source": [
    "$$\n",
    "\\mathbb P(X=k)=\\mathbb P(\\{(i,j)\\in\\Omega:\\max(i,j)=k\\})=\\frac{|\\{(i,j)\\in\\Omega:\\max(i,j)=k\\}|}{36}\n",
    "$$"
   ]
  },
  {
   "cell_type": "markdown",
   "metadata": {
    "id": "6tDHDrKjOxXD"
   },
   "source": [
    "La función de distribución acumulativa es\n",
    "\n",
    "$$\n",
    "F(x)=\\sum_{k\\le x}\\mathbb P(X=k)\n",
    "$$\n",
    "\n",
    "la cual no está siendo evaluada aquí."
   ]
  },
  {
   "cell_type": "markdown",
   "metadata": {
    "id": "aVPL2TJLOxXD"
   },
   "source": [
    "Por ejemplo:"
   ]
  },
  {
   "cell_type": "markdown",
   "metadata": {
    "id": "RlFwnGkBOxXE"
   },
   "source": [
    "$$\n",
    "\\mathbb P(X=3)=\\frac{|\\{(i,j)\\in\\Omega:\\max(i,j)=3\\}|}{36}=\\frac{|\\{(1,3),(2,3),(3,2),(3,1),(3,3)\\}|}{36}=\\frac{5}{36}.\n",
    "$$"
   ]
  },
  {
   "cell_type": "code",
   "execution_count": 6,
   "metadata": {
    "id": "1WvaexMqOxXF",
    "outputId": "4fee998c-e34e-4c30-c6b8-8f5cb3471c33"
   },
   "outputs": [
    {
     "data": {
      "text/plain": [
       "{1: 1, 2: 3, 3: 5, 4: 7, 5: 9, 6: 11}"
      ]
     },
     "execution_count": 6,
     "metadata": {},
     "output_type": "execute_result"
    }
   ],
   "source": [
    "# Tamaños de los eventos (X=k)\n",
    "\n",
    "TX={i:len(j) for i,j in iX.items()} \n",
    "TX"
   ]
  },
  {
   "cell_type": "markdown",
   "metadata": {
    "id": "FjmpUwA8OxXW"
   },
   "source": [
    "La ley de $X$ queda entonces como la función:"
   ]
  },
  {
   "cell_type": "markdown",
   "metadata": {
    "id": "SkF6fCLFOxXW"
   },
   "source": [
    "$$\n",
    "\\mathbb P(X=k)=\n",
    "\\begin{cases}\n",
    "\\frac{1}{36} & \\text{si } k=1\\\\[0.35em]\n",
    "\\frac{3}{36}= \\frac{1}{12} & \\text{si } k=2\\\\[0.35em]\n",
    "\\frac{5}{36} & \\text{si } k=3\\\\[0.35em]\n",
    "\\frac{7}{36} & \\text{si } k=4\\\\[0.35em]\n",
    "\\frac{9}{36}=\\frac{1}{4} & \\text{si } k=5\\\\[0.35em]\n",
    "\\frac{11}{36} & \\text{si } k=6\n",
    "\\end{cases}\n",
    "$$"
   ]
  },
  {
   "cell_type": "markdown",
   "metadata": {},
   "source": [
    "La función **Esperanza** recibe un diccionario porcesado por la función items que calcula la Esperanza de la variable aleatoria definida por el diccionario."
   ]
  },
  {
   "cell_type": "code",
   "execution_count": null,
   "metadata": {},
   "outputs": [],
   "source": []
  },
  {
   "cell_type": "code",
   "execution_count": 7,
   "metadata": {
    "id": "EwN3FdLUOxXX",
    "outputId": "f0877b8e-ef90-42ce-d2e8-3b7ad201dba1"
   },
   "outputs": [
    {
     "data": {
      "text/plain": [
       "{1: 0.027777777777777776,\n",
       " 2: 0.08333333333333333,\n",
       " 3: 0.1388888888888889,\n",
       " 4: 0.19444444444444445,\n",
       " 5: 0.25,\n",
       " 6: 0.3055555555555556}"
      ]
     },
     "execution_count": 7,
     "metadata": {},
     "output_type": "execute_result"
    }
   ],
   "source": [
    "leyX={i:len(j)/36 for i,j in iX.items()}\n",
    "leyX"
   ]
  },
  {
   "cell_type": "code",
   "execution_count": 8,
   "metadata": {
    "id": "YCO3-VkvOxXb",
    "outputId": "55e09077-0d31-438b-aaef-95e8987dc4f3"
   },
   "outputs": [
    {
     "data": {
      "image/png": "[encoded data removed]",
      "text/plain": [
       "<Figure size 432x288 with 1 Axes>"
      ]
     },
     "metadata": {
      "needs_background": "light"
     },
     "output_type": "display_data"
    }
   ],
   "source": [
    "import matplotlib.pyplot as plt\n",
    "\n",
    "plt.scatter(x=leyX.keys(), y=leyX.values())\n",
    "plt.ylim(0,1)\n",
    "plt.grid()\n",
    "plt.xlabel(\"$k$\",fontsize=14)\n",
    "plt.ylabel(\"$P(X=k)$\",fontsize=14)\n",
    "plt.title(\"Ley (función de probabilidades) de $X$\",fontsize=14)\n",
    "plt.show()"
   ]
  },
  {
   "cell_type": "markdown",
   "metadata": {
    "id": "ia_DM3xnOxXi"
   },
   "source": [
    "### Ejercicio"
   ]
  },
  {
   "cell_type": "markdown",
   "metadata": {
    "id": "pzKWB94nOxXj"
   },
   "source": [
    "Calcula la esperanza y la varianza de $X$ con **Python**"
   ]
  },
  {
   "cell_type": "markdown",
   "metadata": {
    "id": "B7CBekOvOxXj"
   },
   "source": [
    "## Una expresión analítica para la ley de $X$"
   ]
  },
  {
   "cell_type": "markdown",
   "metadata": {
    "id": "tV1kqo0aOxXk"
   },
   "source": [
    "Podemos obtener otra representación de los eventos $(X=k)$:"
   ]
  },
  {
   "cell_type": "markdown",
   "metadata": {
    "id": "XsdtvcYNOxXl"
   },
   "source": [
    "\\begin{align}\n",
    "(X=k)&=\\{(i,j)\\in\\Omega:\\max(i,j)=k\\}\\\\[0.3em]\n",
    "&=\\{(k,k)\\}\\cup\\{(i,k):1\\le i<k\\}\\cup\\{(k,i):1\\le i<k\\}\n",
    "\\end{align}"
   ]
  },
  {
   "cell_type": "markdown",
   "metadata": {
    "id": "00JJ9JYDOxXm"
   },
   "source": [
    "Por lo tanto:"
   ]
  },
  {
   "cell_type": "markdown",
   "metadata": {
    "id": "JI2gj1ecOxXm"
   },
   "source": [
    "\\begin{align}\n",
    "|(X=k)|&=|\\{(k,k)\\}|+|\\{(i,k):1\\le i<k\\}|+|\\{(k,i):1\\le i<k\\}|\\\\[0.3em]\n",
    "&=1+(k-1)+(k-1)\\\\[0.3em]\n",
    "&=2k-1\n",
    "\\end{align}"
   ]
  },
  {
   "cell_type": "markdown",
   "metadata": {
    "id": "mP7w19Q4OxXn"
   },
   "source": [
    "De donde:"
   ]
  },
  {
   "cell_type": "markdown",
   "metadata": {
    "id": "lNNAZ6nBOxXo"
   },
   "source": [
    "$$\n",
    "\\mathbb P(X=k)=\\frac{2k-1}{36},\\qquad k=1,2,3,4,5,6.\n",
    "$$"
   ]
  },
  {
   "cell_type": "markdown",
   "metadata": {
    "id": "bvb-pY98OxXo"
   },
   "source": [
    "Por lo tanto:"
   ]
  },
  {
   "cell_type": "markdown",
   "metadata": {
    "id": "T1omtwlDOxXp"
   },
   "source": [
    "\\begin{align}\n",
    "\\mathbb E(X)&=\\sum_{k=1}^6 k \\mathbb P(X=k)\\\\[0.5em]\n",
    "&=\\sum_{k=1}^6 k \\frac{2k-1}{36}\\\\[0.5em]\n",
    "&=\\frac{1}{36}\\left(2\\sum_{k=1}^6 k^2-\\sum_{k=1}^6 k\\right)\\\\[0.5em]\n",
    "&=\\frac{1}{36}\\left(2\\frac{6(6+1)(2\\cdot 6+1)}{6}-\\frac{6(6+1)}{2}\\right)\\\\[0.5em]\n",
    "&=\\frac{1}{36}\\big(2\\cdot91-21\\big)\\\\[0.5em]\n",
    "&=\\frac{161}{36}\n",
    "\\end{align}"
   ]
  },
  {
   "cell_type": "markdown",
   "metadata": {
    "id": "pf8f6s99OxXq"
   },
   "source": [
    "## La variable aleatoria $Z$"
   ]
  },
  {
   "cell_type": "markdown",
   "metadata": {
    "id": "7P3Z80beOxXq"
   },
   "source": [
    "La v.a. $Z$ es una función $Z:\\Omega\\to\\mathbb R$ definida por la regla:\n",
    "\n",
    "$$\n",
    "Z(i,j)=i+j,\\qquad (i,j)\\in\\Omega.\n",
    "$$"
   ]
  },
  {
   "cell_type": "code",
   "execution_count": 9,
   "metadata": {
    "id": "qwC87v1EOxXr",
    "outputId": "5e6a8532-a7ec-4548-a40e-004411321173"
   },
   "outputs": [
    {
     "data": {
      "text/plain": [
       "{(1, 1): 2,\n",
       " (1, 2): 3,\n",
       " (1, 3): 4,\n",
       " (1, 4): 5,\n",
       " (1, 5): 6,\n",
       " (1, 6): 7,\n",
       " (2, 1): 3,\n",
       " (2, 2): 4,\n",
       " (2, 3): 5,\n",
       " (2, 4): 6,\n",
       " (2, 5): 7,\n",
       " (2, 6): 8,\n",
       " (3, 1): 4,\n",
       " (3, 2): 5,\n",
       " (3, 3): 6,\n",
       " (3, 4): 7,\n",
       " (3, 5): 8,\n",
       " (3, 6): 9,\n",
       " (4, 1): 5,\n",
       " (4, 2): 6,\n",
       " (4, 3): 7,\n",
       " (4, 4): 8,\n",
       " (4, 5): 9,\n",
       " (4, 6): 10,\n",
       " (5, 1): 6,\n",
       " (5, 2): 7,\n",
       " (5, 3): 8,\n",
       " (5, 4): 9,\n",
       " (5, 5): 10,\n",
       " (5, 6): 11,\n",
       " (6, 1): 7,\n",
       " (6, 2): 8,\n",
       " (6, 3): 9,\n",
       " (6, 4): 10,\n",
       " (6, 5): 11,\n",
       " (6, 6): 12}"
      ]
     },
     "execution_count": 9,
     "metadata": {},
     "output_type": "execute_result"
    }
   ],
   "source": [
    "Z={(i,j):i+j for i,j in Omega}\n",
    "Z"
   ]
  },
  {
   "cell_type": "markdown",
   "metadata": {
    "id": "YvcjV6R_OxXv"
   },
   "source": [
    "El rango de valores de $Z$ está dado por el conjunto\n",
    "\n",
    "$$\n",
    "\\mathrm{rango}(Z):=\\{2,3,4,5,6,7,8,9,10,11,12\\}.\n",
    "$$"
   ]
  },
  {
   "cell_type": "code",
   "execution_count": 10,
   "metadata": {
    "id": "Lenffp_1OxXy",
    "outputId": "32810a23-56ac-4c0d-82b4-955cca016080"
   },
   "outputs": [
    {
     "data": {
      "text/plain": [
       "{2, 3, 4, 5, 6, 7, 8, 9, 10, 11, 12}"
      ]
     },
     "execution_count": 10,
     "metadata": {},
     "output_type": "execute_result"
    }
   ],
   "source": [
    "set(Z.values())"
   ]
  },
  {
   "cell_type": "markdown",
   "metadata": {
    "id": "jr3c5Rn9OxX5"
   },
   "source": [
    "## La ley de $Z$"
   ]
  },
  {
   "cell_type": "markdown",
   "metadata": {
    "id": "_DZw2iy1OxX6"
   },
   "source": [
    "Para calcular la ley de $Z$ debemos considerar los siguiente eventos"
   ]
  },
  {
   "cell_type": "markdown",
   "metadata": {
    "id": "R_16kCaKOxX7"
   },
   "source": [
    "\\begin{align}\n",
    "(Z=k):=Z^{-1}(k)&=\\{(i,j)\\in\\Omega:Z(i,j)=k\\},\\\\[0.3em]\n",
    "&=\\{(i,j)\\in\\Omega:i+j=k\\},\\qquad k=2,3,\\dots,12.\n",
    "\\end{align}"
   ]
  },
  {
   "cell_type": "markdown",
   "metadata": {
    "id": "J6N5G7naOxX7"
   },
   "source": [
    "Por ejemplo:"
   ]
  },
  {
   "cell_type": "markdown",
   "metadata": {
    "id": "iRtGDAbbOxX8"
   },
   "source": [
    "$$\n",
    "(Z=5)=Z^{-1}(5)=\\{(i,j)\\in\\Omega:i+j=5\\}=\\{(1,4),(2,3),(3,2),(4,1)\\}\n",
    "$$"
   ]
  },
  {
   "cell_type": "markdown",
   "metadata": {
    "id": "IZpK6q-UOxX8"
   },
   "source": [
    "$$\n",
    "(Z=9)=Z^{-1}(9)=\\{(i,j)\\in\\Omega:i+j=9\\}=\\{(3,6),(4,5),(5,4),(6,3)\\}\n",
    "$$"
   ]
  },
  {
   "cell_type": "code",
   "execution_count": 11,
   "metadata": {
    "id": "20E0kmXQOxX9",
    "outputId": "72ecfec8-3e3b-47e9-f222-cb8f0c1640e2"
   },
   "outputs": [
    {
     "data": {
      "text/plain": [
       "defaultdict(list,\n",
       "            {2: [(1, 1)],\n",
       "             3: [(1, 2), (2, 1)],\n",
       "             4: [(1, 3), (2, 2), (3, 1)],\n",
       "             5: [(1, 4), (2, 3), (3, 2), (4, 1)],\n",
       "             6: [(1, 5), (2, 4), (3, 3), (4, 2), (5, 1)],\n",
       "             7: [(1, 6), (2, 5), (3, 4), (4, 3), (5, 2), (6, 1)],\n",
       "             8: [(2, 6), (3, 5), (4, 4), (5, 3), (6, 2)],\n",
       "             9: [(3, 6), (4, 5), (5, 4), (6, 3)],\n",
       "             10: [(4, 6), (5, 5), (6, 4)],\n",
       "             11: [(5, 6), (6, 5)],\n",
       "             12: [(6, 6)]})"
      ]
     },
     "execution_count": 11,
     "metadata": {},
     "output_type": "execute_result"
    }
   ],
   "source": [
    "# Imágenes inversas respecto Z\n",
    "\n",
    "from collections import defaultdict\n",
    "iZ = defaultdict(list)\n",
    "for i,j in Z.items():\n",
    "    iZ[j].append(i)\n",
    "    \n",
    "iZ"
   ]
  },
  {
   "cell_type": "code",
   "execution_count": 12,
   "metadata": {
    "id": "wEu_SglPOxYF",
    "outputId": "31440f1e-9d95-4470-a65c-9423446464bf"
   },
   "outputs": [
    {
     "data": {
      "text/plain": [
       "{2: 1, 3: 2, 4: 3, 5: 4, 6: 5, 7: 6, 8: 5, 9: 4, 10: 3, 11: 2, 12: 1}"
      ]
     },
     "execution_count": 12,
     "metadata": {},
     "output_type": "execute_result"
    }
   ],
   "source": [
    "# Tamaños de los eventos (Z=k)\n",
    "\n",
    "TZ={i:len(j) for i,j in iZ.items()} \n",
    "TZ"
   ]
  },
  {
   "cell_type": "markdown",
   "metadata": {
    "id": "YxtzJsNeOxYJ"
   },
   "source": [
    "La ley de $Z$ queda dada entonces por la función:"
   ]
  },
  {
   "cell_type": "markdown",
   "metadata": {
    "id": "IcxKWecnOxYK"
   },
   "source": [
    "$$\n",
    "\\mathbb P(Z=k)=\n",
    "\\begin{cases}\n",
    "\\frac{1}{36} & \\text{si } k=2\\\\[0.35em]\n",
    "\\frac{2}{36}=\\frac{1}{18} & \\text{si } k=3\\\\[0.35em]\n",
    "\\frac{3}{36}=\\frac{1}{12} & \\text{si } k=4\\\\[0.35em]\n",
    "\\frac{4}{36}=\\frac{1}{9} & \\text{si } k=5\\\\[0.35em]\n",
    "\\frac{5}{36} & \\text{si } k=6\\\\[0.35em]\n",
    "\\frac{6}{36}=\\frac{1}{6} & \\text{si } k=7\\\\[0.35em]\n",
    "\\frac{5}{36} & \\text{si } k=8\\\\[0.35em]\n",
    "\\frac{4}{36}=\\frac{1}{9} & \\text{si } k=9\\\\[0.35em]\n",
    "\\frac{3}{36}=\\frac{1}{12} & \\text{si } k=10\\\\[0.35em]\n",
    "\\frac{2}{36}=\\frac{1}{18} & \\text{si } k=11\\\\[0.35em]\n",
    "\\frac{1}{36} & \\text{si } k=12\n",
    "\\end{cases}\n",
    "$$"
   ]
  },
  {
   "cell_type": "code",
   "execution_count": 13,
   "metadata": {
    "id": "OYnJCVGZOxYL",
    "outputId": "1a16c68c-51c6-4292-91c3-9059aa8e869f"
   },
   "outputs": [
    {
     "data": {
      "text/plain": [
       "{2: 0.027777777777777776,\n",
       " 3: 0.05555555555555555,\n",
       " 4: 0.08333333333333333,\n",
       " 5: 0.1111111111111111,\n",
       " 6: 0.1388888888888889,\n",
       " 7: 0.16666666666666666,\n",
       " 8: 0.1388888888888889,\n",
       " 9: 0.1111111111111111,\n",
       " 10: 0.08333333333333333,\n",
       " 11: 0.05555555555555555,\n",
       " 12: 0.027777777777777776}"
      ]
     },
     "execution_count": 13,
     "metadata": {},
     "output_type": "execute_result"
    }
   ],
   "source": [
    "leyZ={i:len(j)/36 for i,j in iZ.items()}\n",
    "leyZ"
   ]
  },
  {
   "cell_type": "markdown",
   "metadata": {
    "id": "IxBZsu_sOxYU"
   },
   "source": [
    "### Ejercicio"
   ]
  },
  {
   "cell_type": "markdown",
   "metadata": {
    "id": "vjd4kY_sOxYV"
   },
   "source": [
    "Calcula la esperanza y la varianza de $Z$ con **Python**"
   ]
  },
  {
   "cell_type": "code",
   "execution_count": 54,
   "metadata": {},
   "outputs": [],
   "source": [
    "ZDic = leyZ.items()"
   ]
  },
  {
   "cell_type": "markdown",
   "metadata": {},
   "source": [
    "Funcion **SumaUno**, para simplemente verificar que la suma de todas las probabilidades de Omega es igual a uno."
   ]
  },
  {
   "cell_type": "code",
   "execution_count": 39,
   "metadata": {},
   "outputs": [],
   "source": [
    "def SumaUno(dic):\n",
    "    E_sum = 0\n",
    "    for u,v in dic:\n",
    "        E_sum+=v\n",
    "    return E_sum"
   ]
  },
  {
   "cell_type": "markdown",
   "metadata": {},
   "source": [
    "La función **Esperanza** recibe un diccionario porcesado por la función items que calcula la Esperanza de la variable aleatoria definida por el diccionario."
   ]
  },
  {
   "cell_type": "code",
   "execution_count": 41,
   "metadata": {},
   "outputs": [],
   "source": [
    "def Esperanza(dic):\n",
    "    E_sum = 0\n",
    "    for u,v in dic:\n",
    "        E_sum+=v*u\n",
    "    return E_sum"
   ]
  },
  {
   "cell_type": "markdown",
   "metadata": {},
   "source": [
    "La función **Varianza** recibe un diccionario **dic** que contiene la ley de una variable aleatoria y un número **e** que es la esperanza de la variable aleatoria"
   ]
  },
  {
   "cell_type": "code",
   "execution_count": 47,
   "metadata": {},
   "outputs": [],
   "source": [
    "def Varianza(dic,e):\n",
    "    Va_sum = 0\n",
    "    for u,v in dic:\n",
    "        Va_sum += pow(2,u-e)*v\n",
    "    return Va_sum\n",
    "    "
   ]
  },
  {
   "cell_type": "code",
   "execution_count": 55,
   "metadata": {},
   "outputs": [
    {
     "name": "stdout",
     "output_type": "stream",
     "text": [
      "La esperanza de la variable aleatoria Z es:  6.999999999999999\n",
      "La varianza de la variable aleatoria Z es:  3.4453125000000018\n"
     ]
    }
   ],
   "source": [
    "E_leyZ = Esperanza(ZDic)\n",
    "print(\"La esperanza de la variable aleatoria Z es: \",E_leyZ)\n",
    "\n",
    "Var_leyZ = Varianza(ZDic,E_leyZ)\n",
    "print(\"La varianza de la variable aleatoria Z es: \",Var_leyZ)"
   ]
  },
  {
   "cell_type": "code",
   "execution_count": 19,
   "metadata": {
    "id": "BOVR4V1WOxYO",
    "outputId": "da78811b-b6fd-408a-92cc-9d7774ddf9ac"
   },
   "outputs": [
    {
     "data": {
      "image/png": "[encoded data removed]",
      "text/plain": [
       "<Figure size 432x288 with 1 Axes>"
      ]
     },
     "metadata": {
      "needs_background": "light"
     },
     "output_type": "display_data"
    }
   ],
   "source": [
    "import matplotlib.pyplot as plt\n",
    "\n",
    "plt.scatter(x=leyZ.keys(), y=leyZ.values())\n",
    "#plt.ylim(0,1)\n",
    "plt.xticks(list(leyZ.keys()))\n",
    "plt.grid()\n",
    "plt.xlabel(\"$k$\",fontsize=14)\n",
    "plt.ylabel(\"$P(Z=k)$\",fontsize=14)\n",
    "plt.title(\"Ley (función de probabilidades) de $Z$\",fontsize=14)\n",
    "plt.show()"
   ]
  },
  {
   "cell_type": "markdown",
   "metadata": {
    "id": "C3o1no2dOxYW"
   },
   "source": [
    "## Una expresión analítica para la ley de $Z$"
   ]
  },
  {
   "cell_type": "markdown",
   "metadata": {
    "id": "CAyXD3MiOxYW"
   },
   "source": [
    "Para calcular los tamaños de los eventos $(Z=k)$ tomamos dos casos de acuerdo al valor de $k$:"
   ]
  },
  {
   "cell_type": "markdown",
   "metadata": {
    "id": "fBruDvCaOxYX"
   },
   "source": [
    "**Caso I.** Valores $k=2,3,4,5,6.$"
   ]
  },
  {
   "cell_type": "markdown",
   "metadata": {
    "id": "2z3UzDSjOxYY"
   },
   "source": [
    "Pensemos el problema del siguiente modo:"
   ]
  },
  {
   "cell_type": "markdown",
   "metadata": {
    "id": "UqVhq6StOxYY"
   },
   "source": [
    "Tenemos $k$ objetos que queremos repartir en $2$ cajas, de tal manera que ambas cajas tengan al menos un objeto."
   ]
  },
  {
   "cell_type": "markdown",
   "metadata": {
    "id": "GIfF53_-OxYZ"
   },
   "source": [
    "$$\n",
    "\\overbrace{\\star\\quad\\star\\quad\\cdots\\quad\\star}^{\\text{$k$ estrellitas}}\n",
    "$$\n",
    "\n",
    "$$\n",
    "\\underbrace{(\\quad,\\quad)}_{\\text{$2$ cajitas}}\n",
    "$$"
   ]
  },
  {
   "cell_type": "markdown",
   "metadata": {
    "id": "i0ITRVHZOxYa"
   },
   "source": [
    "¿De cuántas formas podemos repartir los $k$ objetos en las $2$ cajitas de tal manera que cada cajita tenga al menos un objeto?"
   ]
  },
  {
   "cell_type": "markdown",
   "metadata": {
    "id": "w7wlkPgmOxYa"
   },
   "source": [
    "Consideremos primero la situación muestra $k=5$."
   ]
  },
  {
   "cell_type": "markdown",
   "metadata": {
    "id": "sHf3ehdGOxYh"
   },
   "source": [
    "$$\n",
    "\\star\\quad\\star\\quad\\star\\quad\\star\\quad\\star\n",
    "$$\n",
    "\n",
    "$$\n",
    "\\underbrace{(\\quad,\\quad)}_{\\text{$2$ cajitas}}\n",
    "$$"
   ]
  },
  {
   "cell_type": "markdown",
   "metadata": {
    "id": "GAkJv_mGOxYi"
   },
   "source": [
    "¿De cuántas formas podemos repartir los $5$ objetos en las $2$ cajitas de tal manera que cada cajita tenga al menos un objeto?"
   ]
  },
  {
   "cell_type": "markdown",
   "metadata": {
    "id": "9b3n0WiqOxYj"
   },
   "source": [
    "Para contar este número vamos a colocar una barra entre las estrellas, de tal manera que dividimos el conjunto de estrellas en 2 partes (que corresponden a los objetos dentro de cada cajita)."
   ]
  },
  {
   "cell_type": "markdown",
   "metadata": {
    "id": "NKGFI9urOxYj"
   },
   "source": [
    "$$\n",
    "\\star\\ \\mid\\ \\star\\quad\\star\\quad\\star\\quad\\star\n",
    "$$\n",
    "\n",
    "$$\n",
    "\\star\\quad\\star\\ \\mid\\ \\star\\quad\\star\\quad\\star\n",
    "$$\n",
    "\n",
    "$$\n",
    "\\star\\quad\\star\\quad\\star\\ \\mid\\ \\star\\quad\\star\n",
    "$$\n",
    "\n",
    "$$\n",
    "\\star\\quad\\star\\quad\\star\\quad\\star\\ \\mid\\ \\star\n",
    "$$"
   ]
  },
  {
   "cell_type": "markdown",
   "metadata": {
    "id": "wwjyTfsNOxYr"
   },
   "source": [
    "Hay entonces $4$ formas de repartir $5$ objetos en dos cajitas de tal manera que ambas cajitas tengan al menos un objeto."
   ]
  },
  {
   "cell_type": "markdown",
   "metadata": {
    "id": "US-a6GOtOxYs"
   },
   "source": [
    "Para $k=6$:"
   ]
  },
  {
   "cell_type": "markdown",
   "metadata": {
    "id": "Iq2I2C33OxYt"
   },
   "source": [
    "$$\n",
    "\\star\\ \\mid\\ \\star\\quad\\star\\quad\\star\\quad\\star\\quad\\star\n",
    "$$\n",
    "\n",
    "$$\n",
    "\\star\\quad\\star\\ \\mid\\ \\star\\quad\\star\\quad\\star\\quad\\star\n",
    "$$\n",
    "\n",
    "$$\n",
    "\\star\\quad\\star\\quad\\star\\ \\mid\\ \\star\\quad\\star\\quad\\star\n",
    "$$\n",
    "\n",
    "$$\n",
    "\\star\\quad\\star\\quad\\star\\quad\\star\\ \\mid\\ \\star\\quad\\star\n",
    "$$\n",
    "\n",
    "$$\n",
    "\\star\\quad\\star\\quad\\star\\quad\\star\\quad\\star\\ \\mid\\ \\star\n",
    "$$"
   ]
  },
  {
   "cell_type": "markdown",
   "metadata": {
    "id": "3AZ7yFQROxYt"
   },
   "source": [
    "Hay $5$ formas de repartir $6$ objetos en dos cajitas de tal manera que ambas cajitas tengan al menos un objeto."
   ]
  },
  {
   "cell_type": "markdown",
   "metadata": {
    "id": "9KcibxqgOxYu"
   },
   "source": [
    "En general, para $k=2,3,4,5,6$, hay $k-1$ formas de repartir $k$ objetos en $2$ cajitas de tal manera que ambas tengan al menos un objeto."
   ]
  },
  {
   "cell_type": "markdown",
   "metadata": {
    "id": "yIsQ71a_OxYx"
   },
   "source": [
    "Concluimos que si $k=2,3,4,5,6$:\n",
    "\n",
    "$$\n",
    "|(Z=k)|=k-1.\n",
    "$$"
   ]
  },
  {
   "cell_type": "markdown",
   "metadata": {
    "id": "KGe4K2zsOxYy"
   },
   "source": [
    "Y por lo tanto, si $k=2,3,4,5,6$:\n",
    "    \n",
    "$$\n",
    "\\mathbb P(Z=k)=\\frac{k-1}{36}.\n",
    "$$"
   ]
  },
  {
   "cell_type": "markdown",
   "metadata": {
    "id": "ORRHiJELOxYz"
   },
   "source": [
    "**Caso II.** Valores $k=7,8,9,10,11,12$."
   ]
  },
  {
   "cell_type": "markdown",
   "metadata": {
    "id": "r05wsvMxOxYz"
   },
   "source": [
    "Por simetría,\n",
    "\n",
    "$$\n",
    "|(Z=k)|=|(Z=14-k)|\n",
    "$$"
   ]
  },
  {
   "cell_type": "markdown",
   "metadata": {
    "id": "9RCK5ZQmOxY0"
   },
   "source": [
    "Por lo tanto, para $k=7,8,9,10,11,12$:"
   ]
  },
  {
   "cell_type": "markdown",
   "metadata": {
    "id": "mPgMlhXpOxY1"
   },
   "source": [
    "\\begin{align}\n",
    "\\mathbb P(Z=k)&=\\mathbb P(Z=14-k)\\\\[0.5em]\n",
    "&=\\frac{(14-k)-1}{36}\\\\[0.5em]\n",
    "&=\\frac{13-k}{36}\n",
    "\\end{align}"
   ]
  },
  {
   "cell_type": "markdown",
   "metadata": {
    "id": "bD0XywDuOxY6"
   },
   "source": [
    "Podemos resumir lo anterior en una expresión unificada como sigue:"
   ]
  },
  {
   "cell_type": "markdown",
   "metadata": {
    "id": "QGEzzQHjOxY7"
   },
   "source": [
    "$$\n",
    "\\mathbb P(Z=k)=\n",
    "\\begin{cases}\n",
    "\\frac{k-1}{36} & \\text{si } k=2,3,4,5,6,\\\\[0.4em]\n",
    "\\frac{13-k}{36} & \\text{si } k=7,8,9,10,11,12.\n",
    "\\end{cases}\n",
    "$$"
   ]
  },
  {
   "cell_type": "markdown",
   "metadata": {
    "id": "S8wG5hOMOxY8"
   },
   "source": [
    "### Ejercicio"
   ]
  },
  {
   "cell_type": "markdown",
   "metadata": {
    "id": "A1njdPC8OxY8"
   },
   "source": [
    "Usa la expresión anterior para calcular la esperanza de $Z$."
   ]
  }
 ],
 "metadata": {
  "colab": {
   "name": "Ejercicio 2 Tarea 2.ipynb",
   "provenance": []
  },
  "kernelspec": {
   "display_name": "Python 3",
   "language": "python",
   "name": "python3"
  },
  "language_info": {
   "codemirror_mode": {
    "name": "ipython",
    "version": 3
   },
   "file_extension": ".py",
   "mimetype": "text/x-python",
   "name": "python",
   "nbconvert_exporter": "python",
   "pygments_lexer": "ipython3",
   "version": "3.8.3"
  }
 },
 "nbformat": 4,
 "nbformat_minor": 1
}
