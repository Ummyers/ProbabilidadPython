{
 "cells": [
  {
   "cell_type": "markdown",
   "metadata": {},
   "source": [
    "# Ejercicio 1 de la Tarea 2"
   ]
  },
  {
   "cell_type": "markdown",
   "metadata": {},
   "source": [
    "Dos bolas se seleccionan (sin reemplazo) al azar de una urna que contiene $8$ bolas blancas, $4$ bolas negras, y $2$ bolas naranjas. Supongamos que ganamos la cantidad de $2$ pesos por cada bola negra seleccionada y perdemos 1 peso por cada bola blanca seleccionada. Sea $X$ la variable aleatoria que denota nuestra ganancia. ¿Cuál es la ley de $X$? Calcula la esperanza y varianza de $X$."
   ]
  },
  {
   "cell_type": "markdown",
   "metadata": {},
   "source": [
    "![title](bolas_urna.png)"
   ]
  },
  {
   "cell_type": "markdown",
   "metadata": {},
   "source": [
    "Tenemos tres colores posibles por obtener al momento de hacer el experimento. B = Black O = Orange W = White"
   ]
  },
  {
   "cell_type": "code",
   "execution_count": 1,
   "metadata": {},
   "outputs": [],
   "source": [
    "Bolas=['B','O','W']"
   ]
  },
  {
   "cell_type": "markdown",
   "metadata": {},
   "source": [
    "¿Resultados posibles?"
   ]
  },
  {
   "cell_type": "code",
   "execution_count": 2,
   "metadata": {},
   "outputs": [
    {
     "data": {
      "text/plain": [
       "[['B', 'B'],\n",
       " ['B', 'O'],\n",
       " ['B', 'W'],\n",
       " ['O', 'B'],\n",
       " ['O', 'O'],\n",
       " ['O', 'W'],\n",
       " ['W', 'B'],\n",
       " ['W', 'O'],\n",
       " ['W', 'W']]"
      ]
     },
     "execution_count": 2,
     "metadata": {},
     "output_type": "execute_result"
    }
   ],
   "source": [
    "R=[[x,y] for x in Bolas for y in Bolas]\n",
    "R"
   ]
  },
  {
   "cell_type": "markdown",
   "metadata": {},
   "source": [
    "Ahora construimos el experimento dadas las bolas que tenemos dado el color"
   ]
  },
  {
   "cell_type": "code",
   "execution_count": 3,
   "metadata": {},
   "outputs": [
    {
     "data": {
      "text/plain": [
       "['O', 'O', 'B', 'B', 'B', 'B', 'W', 'W', 'W', 'W', 'W', 'W', 'W', 'W']"
      ]
     },
     "execution_count": 3,
     "metadata": {},
     "output_type": "execute_result"
    }
   ],
   "source": [
    "Urna = []\n",
    "for i in range(14):\n",
    "    if i<=1:\n",
    "        Urna.append('O')\n",
    "    elif i<=5:\n",
    "        Urna.append('B')\n",
    "    else:\n",
    "        Urna.append('W')\n",
    "        \n",
    "Urna"
   ]
  },
  {
   "cell_type": "code",
   "execution_count": 4,
   "metadata": {},
   "outputs": [],
   "source": [
    "import random"
   ]
  },
  {
   "cell_type": "code",
   "execution_count": 18,
   "metadata": {},
   "outputs": [
    {
     "data": {
      "text/plain": [
       "'W'"
      ]
     },
     "execution_count": 18,
     "metadata": {},
     "output_type": "execute_result"
    }
   ],
   "source": [
    "b=random.choice(U)\n",
    "b"
   ]
  },
  {
   "cell_type": "markdown",
   "metadata": {},
   "source": [
    "Queremos saber qué bola exactamente elegimos.\n",
    "Primero debemos saber el índice de la bola elegida"
   ]
  },
  {
   "cell_type": "code",
   "execution_count": 19,
   "metadata": {},
   "outputs": [
    {
     "data": {
      "text/plain": [
       "10"
      ]
     },
     "execution_count": 19,
     "metadata": {},
     "output_type": "execute_result"
    }
   ],
   "source": [
    "U.index(b)"
   ]
  },
  {
   "cell_type": "markdown",
   "metadata": {},
   "source": [
    "Ahora quitamos la bola elegida de la urna y en su lugar ponemos 'None'"
   ]
  },
  {
   "cell_type": "code",
   "execution_count": 20,
   "metadata": {},
   "outputs": [
    {
     "data": {
      "text/plain": [
       "['B',\n",
       " 'B',\n",
       " 'B',\n",
       " 'B',\n",
       " 'B',\n",
       " 'B',\n",
       " 'B',\n",
       " 'B',\n",
       " 'O',\n",
       " 'O',\n",
       " 'None',\n",
       " 'W',\n",
       " 'W',\n",
       " 'W',\n",
       " 'W',\n",
       " 'W',\n",
       " 'W',\n",
       " 'W']"
      ]
     },
     "execution_count": 20,
     "metadata": {},
     "output_type": "execute_result"
    }
   ],
   "source": [
    "U[U.index(b)]='None'\n",
    "U"
   ]
  },
  {
   "cell_type": "markdown",
   "metadata": {},
   "source": [
    "Cómo elegimos dos bolas sin reemplazo?"
   ]
  },
  {
   "cell_type": "markdown",
   "metadata": {},
   "source": [
    "Construimos nuestra urna nuevamente"
   ]
  },
  {
   "cell_type": "code",
   "execution_count": 38,
   "metadata": {},
   "outputs": [
    {
     "data": {
      "text/plain": [
       "['B',\n",
       " 'B',\n",
       " 'B',\n",
       " 'B',\n",
       " 'B',\n",
       " 'B',\n",
       " 'B',\n",
       " 'B',\n",
       " 'O',\n",
       " 'O',\n",
       " 'W',\n",
       " 'W',\n",
       " 'W',\n",
       " 'W',\n",
       " 'W',\n",
       " 'W',\n",
       " 'W',\n",
       " 'W']"
      ]
     },
     "execution_count": 38,
     "metadata": {},
     "output_type": "execute_result"
    }
   ],
   "source": [
    "U=[]\n",
    "for i in range(18):\n",
    "    if i<=7:\n",
    "        U.append('B')\n",
    "    elif i<=9:\n",
    "        U.append('O')\n",
    "    else:\n",
    "        U.append('W')\n",
    "        \n",
    "U"
   ]
  },
  {
   "cell_type": "code",
   "execution_count": 39,
   "metadata": {},
   "outputs": [
    {
     "data": {
      "text/plain": [
       "['B']"
      ]
     },
     "execution_count": 39,
     "metadata": {},
     "output_type": "execute_result"
    }
   ],
   "source": [
    "b0=random.choice(U)\n",
    "S=list(b0)\n",
    "S"
   ]
  },
  {
   "cell_type": "code",
   "execution_count": 40,
   "metadata": {},
   "outputs": [
    {
     "data": {
      "text/plain": [
       "'W'"
      ]
     },
     "execution_count": 40,
     "metadata": {},
     "output_type": "execute_result"
    }
   ],
   "source": [
    "U.pop(U.index(b0))\n",
    "b1=random.choice(U)\n",
    "b1"
   ]
  },
  {
   "cell_type": "code",
   "execution_count": 41,
   "metadata": {},
   "outputs": [
    {
     "data": {
      "text/plain": [
       "['B', 'W']"
      ]
     },
     "execution_count": 41,
     "metadata": {},
     "output_type": "execute_result"
    }
   ],
   "source": [
    "S.append(b1)\n",
    "S.sort()\n",
    "S"
   ]
  },
  {
   "cell_type": "markdown",
   "metadata": {},
   "source": [
    "Nos interesa repetir indefinidamente este experimento y clalcular las frecuencias relativas con las que ocurren cada uno de ls resultados R"
   ]
  },
  {
   "cell_type": "code",
   "execution_count": 47,
   "metadata": {},
   "outputs": [
    {
     "name": "stdout",
     "output_type": "stream",
     "text": [
      "dict_items([(('B', 'W'), 41668), (('O', 'W'), 10523), (('W', 'W'), 18567), (('B', 'B'), 18155), (('B', 'O'), 10445), (('O', 'O'), 642)])\n",
      "\n",
      "[(('B', 'B'), 18155), (('B', 'O'), 10445), (('B', 'W'), 41668), (('O', 'O'), 642), (('O', 'W'), 10523), (('W', 'W'), 18567)]\n"
     ]
    }
   ],
   "source": [
    "import random\n",
    "from collections import defaultdict\n",
    "\n",
    "r=100000 # número total de repeticiones\n",
    "\n",
    "n=0 # repetición actual\n",
    "\n",
    "F=defaultdict(int)\n",
    "\n",
    "while n<r:\n",
    "    U=[]\n",
    "    for i in range(18):\n",
    "        if i<=7:\n",
    "            U.append('B')\n",
    "        elif i<=9:\n",
    "            U.append('O')\n",
    "        else:\n",
    "            U.append('W')\n",
    "            \n",
    "    b0=random.choice(U)\n",
    "    U.pop(U.index(b0))\n",
    "    b1=random.choice(U)\n",
    "    S=(b0,b1)\n",
    "    S=tuple(sorted(S))\n",
    "    F[S]+=1\n",
    "    \n",
    "    n+=1\n",
    "    \n",
    "print(F.items())\n",
    "F=sorted(F.items())\n",
    "print()\n",
    "print(F)\n"
   ]
  },
  {
   "cell_type": "code",
   "execution_count": 49,
   "metadata": {},
   "outputs": [
    {
     "data": {
      "image/png": "[encoded data removed]",
      "text/plain": [
       "<Figure size 432x288 with 1 Axes>"
      ]
     },
     "metadata": {
      "needs_background": "light"
     },
     "output_type": "display_data"
    }
   ],
   "source": [
    "import matplotlib.pyplot as plt\n",
    "fig = plt.figure()\n",
    "ax = fig.add_axes([0,0,2,1])\n",
    "resultado = [str(i) for i,j in F]\n",
    "frecuencia = [j for i,j in F]\n",
    "ax.bar(resultado,frecuencia)\n",
    "plt.title(\"Frecuencias en \"+str(r)+\" repeticiones\")\n",
    "plt.show()\n",
    "# Código de Erick del Río"
   ]
  },
  {
   "cell_type": "markdown",
   "metadata": {},
   "source": [
    "Retito: Calcular y graficar las Frecuencias Relativas"
   ]
  },
  {
   "cell_type": "code",
   "execution_count": null,
   "metadata": {},
   "outputs": [],
   "source": []
  }
 ],
 "metadata": {
  "kernelspec": {
   "display_name": "Python 3",
   "language": "python",
   "name": "python3"
  },
  "language_info": {
   "codemirror_mode": {
    "name": "ipython",
    "version": 3
   },
   "file_extension": ".py",
   "mimetype": "text/x-python",
   "name": "python",
   "nbconvert_exporter": "python",
   "pygments_lexer": "ipython3",
   "version": "3.8.3"
  }
 },
 "nbformat": 4,
 "nbformat_minor": 4
}
