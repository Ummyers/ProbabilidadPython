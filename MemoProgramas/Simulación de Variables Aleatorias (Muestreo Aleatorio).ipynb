{
 "cells": [
  {
   "cell_type": "markdown",
   "metadata": {},
   "source": [
    "# 1 El Método de la Transformada Inversa"
   ]
  },
  {
   "cell_type": "markdown",
   "metadata": {},
   "source": [
    "## 1.1 Función de Distribución de una variables aleatoria"
   ]
  },
  {
   "cell_type": "markdown",
   "metadata": {},
   "source": [
    "Sea $X$ una variable aleatoria sobre un espacio de probabilidad $(\\Omega,\\mathcal F,\\mathbb P)$. Esto es, $X:\\Omega\\to\\mathbb R$ es una función tal que para todas $a,b\\in\\mathbb R$,\n",
    "\n",
    "$$\n",
    "(a<X<b)\\in\\mathcal F,\n",
    "$$\n",
    "\n",
    "donde\n",
    "\n",
    "$$\n",
    "(a<X<b):=X^{-1}(a,b)=\\{\\omega\\in\\Omega:a<X(\\omega)<b\\}.\n",
    "$$"
   ]
  },
  {
   "cell_type": "markdown",
   "metadata": {},
   "source": [
    "Definimos la **Función de Distribución** de $X$ como la función $F:\\mathbb R\\to\\mathbb R$ dada por\n",
    "\n",
    "$$\n",
    "F(x):=\\mathbb P(X\\le x), \\qquad x\\in\\mathbb R.\n",
    "$$"
   ]
  },
  {
   "cell_type": "markdown",
   "metadata": {},
   "source": [
    "Donde\n",
    "\n",
    "$$\n",
    "(X\\le x):=X^{-1}(-\\infty,x]=\\{\\omega\\in\\Omega:X(\\omega)\\le x\\}, \\qquad x\\in\\mathbb R.\n",
    "$$"
   ]
  },
  {
   "cell_type": "markdown",
   "metadata": {},
   "source": [
    "### Teorema 1"
   ]
  },
  {
   "cell_type": "markdown",
   "metadata": {},
   "source": [
    "*Propiedades de la Función de Distribución* de una variable aleatoria $X$. Dada una variable aleatoria $X$ sobre un espacio de probabilidad $(\\Omega,\\mathcal F,\\mathbb P)$, si $F$ es la función de distribución de $X$, entonces:\n",
    "\n",
    "1. $0\\le F(x)\\le 1$, para toda $x\\in\\mathbb R$.\n",
    "\n",
    "\n",
    "2. $F$ es no decreciente. Esto es, si $x\\le y$, entonces $F(x)\\le F(y)$.\n",
    "\n",
    "\n",
    "3. $\\displaystyle{\\lim_{x\\to-\\infty}F(x)=0}$ y $\\displaystyle{\\lim_{x\\to+\\infty}F(x)=1}$.\n",
    "\n",
    "\n",
    "4. $F$ es continua por la derecha (*càd*) y tiene límites por la izquierda (*làg*)."
   ]
  },
  {
   "cell_type": "markdown",
   "metadata": {},
   "source": [
    "### Formas Típicas de la Función de Distribución"
   ]
  },
  {
   "cell_type": "markdown",
   "metadata": {},
   "source": [
    "#### Si $X$ es discreta"
   ]
  },
  {
   "cell_type": "markdown",
   "metadata": {},
   "source": [
    "Una variable aleatoria $X$ es **discreta** si el rango de valores de $X$ es un conjunto discreto. Esto es, ell conjunto\n",
    "\n",
    "$$\n",
    "\\mathrm{Rango}(X):=\\{k\\in\\mathbb R: X(\\omega)=k, \\text{ para algún }\\omega\\in\\Omega\\}\n",
    "$$\n",
    "\n",
    "es finito o a lo sumo numerable y cada uno de sus puntos es un punto aislado de $\\mathbb R$."
   ]
  },
  {
   "cell_type": "markdown",
   "metadata": {},
   "source": [
    "Generalmente, sin pérdida de generalidad, asumimos que el rango de una variable aleatoria discreta es $\\mathbb N$ o un subconjunto de $\\mathbb N$. También podemos elegir $\\mathbb Z$."
   ]
  },
  {
   "cell_type": "markdown",
   "metadata": {},
   "source": [
    "Tenemos entonces que\n",
    "\n",
    "$$\n",
    "\\sum_{k\\in\\mathrm{Rango}(X)}\\mathbb P(X=k)=1.\n",
    "$$"
   ]
  },
  {
   "cell_type": "markdown",
   "metadata": {},
   "source": [
    "La función de distribución de una variable aleatoria discreta $X$ está dada por\n",
    "\n",
    "$$\n",
    "F(x)=\\mathbb P(X\\le x)=\\sum_{k\\le x}\\mathbb P(X=k).\n",
    "$$"
   ]
  },
  {
   "cell_type": "markdown",
   "metadata": {},
   "source": [
    "![title](discrete.jpg)"
   ]
  },
  {
   "cell_type": "markdown",
   "metadata": {},
   "source": [
    "En la gráfica se muestra la función de dsitribución de una variable aleatoria discreta $X$ con rango el conjunto $\\mathrm{Rango}(X)=\\{-2,0,2,4,5\\}$, y que tiene función de probabilidades dada por"
   ]
  },
  {
   "cell_type": "markdown",
   "metadata": {},
   "source": [
    "$$\n",
    "\\mathbb P(X=k)=\n",
    "\\begin{cases}\n",
    "\\frac 16 & \\text{ si } \\ k=-2,\\\\[0.3em]\n",
    "\\frac 16 & \\text{ si } \\ k=0,\\\\[0.3em]\n",
    "\\frac 13 & \\text{ si } \\ k=2,\\\\[0.3em]\n",
    "\\frac 16 & \\text{ si } \\ k=4,\\\\[0.3em]\n",
    "\\frac 16 & \\text{ si } \\ k=5.\n",
    "\\end{cases}\n",
    "$$"
   ]
  },
  {
   "cell_type": "markdown",
   "metadata": {},
   "source": [
    "Por lo tanto, la función de distribución de $X$ (mostrada en la gráfica de arriba) está dada por"
   ]
  },
  {
   "cell_type": "markdown",
   "metadata": {},
   "source": [
    "$$\n",
    "F(x)=\n",
    "\\begin{cases}\n",
    "0 & \\text{ si } \\ x<-2,\\\\[0.3em]\n",
    "\\frac 16 & \\text{ si } \\ -2\\le x<0\\\\[0.3em]\n",
    "\\frac 13 & \\text{ si } \\ 0\\le x<2\\\\[0.3em]\n",
    "\\frac 23 & \\text{ si } \\ 2\\le x<4\\\\[0.3em]\n",
    "\\frac 56 & \\text{ si } \\ 4\\le x<5\\\\[0.3em]\n",
    "1 & \\text{ si } \\ x\\ge 5.\n",
    "\\end{cases}\n",
    "$$"
   ]
  },
  {
   "cell_type": "markdown",
   "metadata": {},
   "source": [
    "#### Si $X$ es absolutamente continua"
   ]
  },
  {
   "cell_type": "markdown",
   "metadata": {},
   "source": [
    "Una variable aleatoria $X$ es absolutamente continua si existe una función $f:\\mathbb R\\to\\mathbb R$ no negativa, llamada **función de densidad**, tal que $\\int_{-\\infty}^\\infty f(t)dt=1$ y\n",
    "\n",
    "$$\n",
    "F(x)=\\int_{-\\infty}^xf(t)dt, \\qquad x\\in\\mathbb R.\n",
    "$$"
   ]
  },
  {
   "cell_type": "markdown",
   "metadata": {},
   "source": [
    "![title](logistic.jpg)"
   ]
  },
  {
   "cell_type": "markdown",
   "metadata": {},
   "source": [
    "En la gráfica se muestra la función de distribución de una variable aleatoria absolutamente continua con función de distribución **logística** dada por\n",
    "\n",
    "$$\n",
    "F(x)=\\frac 1{1+e^{-x}},\\qquad-\\infty<x<\\infty.\n",
    "$$"
   ]
  },
  {
   "cell_type": "markdown",
   "metadata": {},
   "source": [
    "## 1.2 Funciones de Distribución (de probabilidad)"
   ]
  },
  {
   "cell_type": "markdown",
   "metadata": {},
   "source": [
    "En general, cualquier función $F:\\mathbb R\\to\\mathbb R$ que cumpla las propiedades del **Teorema 1**, es llamada **Función de Distribución** (**de Probabilidades**)."
   ]
  },
  {
   "cell_type": "markdown",
   "metadata": {},
   "source": [
    "### Ejemplo: La Función *Escalera* de Cantor"
   ]
  },
  {
   "cell_type": "markdown",
   "metadata": {},
   "source": [
    "La función *Escalera* de Cantor es la función $s:[0,1]\\to[0,1]$ que resulta del siguiente proceso iterativo:"
   ]
  },
  {
   "cell_type": "markdown",
   "metadata": {},
   "source": [
    "![title](cantor_function.jpg)"
   ]
  },
  {
   "cell_type": "markdown",
   "metadata": {},
   "source": [
    "En el límite:"
   ]
  },
  {
   "cell_type": "markdown",
   "metadata": {},
   "source": [
    "![title](cantor_function_final.jpg)"
   ]
  },
  {
   "cell_type": "markdown",
   "metadata": {},
   "source": [
    "Fuentes:\n",
    "    \n",
    "1. [Wipedia - Cantor Function](https://en.wikipedia.org/wiki/Cantor_function)\n",
    "\n",
    "2. [Wolfram Demostrations Projects - Cantor Function](https://demonstrations.wolfram.com/CantorFunction)\n",
    "\n",
    "3. [tex.stackexchange.com - Plotting the Cantor function](https://tex.stackexchange.com/questions/241622/plotting-the-cantor-function)\n",
    "\n",
    "4. [stackoverflow.com - Cantor ternary set in Python](https://stackoverflow.com/questions/17809817/cantor-ternary-set-in-python-or-c/17810389#17810389)\n"
   ]
  },
  {
   "cell_type": "markdown",
   "metadata": {},
   "source": [
    "Definimos entonces la función $F:\\mathbb R\\to\\mathbb R$ dada por \n",
    "\n",
    "$$\n",
    "F(x)=\n",
    "\\begin{cases}\n",
    "0 & \\text{ si } \\ x<0,\\\\[0.3em]\n",
    "s(x) & \\text{ si }\\ 0\\le x<1,\\\\[0.3em]\n",
    "1 & \\text{ si }x\\ge1,\n",
    "\\end{cases}\n",
    "$$\n",
    "\n",
    "donde $s$ es la función escalera de Cantor sobre $[0,1]$."
   ]
  },
  {
   "cell_type": "markdown",
   "metadata": {},
   "source": [
    "Note entonces que $F$ satisface las propiedades enunciadas en el **Teorema 1**."
   ]
  },
  {
   "cell_type": "markdown",
   "metadata": {},
   "source": [
    "Es decir, $F$ es una función de distribución de probabilidades."
   ]
  },
  {
   "cell_type": "markdown",
   "metadata": {},
   "source": [
    "De hecho, se puede probar que $s$ es una función continua pero no es absolutamente continua."
   ]
  },
  {
   "cell_type": "markdown",
   "metadata": {},
   "source": [
    "**Ejercicio:** Demuestra que $F$ es una función de distribución."
   ]
  },
  {
   "cell_type": "markdown",
   "metadata": {},
   "source": [
    "### Ejemplo: Una distribución que no es discreta ni continua "
   ]
  },
  {
   "cell_type": "markdown",
   "metadata": {},
   "source": [
    "![title](truncada.jpg)"
   ]
  },
  {
   "cell_type": "markdown",
   "metadata": {},
   "source": [
    "La distribución $F$ de la imagen anterior está dada por\n",
    "\n",
    "$$\n",
    "F(x)=\n",
    "\\begin{cases}\n",
    "\\frac 1{1+5\\exp\\left(-\\frac25x\\right)} & \\text{ si } \\ x<2,\\\\[0.5em]\n",
    "\\frac 1{1+2\\exp\\left(-\\frac35x\\right)} & \\text{ si } \\ x\\ge2.\n",
    "\\end{cases}\n",
    "$$"
   ]
  },
  {
   "cell_type": "markdown",
   "metadata": {},
   "source": [
    "**Ejercicio:** Demuestra que $F$ es una función de distribución."
   ]
  },
  {
   "cell_type": "markdown",
   "metadata": {},
   "source": [
    "### Una pregunta importante"
   ]
  },
  {
   "cell_type": "markdown",
   "metadata": {},
   "source": [
    "Dada una función de distribución $F$ cualquiera, ¿existe un espacio de probabilidad $(\\Omega,\\mathcal F,\\mathbb P)$ y una variable aleatoria $X$ tal que $F$ sea la función de distribución de $X$?"
   ]
  },
  {
   "cell_type": "markdown",
   "metadata": {},
   "source": [
    "## 1.3 La función inversa generalizada"
   ]
  },
  {
   "cell_type": "markdown",
   "metadata": {},
   "source": [
    "Dada una función de distribución $F:\\mathbb R\\to[0,1]$, la **inversa generalizada** de $F$ es la función $F^{-1}:[0,1]\\to\\mathbb R$ dada por\n",
    "\n",
    "$$\n",
    "F^{-1}(y)=\\inf\\{x\\in\\mathbb R: F(x)\\ge y\\}, \\qquad y\\in[0,1].\n",
    "$$"
   ]
  },
  {
   "cell_type": "markdown",
   "metadata": {},
   "source": [
    "![title](generalized_inverse.png)"
   ]
  },
  {
   "cell_type": "markdown",
   "metadata": {},
   "source": [
    "Fuente: [A note on generalized inverse](https://people.math.ethz.ch/~embrecht/ftp/generalized_inverse.pdf)"
   ]
  },
  {
   "cell_type": "markdown",
   "metadata": {},
   "source": [
    "### Propiedades Fundamentales"
   ]
  },
  {
   "cell_type": "markdown",
   "metadata": {},
   "source": [
    "Para toda $x$ y toda $y$:\n",
    "\n",
    "$$\n",
    "F^{-1}(y)\\le x\\Leftrightarrow y\\le F(x).\n",
    "$$"
   ]
  },
  {
   "cell_type": "markdown",
   "metadata": {},
   "source": [
    "O equivalentemente\n",
    "\n",
    "$$\n",
    "x<F^{-1}(y)\\Leftrightarrow F(x)<y.\n",
    "$$"
   ]
  },
  {
   "cell_type": "markdown",
   "metadata": {},
   "source": [
    "## Teorema 2"
   ]
  },
  {
   "cell_type": "markdown",
   "metadata": {},
   "source": [
    "Sea $F:\\mathbb R\\to[0,1]$ una función de distribución."
   ]
  },
  {
   "cell_type": "markdown",
   "metadata": {},
   "source": [
    "Supongamos que $U$ es una variable aleatoria uniforme sobre $[0,1]$, definida sobrer un espacio de probabilidad $(\\Omega,\\mathcal F,\\mathbb P)$."
   ]
  },
  {
   "cell_type": "markdown",
   "metadata": {},
   "source": [
    "De forma estándar, elegimos el espacio de probabilidad formado por el espacio $\\Omega=[0,1]$, la $\\sigma$-álgebra $\\mathcal F=\\mathcal B_{[0,1]}$ (los borelianos de $[0,1]$) y la medida de probabilidad $\\mathbb P$ uniforme sobre $[0,1]$ (la *medida de Lebesgue*). La variable aleatoria $U$ está definida como la función identidad $U(\\omega)=\\omega$ sobre este espacio de probabilidad."
   ]
  },
  {
   "cell_type": "markdown",
   "metadata": {},
   "source": [
    "Sobre $(\\Omega,\\mathcal F,\\mathbb P)$ definimos la variable aleatoria $X$ dada por\n",
    "\n",
    "$$\n",
    "X=F^{-1}(U).\n",
    "$$\n",
    "\n",
    "Esto es, $X$ es la composición de $F^{-1}$ con $U$."
   ]
  },
  {
   "cell_type": "markdown",
   "metadata": {},
   "source": [
    "Entonces $X$ es tiene distribución $F$."
   ]
  },
  {
   "cell_type": "markdown",
   "metadata": {},
   "source": [
    "#### Demostración."
   ]
  },
  {
   "cell_type": "markdown",
   "metadata": {},
   "source": [
    "Para cada $x\\in\\mathbb R$,"
   ]
  },
  {
   "cell_type": "markdown",
   "metadata": {},
   "source": [
    "\\begin{align}\n",
    "(X\\le x)&=(F^{-1}(U)\\le x)\\\\[0.3em]\n",
    "&=(U\\le F(x)).\n",
    "\\end{align}"
   ]
  },
  {
   "cell_type": "markdown",
   "metadata": {},
   "source": [
    "Por lo tanto,\n",
    "\n",
    "$$\n",
    "\\mathbb P(X\\le x)=\\mathbb P(U\\le F(x))=F(x).\n",
    "$$"
   ]
  },
  {
   "cell_type": "markdown",
   "metadata": {},
   "source": [
    "# 2 Simulación de Variables Aleatorias (Muestreo Aleatorio)"
   ]
  },
  {
   "cell_type": "markdown",
   "metadata": {},
   "source": [
    "Dada una distribución $F$, una **muestra aleatoria** de $F$ es un número $x$ elegido aleatoriamente de acuerdo a la ley de probabilidad determinada por la variable aleatoria $X$ cuya distribución es $F$."
   ]
  },
  {
   "cell_type": "markdown",
   "metadata": {},
   "source": [
    "Entonces, en teoría tenemos una forma de muestrear cualquier distribución $F$:\n",
    "\n",
    "1. Elegimos una muestra aleatoria $u$ uniforme sobre el intervalo $(0,1)$.\n",
    "\n",
    "2. Evaluamos $x:=F^{-1}(u)$.\n"
   ]
  },
  {
   "cell_type": "markdown",
   "metadata": {},
   "source": [
    "Una **muestra aleatoria de tamaño $m$** de una distribución $F$ es un conjunto $S=\\{x_1,...,x_m\\}$ de $m$ muestras aleatorias de la distribución $F$ obtenidas de forma independiente una de otra"
   ]
  },
  {
   "cell_type": "markdown",
   "metadata": {},
   "source": [
    "Para obtener una muestra aleatoria de tamaño $m$ de $F$ seguimos los siguientes pasos:\n",
    "\n",
    "1. Elegimos una muestra aleatoria $u_1,...,u_m$ de tamaño $m$ de forma independiente de una distribución $U(0,1)$.\n",
    "\n",
    "2. Evaluamos $x_i:=F^{-1}(u_i)$, para cada $i=1,...,m$."
   ]
  },
  {
   "cell_type": "markdown",
   "metadata": {},
   "source": [
    "## 2.1 Ejemplo: Muestreo aleatorio de la distribución Exponencial, Parte 1"
   ]
  },
  {
   "cell_type": "markdown",
   "metadata": {},
   "source": [
    "Sea $X$ una variable alaeatoria con distribución $\\mathrm{exp}(\\alpha)$, con $\\alpha>0$. Entonces la densidad de $X$ es la función\n",
    "\n",
    "$$\n",
    "f_\\alpha(x)=\n",
    "\\begin{cases}\n",
    "0 & \\text{ si } \\ x<0,\\\\[0.3em]\n",
    "\\alpha\\exp\\left(-\\alpha x\\right) & \\text{ si } \\ x\\ge0.\n",
    "\\end{cases}\n",
    "$$\n"
   ]
  },
  {
   "cell_type": "markdown",
   "metadata": {},
   "source": [
    "Y la función de dsitribución está dada por\n",
    "\n",
    "$$\n",
    "F_\\alpha(x)=\n",
    "\\begin{cases}\n",
    "0 & \\text{ si } \\ x<0,\\\\[0.3em]\n",
    "1-\\exp\\left(-\\alpha x\\right) & \\text{ si } \\ x\\ge0.\n",
    "\\end{cases}\n",
    "$$"
   ]
  },
  {
   "cell_type": "markdown",
   "metadata": {},
   "source": [
    "Por lo tanto, para $y\\in(0,1)$,\n",
    "\n",
    "$$\n",
    "F_\\alpha^{-1}(y)=\\frac1\\alpha\\ln\\left(\\frac1{1-y}\\right).\n",
    "$$"
   ]
  },
  {
   "cell_type": "markdown",
   "metadata": {},
   "source": [
    "Podemos hacer un script en Python con lo que ya conocemos:"
   ]
  },
  {
   "cell_type": "code",
   "execution_count": 78,
   "metadata": {},
   "outputs": [
    {
     "name": "stdout",
     "output_type": "stream",
     "text": [
      "u= 0.03034601401104975 x= 0.030815986598116893\n"
     ]
    }
   ],
   "source": [
    "import numpy as np\n",
    "\n",
    "# Transformación inversa de la distribución exp(a)\n",
    "def FINV(y,a):\n",
    "    FINV=(1/a)*np.log(1/(1-y))\n",
    "    return FINV\n",
    "\n",
    "# Obtenemos una muestra de la distribución U(0,1)\n",
    "u=np.random.random()\n",
    "\n",
    "a=1. # Parámetro de la distribución exp(a)\n",
    "\n",
    "# Obtenemos una muestra de la distribución exp(a)\n",
    "x=FINV(u,a)\n",
    "\n",
    "print(\"u=\",u,\"x=\",x)"
   ]
  },
  {
   "cell_type": "markdown",
   "metadata": {},
   "source": [
    "Podemos obtener cualquier número de muestras $m$. Decimos que el **tamaño de la muestra es $m$**."
   ]
  },
  {
   "cell_type": "code",
   "execution_count": 79,
   "metadata": {},
   "outputs": [
    {
     "name": "stdout",
     "output_type": "stream",
     "text": [
      "u= [0.2763106  0.32033589 0.82913201 0.29525991 0.08513806 0.02772399\n",
      " 0.02946991 0.2064643  0.59986133 0.92839216] \n",
      "x= [0.3233929904948778, 0.38615656063946285, 1.766863991305133, 0.34992621728232187, 0.08898210545332677, 0.028115554900098337, 0.029912870501886627, 0.2312567547965155, 0.9159441229961787, 2.636550689442798]\n"
     ]
    }
   ],
   "source": [
    "# Número de Muestras\n",
    "m=10\n",
    "\n",
    "# m muestras independientes de la distribución U(0,1)\n",
    "u=np.random.random(m)\n",
    "\n",
    "# nn muestras independientes de la distribución exp(a)\n",
    "x=[FINV(u,a) for u in u]\n",
    "\n",
    "print(\"u=\",u,\"\\nx=\",x)"
   ]
  },
  {
   "cell_type": "markdown",
   "metadata": {},
   "source": [
    "Usamos la función **matplotlib.pyplot.hist** para construir un historgrama de frecuencias."
   ]
  },
  {
   "cell_type": "code",
   "execution_count": 80,
   "metadata": {},
   "outputs": [
    {
     "name": "stdout",
     "output_type": "stream",
     "text": [
      "min(x)= 0.00021480347266505465 max(x)= 8.31575457211475\n"
     ]
    },
    {
     "data": {
      "image/png": "[encoded data removed]",
      "text/plain": [
       "<Figure size 864x432 with 1 Axes>"
      ]
     },
     "metadata": {
      "needs_background": "light"
     },
     "output_type": "display_data"
    }
   ],
   "source": [
    "import numpy as np\n",
    "import matplotlib.pyplot as plt\n",
    "\n",
    "def FINV(y,a):\n",
    "    FINV=(1/a)*np.log(1/(1-y))\n",
    "    return FINV\n",
    "\n",
    "a=1.0\n",
    "m=5000\n",
    "num_bins=50\n",
    "\n",
    "u=np.random.random(m)\n",
    "\n",
    "x=[FINV(u,a) for u in u]\n",
    "\n",
    "print(\"min(x)=\",min(x),\"max(x)=\",max(x))\n",
    "\n",
    "plt.figure(figsize=[12,6])\n",
    "plt.hist(x,edgecolor = 'black',bins=num_bins)\n",
    "plt.ylabel('Frecuencias')\n",
    "plt.title('Histograma de Frecuencias para una muestra aleatoria de tamaño '\n",
    "          +str(m)+\n",
    "          r' de la distribución $\\exp(\\alpha)$ con $\\alpha=$'\n",
    "          +str(a)) \n",
    "plt.show()"
   ]
  },
  {
   "cell_type": "markdown",
   "metadata": {},
   "source": [
    "# 3 Conociendo mejor la función matplotlib.pyplot.hist"
   ]
  },
  {
   "cell_type": "markdown",
   "metadata": {},
   "source": [
    "## 3.1 Histogramas"
   ]
  },
  {
   "cell_type": "markdown",
   "metadata": {},
   "source": [
    "Recordemos que un **Histograma** es una representación gráfica de un conjunto de datos $S=\\{x_1,...,x_m\\}$ de tamaño $m$, contabilizado en $k$ clases dadas por los intervalos $I_1,...,I_k$ de la forma\n",
    "\n",
    "$$\n",
    "I_1=[a_1,b_1),\\quad I_2=[a_2,b_2),\\quad\\dots\\quad I_k=[a_k,b_k],\n",
    "$$\n",
    "\n",
    "en donde\n",
    "\n",
    "$$\n",
    "a_1<b_1=a_2<b_2=\\cdots=a_k<b_k \\qquad \\text{ y } \\qquad S\\subset[a_1,b_k].\n",
    "$$\n",
    "\n",
    "El gráfico del histograma consta de $k$ rectángulos cuyos anchos están definidos por los límites de las clases (i.e. los puntos extremos de los intervalos $I_1,....,I_k$) y las alturas se determian de acuerdo al tipo de histograma considerado.\n",
    "\n",
    "Podemos identificar $3$ tipos de histogramas:\n",
    "\n",
    "**Histograma de Frecuencias**\n",
    "\n",
    "Las alturas de los rectángulos están determinadas por la frecuencias con la que ocurren cada una de las $k$ clases. \n",
    "\n",
    "Las frecuencias se definen del modo siguiente:\n",
    "\n",
    "Para toda $j=1,...,k$, la **frecuencia** de la $j$-ésima clase está dada por\n",
    "\n",
    "$$\n",
    "f_j:=|\\{s\\in S: s\\in I_j\\}|.\n",
    "$$\n",
    "\n",
    "Observe que\n",
    "\n",
    "$$\n",
    "\\sum_{j=1}^m f_j=m.\n",
    "$$\n",
    "\n",
    "**Histograma de Frecuencias Relativas**\n",
    "\n",
    "Las alturas de los rectángulos están determinadas por la frecuencias relativas con la que ocurren cada una de las $k$ clases. \n",
    "\n",
    "Las frecuencias relativas se definen del modo siguiente:\n",
    "\n",
    "Para toda $j=1,...,k$, la **frecuencia relativa** de la $j$-ésima clase está dada por\n",
    "\n",
    "$$\n",
    "r_j:=\\frac{f_j}m.\n",
    "$$\n",
    "\n",
    "Observe que \n",
    "\n",
    "$$\n",
    "\\sum_{j=1}^m r_j=1\n",
    "$$\n",
    "\n",
    "**Histograma de Densidad**\n",
    "\n",
    "Las alturas de los rectángulos están determinadas por el *área* (*densidad*) de los rectángulos del histograma de frecuencias relativas. \n",
    "\n",
    "Las densidades se definen del modo siguiente:\n",
    "\n",
    "Para toda $j=1,...,k$, la **densidad** de la $j$-ésima clase está dada por\n",
    "\n",
    "$$\n",
    "d_j:=\\frac{r_j}{b_j-a_j}.\n",
    "$$\n",
    "\n",
    "Observe que el gráfico que define el histograma de densidad *integra* 1. Es decir:\n",
    "\n",
    "$$\n",
    "\\sum_{j=1}^n (b_j-a_j)d_j=\\sum_{j=1}^m f_j=1.\n",
    "$$\n",
    "\n",
    "Un histograma de densidad es un indicador preferible a cualquiera de los otros dos histogramas"
   ]
  },
  {
   "cell_type": "markdown",
   "metadata": {},
   "source": [
    "**Ejemplo**\n",
    "\n",
    "Conideremos $m=16$ datos dados por la tabla siguiente\n",
    "\n",
    "| $i$ | $x_i$ | Clase (intervalo)| Frec. Rel. | Densidad |\n",
    "|-----|-------|------------------|------------|----------|\n",
    "|   1  | 0.5| $I_1=[0,1)$ | $0.063$ | $0.063$ |\n",
    "|   2  | 1.2| $I_2=[1,2)$ | $0.250$ | $0.250$ |\n",
    "|   3  | 1.2| $I_2=[1,2)$ | $0.250$ | $0.250$ |\n",
    "|   4  | 1.5| $I_2=[1,2)$ | $0.250$ | $0.250$ |\n",
    "|   5  | 1.7| $I_2=[1,2)$ | $0.250$ | $0.250$ |\n",
    "|   6  | 2.0| $I_3=[2,3)$ | $0.312$ | $0.312$ |\n",
    "|   7  | 2.2| $I_3=[2,3)$ | $0.312$ | $0.312$ |\n",
    "|   8  | 2.5| $I_3=[2,3)$ | $0.312$ | $0.312$ |\n",
    "|   9  | 2.5| $I_3=[2,3)$ | $0.312$ | $0.312$ |\n",
    "|   10  | 2.8| $I_3=[2,3)$ | $0.312$ | $0.312$ |\n",
    "|   11  | 3.1| $I_4=[3,4)$ | $0.188$ | $0.188$ |\n",
    "|   12  | 3.3| $I_4=[3,4)$ | $0.188$ | $0.188$ |\n",
    "|   13  | 3.3| $I_4=[3,4)$ | $0.188$ | $0.188$ |\n",
    "|   14  | 4.2| $I_5=[4,5)$ | $0.123$ | $0.123$ |\n",
    "|   15  | 4.6| $I_5=[4,5)$ | $0.123$ | $0.123$ |\n",
    "|   16  | 5.2| $I_6=[5,6]$ | $0.063$ | $0.063$ |\n"
   ]
  },
  {
   "cell_type": "markdown",
   "metadata": {},
   "source": [
    "**Histogramas**"
   ]
  },
  {
   "cell_type": "markdown",
   "metadata": {},
   "source": [
    "![title](histogram_rel.jpg)"
   ]
  },
  {
   "cell_type": "markdown",
   "metadata": {},
   "source": [
    "En este caso, el histograma de densidad coincide con el histograma de frecuencias relativas"
   ]
  },
  {
   "cell_type": "markdown",
   "metadata": {},
   "source": [
    "## 3.2.  Ejemplo: Función matplotlib.pyplot.hist"
   ]
  },
  {
   "cell_type": "markdown",
   "metadata": {},
   "source": [
    "La función **matplotlib.pyplot.hist** tiene como retorno una tupla de tres entradas  que denotamos como\n",
    "\n",
    "$$\n",
    "(\\mathrm{n},\\mathrm{bins},\\mathrm{patches})\n",
    "$$"
   ]
  },
  {
   "cell_type": "markdown",
   "metadata": {},
   "source": [
    "Cada una de estas entradas siginifica lo siguiente:\n",
    "\n",
    "- $\\mathrm n$ : Esto devuelve el valor de los *bins* del histograma.\n",
    "\n",
    "\n",
    "- $\\mathrm{bins}$ : Esto devuelve el valor de los bordes de los bins.\n",
    "\n",
    "\n",
    "Estos primeros dos objetos son los que se usan para el análsis de datos.\n",
    "\n",
    "\n",
    "- $\\mathrm{patches}$ : Esto devuelve la lista de *patches* individuales utilizados para crear el histograma. Es la colección de rectángulos que forman las barras. Solo se usan para resaltar o cambiar propiedades de las barras."
   ]
  },
  {
   "cell_type": "code",
   "execution_count": 81,
   "metadata": {},
   "outputs": [
    {
     "data": {
      "image/png": "[encoded data removed]",
      "text/plain": [
       "<Figure size 720x360 with 1 Axes>"
      ]
     },
     "metadata": {
      "needs_background": "light"
     },
     "output_type": "display_data"
    }
   ],
   "source": [
    "import numpy as np\n",
    "import matplotlib.pyplot as plt\n",
    "\n",
    "x=np.random.randint(1,91,size=100,dtype=int) # 100 números entre 1 y 90 (inclusive ambos)\n",
    "\n",
    "plt.figure(figsize=[10,5])\n",
    "h=plt.hist(x,edgecolor = 'black',bins=10)\n",
    "plt.show()"
   ]
  },
  {
   "cell_type": "code",
   "execution_count": 82,
   "metadata": {},
   "outputs": [
    {
     "data": {
      "text/plain": [
       "array([ 5., 10., 11.,  6., 10., 15., 13., 10., 13.,  7.])"
      ]
     },
     "execution_count": 82,
     "metadata": {},
     "output_type": "execute_result"
    }
   ],
   "source": [
    "n=h[0]\n",
    "n"
   ]
  },
  {
   "cell_type": "code",
   "execution_count": 83,
   "metadata": {},
   "outputs": [
    {
     "data": {
      "text/plain": [
       "100.0"
      ]
     },
     "execution_count": 83,
     "metadata": {},
     "output_type": "execute_result"
    }
   ],
   "source": [
    "sum(n)"
   ]
  },
  {
   "cell_type": "code",
   "execution_count": 84,
   "metadata": {},
   "outputs": [
    {
     "data": {
      "text/plain": [
       "array([0.05, 0.1 , 0.11, 0.06, 0.1 , 0.15, 0.13, 0.1 , 0.13, 0.07])"
      ]
     },
     "execution_count": 84,
     "metadata": {},
     "output_type": "execute_result"
    }
   ],
   "source": [
    "# Frecuencias Relativas\n",
    "f=n/100\n",
    "f"
   ]
  },
  {
   "cell_type": "code",
   "execution_count": 85,
   "metadata": {},
   "outputs": [
    {
     "data": {
      "text/plain": [
       "1.0"
      ]
     },
     "execution_count": 85,
     "metadata": {},
     "output_type": "execute_result"
    }
   ],
   "source": [
    "sum(f)"
   ]
  },
  {
   "cell_type": "code",
   "execution_count": 86,
   "metadata": {},
   "outputs": [
    {
     "data": {
      "text/plain": [
       "array([ 1. ,  9.9, 18.8, 27.7, 36.6, 45.5, 54.4, 63.3, 72.2, 81.1, 90. ])"
      ]
     },
     "execution_count": 86,
     "metadata": {},
     "output_type": "execute_result"
    }
   ],
   "source": [
    "bins=h[1]\n",
    "bins"
   ]
  },
  {
   "cell_type": "code",
   "execution_count": 87,
   "metadata": {},
   "outputs": [
    {
     "data": {
      "text/plain": [
       "<matplotlib.patches.Rectangle at 0x7f80c0b0ae20>"
      ]
     },
     "execution_count": 87,
     "metadata": {},
     "output_type": "execute_result"
    }
   ],
   "source": [
    "patches=h[2]\n",
    "patches[0]"
   ]
  },
  {
   "cell_type": "code",
   "execution_count": 88,
   "metadata": {},
   "outputs": [
    {
     "data": {
      "image/png": "[encoded data removed]",
      "text/plain": [
       "<Figure size 720x360 with 1 Axes>"
      ]
     },
     "metadata": {
      "needs_background": "light"
     },
     "output_type": "display_data"
    }
   ],
   "source": [
    "plt.figure(figsize=[10,5])\n",
    "n, bins, patches=plt.hist(x,edgecolor = 'black',bins=10)\n",
    "plt.setp(patches[1],color='g')\n",
    "plt.show()"
   ]
  },
  {
   "cell_type": "code",
   "execution_count": 89,
   "metadata": {},
   "outputs": [
    {
     "data": {
      "text/plain": [
       "array([8.9, 8.9, 8.9, 8.9, 8.9, 8.9, 8.9, 8.9, 8.9, 8.9])"
      ]
     },
     "execution_count": 89,
     "metadata": {},
     "output_type": "execute_result"
    }
   ],
   "source": [
    "# Tamaño de los intervalos de las barras\n",
    "b=np.diff(bins)\n",
    "b"
   ]
  },
  {
   "cell_type": "code",
   "execution_count": 90,
   "metadata": {},
   "outputs": [
    {
     "data": {
      "text/plain": [
       "[0.0056179775280898875,\n",
       " 0.011235955056179775,\n",
       " 0.01235955056179775,\n",
       " 0.006741573033707866,\n",
       " 0.011235955056179778,\n",
       " 0.016853932584269652,\n",
       " 0.01460674157303371,\n",
       " 0.011235955056179778,\n",
       " 0.0146067415730337,\n",
       " 0.007865168539325852]"
      ]
     },
     "execution_count": 90,
     "metadata": {},
     "output_type": "execute_result"
    }
   ],
   "source": [
    "# Densidades \n",
    "d=[f/b for f,b in zip(f,b)] # Densidad =(Frecuencia Relativa)/(Tamaño del Intervalo)\n",
    "d"
   ]
  },
  {
   "cell_type": "markdown",
   "metadata": {},
   "source": [
    "Para obtener el histograma de densidad agragamos el parámetro **density=1**."
   ]
  },
  {
   "cell_type": "code",
   "execution_count": 91,
   "metadata": {},
   "outputs": [
    {
     "data": {
      "image/png": "[encoded data removed]",
      "text/plain": [
       "<Figure size 720x360 with 1 Axes>"
      ]
     },
     "metadata": {
      "needs_background": "light"
     },
     "output_type": "display_data"
    }
   ],
   "source": [
    "plt.figure(figsize=[10,5])\n",
    "n, bins, patches=plt.hist(x,edgecolor = 'black',bins=10,density=1)\n",
    "plt.setp(patches[1],color='g')\n",
    "plt.show()"
   ]
  },
  {
   "cell_type": "code",
   "execution_count": 92,
   "metadata": {},
   "outputs": [
    {
     "data": {
      "text/plain": [
       "array([ 1. ,  9.9, 18.8, 27.7, 36.6, 45.5, 54.4, 63.3, 72.2, 81.1, 90. ])"
      ]
     },
     "execution_count": 92,
     "metadata": {},
     "output_type": "execute_result"
    }
   ],
   "source": [
    "bins"
   ]
  },
  {
   "cell_type": "code",
   "execution_count": 93,
   "metadata": {},
   "outputs": [
    {
     "data": {
      "text/plain": [
       "array([0.00561798, 0.01123596, 0.01235955, 0.00674157, 0.01123596,\n",
       "       0.01685393, 0.01460674, 0.01123596, 0.01460674, 0.00786517])"
      ]
     },
     "execution_count": 93,
     "metadata": {},
     "output_type": "execute_result"
    }
   ],
   "source": [
    "n"
   ]
  },
  {
   "cell_type": "code",
   "execution_count": 94,
   "metadata": {},
   "outputs": [
    {
     "ename": "NameError",
     "evalue": "name 'fn' is not defined",
     "output_type": "error",
     "traceback": [
      "\u001b[0;31m---------------------------------------------------------------------------\u001b[0m",
      "\u001b[0;31mNameError\u001b[0m                                 Traceback (most recent call last)",
      "\u001b[0;32m<ipython-input-94-4e700bf7e955>\u001b[0m in \u001b[0;36m<module>\u001b[0;34m\u001b[0m\n\u001b[0;32m----> 1\u001b[0;31m \u001b[0mfn\u001b[0m\u001b[0;34m\u001b[0m\u001b[0;34m\u001b[0m\u001b[0m\n\u001b[0m",
      "\u001b[0;31mNameError\u001b[0m: name 'fn' is not defined"
     ]
    }
   ],
   "source": [
    "fn"
   ]
  },
  {
   "cell_type": "code",
   "execution_count": null,
   "metadata": {},
   "outputs": [],
   "source": [
    "sum(n)"
   ]
  },
  {
   "cell_type": "code",
   "execution_count": null,
   "metadata": {},
   "outputs": [],
   "source": [
    "sum(fn)"
   ]
  },
  {
   "cell_type": "code",
   "execution_count": null,
   "metadata": {},
   "outputs": [],
   "source": [
    "sum(n)"
   ]
  },
  {
   "cell_type": "markdown",
   "metadata": {},
   "source": [
    "## 3.3 Ejemplo: Muestreo aleatorio de la distribución Exponencial, Parte 2"
   ]
  },
  {
   "cell_type": "code",
   "execution_count": 99,
   "metadata": {},
   "outputs": [
    {
     "name": "stdout",
     "output_type": "stream",
     "text": [
      "min(x)= 1.8559765339760076e-05 max(x)= 9.702172778921797\n"
     ]
    },
    {
     "data": {
      "image/png": "[encoded data removed]",
      "text/plain": [
       "<Figure size 1080x576 with 1 Axes>"
      ]
     },
     "metadata": {
      "needs_background": "light"
     },
     "output_type": "display_data"
    }
   ],
   "source": [
    "import numpy as np\n",
    "import matplotlib.pyplot as plt\n",
    "\n",
    "def FINV(y,a):\n",
    "    FINV=(1/a)*np.log(1/(1-y))\n",
    "    return FINV\n",
    "\n",
    "a=1.0\n",
    "m=5000\n",
    "\n",
    "u=np.random.random(m)\n",
    "\n",
    "x=[FINV(u,a) for u in u]\n",
    "\n",
    "print(\"min(x)=\",min(x),\"max(x)=\",max(x))\n",
    "\n",
    "plt.figure(figsize=[15,8])\n",
    "n, bins , patches = plt.hist(x,edgecolor = 'black',bins=50,density = 1)\n",
    "plt.ylabel('Densidades')\n",
    "plt.title('Histograma de Densidades para una muestra aleatoria de tamaño '\n",
    "          +str(m)+\n",
    "          r' de la distribución $\\exp(\\alpha)$ con $\\alpha=$'\n",
    "          +str(a))\n",
    "y=(a*np.exp(-a*bins)) # Densidad exp(a)\n",
    "plt.plot(bins, y,color ='red',label=r'Densidad $exp(\\alpha)$')\n",
    "plt.legend()\n",
    "plt.show()"
   ]
  },
  {
   "cell_type": "markdown",
   "metadata": {},
   "source": [
    "# 4 Funciones lambda (uso básico)"
   ]
  },
  {
   "cell_type": "markdown",
   "metadata": {},
   "source": [
    "Una **función lambda** es una pequeña función la cul generalmente se conoce como función anónima. El principal uso de las funciones lambda es para crear funciones \"sobre la marcha\". Es decir, cuando se requiere dde funciones que son usadas solo en una pequeña parte del código o en un periodo corto de tiempo. Las funciones lambda pueden sustituir el método usual mediante la sentencia usual **def** y son ello simplificar el código. "
   ]
  },
  {
   "cell_type": "markdown",
   "metadata": {},
   "source": [
    "Fuentes:\n",
    "\n",
    "- [www.w3schools.com](https://www.w3schools.com/python/python_lambda.asp)\n",
    "\n",
    "- [realpython.com](https://realpython.com/python-lambda/)"
   ]
  },
  {
   "cell_type": "markdown",
   "metadata": {},
   "source": [
    "## Sintaxis"
   ]
  },
  {
   "cell_type": "code",
   "execution_count": null,
   "metadata": {},
   "outputs": [],
   "source": [
    "lambda arguments : expression"
   ]
  },
  {
   "cell_type": "markdown",
   "metadata": {},
   "source": [
    "Una función lambda puede tomar cualquier número de argumentos, pero solo puede tener una expresión"
   ]
  },
  {
   "cell_type": "markdown",
   "metadata": {},
   "source": [
    "## Ejemplo"
   ]
  },
  {
   "cell_type": "code",
   "execution_count": 101,
   "metadata": {},
   "outputs": [
    {
     "data": {
      "text/plain": [
       "function"
      ]
     },
     "execution_count": 101,
     "metadata": {},
     "output_type": "execute_result"
    }
   ],
   "source": [
    "# Función \"sumar 10\" como función lambda\n",
    "\n",
    "x=lambda a:a+10\n",
    "type(x)"
   ]
  },
  {
   "cell_type": "code",
   "execution_count": 102,
   "metadata": {},
   "outputs": [
    {
     "data": {
      "text/plain": [
       "10"
      ]
     },
     "execution_count": 102,
     "metadata": {},
     "output_type": "execute_result"
    }
   ],
   "source": [
    "x(0)"
   ]
  },
  {
   "cell_type": "code",
   "execution_count": 103,
   "metadata": {},
   "outputs": [],
   "source": [
    "# Función \"sumar 10\" con def\n",
    "\n",
    "def x(n):\n",
    "    return n+10"
   ]
  },
  {
   "cell_type": "code",
   "execution_count": 104,
   "metadata": {},
   "outputs": [
    {
     "data": {
      "text/plain": [
       "19"
      ]
     },
     "execution_count": 104,
     "metadata": {},
     "output_type": "execute_result"
    }
   ],
   "source": [
    "x(9)"
   ]
  },
  {
   "cell_type": "markdown",
   "metadata": {},
   "source": [
    "## Ejemplo"
   ]
  },
  {
   "cell_type": "code",
   "execution_count": 105,
   "metadata": {},
   "outputs": [],
   "source": [
    "# Función producto\n",
    "\n",
    "x=lambda a,b:a*b"
   ]
  },
  {
   "cell_type": "code",
   "execution_count": 106,
   "metadata": {},
   "outputs": [
    {
     "data": {
      "text/plain": [
       "12"
      ]
     },
     "execution_count": 106,
     "metadata": {},
     "output_type": "execute_result"
    }
   ],
   "source": [
    "x(3,4)"
   ]
  },
  {
   "cell_type": "code",
   "execution_count": 107,
   "metadata": {},
   "outputs": [
    {
     "data": {
      "text/plain": [
       "<function __main__.<lambda>(a, b)>"
      ]
     },
     "execution_count": 107,
     "metadata": {},
     "output_type": "execute_result"
    }
   ],
   "source": [
    "lambda a,b:a*b"
   ]
  },
  {
   "cell_type": "code",
   "execution_count": 108,
   "metadata": {},
   "outputs": [
    {
     "data": {
      "text/plain": [
       "35"
      ]
     },
     "execution_count": 108,
     "metadata": {},
     "output_type": "execute_result"
    }
   ],
   "source": [
    "_(5,7)"
   ]
  },
  {
   "cell_type": "markdown",
   "metadata": {},
   "source": [
    "En el intérprete interactivo, el guión bajo \\_ está vinculado a la última expresión evaluada. "
   ]
  },
  {
   "cell_type": "code",
   "execution_count": null,
   "metadata": {},
   "outputs": [],
   "source": [
    "(lambda a,b:a*b)(4,8)"
   ]
  },
  {
   "cell_type": "markdown",
   "metadata": {},
   "source": [
    "## Ejemplo: Funciones de orden superior"
   ]
  },
  {
   "cell_type": "markdown",
   "metadata": {},
   "source": [
    "Otro uso importante de las funciones lambda es como función \"anónima\" dentro de otra función. El resultado es una función que devuelve otra función."
   ]
  },
  {
   "cell_type": "markdown",
   "metadata": {},
   "source": [
    "Supongamos que tiene una definición de función que toma un argumento, y ese argumento se multiplicará por un número desconocido:"
   ]
  },
  {
   "cell_type": "code",
   "execution_count": 109,
   "metadata": {},
   "outputs": [],
   "source": [
    "def myfunc(n):\n",
    "  return lambda a : a * n"
   ]
  },
  {
   "cell_type": "code",
   "execution_count": 110,
   "metadata": {},
   "outputs": [],
   "source": [
    "mydoubler = myfunc(2)"
   ]
  },
  {
   "cell_type": "code",
   "execution_count": 111,
   "metadata": {},
   "outputs": [
    {
     "data": {
      "text/plain": [
       "22"
      ]
     },
     "execution_count": 111,
     "metadata": {},
     "output_type": "execute_result"
    }
   ],
   "source": [
    "mydoubler(11)"
   ]
  },
  {
   "cell_type": "code",
   "execution_count": 112,
   "metadata": {},
   "outputs": [],
   "source": [
    "mytripler=myfunc(3)"
   ]
  },
  {
   "cell_type": "code",
   "execution_count": 113,
   "metadata": {},
   "outputs": [
    {
     "data": {
      "text/plain": [
       "33"
      ]
     },
     "execution_count": 113,
     "metadata": {},
     "output_type": "execute_result"
    }
   ],
   "source": [
    "mytripler(11)"
   ]
  },
  {
   "cell_type": "markdown",
   "metadata": {},
   "source": [
    "Una función lambda puede ser una función de orden superior tomando una función (normal o lambda)."
   ]
  },
  {
   "cell_type": "code",
   "execution_count": 114,
   "metadata": {},
   "outputs": [],
   "source": [
    "mymultiplier=lambda a,n,myfunc:myfunc(a,n)"
   ]
  },
  {
   "cell_type": "code",
   "execution_count": 115,
   "metadata": {},
   "outputs": [
    {
     "data": {
      "text/plain": [
       "22"
      ]
     },
     "execution_count": 115,
     "metadata": {},
     "output_type": "execute_result"
    }
   ],
   "source": [
    "mymultiplier(11,2,lambda a,n:a*n)"
   ]
  },
  {
   "cell_type": "code",
   "execution_count": 116,
   "metadata": {},
   "outputs": [
    {
     "data": {
      "text/plain": [
       "10"
      ]
     },
     "execution_count": 116,
     "metadata": {},
     "output_type": "execute_result"
    }
   ],
   "source": [
    "mymultiplier(5,2,lambda a,n:a*n)"
   ]
  },
  {
   "cell_type": "code",
   "execution_count": 117,
   "metadata": {},
   "outputs": [
    {
     "data": {
      "text/plain": [
       "33"
      ]
     },
     "execution_count": 117,
     "metadata": {},
     "output_type": "execute_result"
    }
   ],
   "source": [
    "mymultiplier(11,3,lambda a,n:a*n)"
   ]
  },
  {
   "cell_type": "markdown",
   "metadata": {},
   "source": [
    "Redefinimos las funciones 'doubler' y 'tripler':"
   ]
  },
  {
   "cell_type": "code",
   "execution_count": 118,
   "metadata": {},
   "outputs": [],
   "source": [
    "mydoubler=lambda a:mymultiplier(a,2,lambda a,n:a*n)"
   ]
  },
  {
   "cell_type": "code",
   "execution_count": 119,
   "metadata": {},
   "outputs": [
    {
     "data": {
      "text/plain": [
       "12"
      ]
     },
     "execution_count": 119,
     "metadata": {},
     "output_type": "execute_result"
    }
   ],
   "source": [
    "mydoubler(6)"
   ]
  },
  {
   "cell_type": "code",
   "execution_count": 120,
   "metadata": {},
   "outputs": [],
   "source": [
    "mytripler=lambda a:mymultiplier(a,3,lambda a,n:a*n)"
   ]
  },
  {
   "cell_type": "code",
   "execution_count": 121,
   "metadata": {},
   "outputs": [
    {
     "data": {
      "text/plain": [
       "18"
      ]
     },
     "execution_count": 121,
     "metadata": {},
     "output_type": "execute_result"
    }
   ],
   "source": [
    "mytripler(6)"
   ]
  },
  {
   "cell_type": "markdown",
   "metadata": {},
   "source": [
    "# 5. Función map"
   ]
  },
  {
   "cell_type": "markdown",
   "metadata": {},
   "source": [
    "La función **map( )** devuelve una lista de rresultados después de aplicar una función dada a cada elemento de un iterable dado (lista, tupla, etc.)"
   ]
  },
  {
   "cell_type": "markdown",
   "metadata": {},
   "source": [
    "## Sintaxis"
   ]
  },
  {
   "cell_type": "code",
   "execution_count": null,
   "metadata": {},
   "outputs": [],
   "source": [
    "map(fun, iter)"
   ]
  },
  {
   "cell_type": "markdown",
   "metadata": {},
   "source": [
    "**Parámetros**\n",
    "\n",
    "- **fun** Es una función a la que map aplica a cada elemento de un iterable dado.\n",
    "\n",
    "- **iter** Es un iterable que se va a mapear."
   ]
  },
  {
   "cell_type": "markdown",
   "metadata": {},
   "source": [
    "**Características**\n",
    "\n",
    "- Se puede pasar uno o más iterables a la función **map( )**.\n",
    "\n",
    "- **map( )** se puede convertir a listas, tuplas o conjuntos con las funciones **list( )**, **tuple( )** y **set( )**, resp."
   ]
  },
  {
   "cell_type": "markdown",
   "metadata": {},
   "source": [
    "## Ejemplo"
   ]
  },
  {
   "cell_type": "code",
   "execution_count": 122,
   "metadata": {},
   "outputs": [
    {
     "data": {
      "text/plain": [
       "map"
      ]
     },
     "execution_count": 122,
     "metadata": {},
     "output_type": "execute_result"
    }
   ],
   "source": [
    "add=lambda n:n+n\n",
    "numbers=(1,2,3,4)\n",
    "\n",
    "result=map(add,numbers)\n",
    "type(result)"
   ]
  },
  {
   "cell_type": "code",
   "execution_count": 123,
   "metadata": {},
   "outputs": [
    {
     "data": {
      "text/plain": [
       "[2, 4, 6, 8]"
      ]
     },
     "execution_count": 123,
     "metadata": {},
     "output_type": "execute_result"
    }
   ],
   "source": [
    "list(result)"
   ]
  },
  {
   "cell_type": "markdown",
   "metadata": {},
   "source": [
    "## Ejemplo"
   ]
  },
  {
   "cell_type": "code",
   "execution_count": 124,
   "metadata": {},
   "outputs": [
    {
     "data": {
      "text/plain": [
       "[5, 7, 9]"
      ]
     },
     "execution_count": 124,
     "metadata": {},
     "output_type": "execute_result"
    }
   ],
   "source": [
    "n1=[1,2,3]\n",
    "n2=[4,5,6]\n",
    "\n",
    "result=map(lambda x,y:x+y,n1,n2)\n",
    "\n",
    "list(result)"
   ]
  },
  {
   "cell_type": "markdown",
   "metadata": {},
   "source": [
    "# 6. Muestreo Alaetorio de la distribución Exponencial, Parte 3"
   ]
  },
  {
   "cell_type": "markdown",
   "metadata": {},
   "source": [
    "Podemos repetir el muestreo exponencial usando una función **lambda** y la función **map( )** y la librería **scipy** (epecífica para estadística y probabilidad).\n",
    "\n",
    "Fuente: *Python for probability, Statistics and Machine Learning*, J. Unpingco, pág.91."
   ]
  },
  {
   "cell_type": "code",
   "execution_count": 125,
   "metadata": {},
   "outputs": [],
   "source": [
    "import numpy as np\n",
    "import scipy.stats\n",
    "\n",
    "a = 1. # Parámetro de la distribución exponencial\n",
    "m = 1000 # Número de muestras aleatorias\n",
    "u=scipy.stats.uniform(0,1) # Variable alatoria uniforme sobre (0,1)\n",
    "Finv=lambda u: (1/a)*np.log(1/(1-u)) # Transformada inversa de la distribución de exp(alpha)\n",
    "v=list(map(Finv,u.rvs(m))) # Aplicamos la inversa a las muestras uniformes"
   ]
  },
  {
   "cell_type": "markdown",
   "metadata": {},
   "source": [
    "Ya tenemos las muestras de la distribución exponencial, pero ¿cómo sabemos que el método es correcto? Afortunadamente, **scipy.stats** ya tiene una distribución exponencial, por lo que podemos comparar nuestro trabajo con la referencia usando una gráfica de probabilidad (es decir, también conocida como aquantile-quantileplot). El siguiente código configura la gráfica de probabilidad de **scipy.stats**"
   ]
  },
  {
   "cell_type": "code",
   "execution_count": 126,
   "metadata": {},
   "outputs": [
    {
     "data": {
      "image/png": "[encoded data removed]",
      "text/plain": [
       "<Figure size 1080x576 with 1 Axes>"
      ]
     },
     "metadata": {
      "needs_background": "light"
     },
     "output_type": "display_data"
    }
   ],
   "source": [
    "import matplotlib.pyplot as plt \n",
    "\n",
    "plt.figure(figsize=[15,8])\n",
    "scipy.stats.probplot(v,(a,),dist='expon',plot=plt)\n",
    "plt.show()"
   ]
  },
  {
   "cell_type": "markdown",
   "metadata": {},
   "source": [
    "Cuanto más coincida la línea de muestras con la línea diagonal, más coinciden con la distribución de referencia (es decir, distribución exponencial en este caso)."
   ]
  },
  {
   "cell_type": "markdown",
   "metadata": {},
   "source": [
    "# 7. Ejemplo: Muestreo Normal"
   ]
  },
  {
   "cell_type": "code",
   "execution_count": 128,
   "metadata": {},
   "outputs": [
    {
     "data": {
      "image/png": "[encoded data removed]",
      "text/plain": [
       "<Figure size 432x288 with 1 Axes>"
      ]
     },
     "metadata": {
      "needs_background": "light"
     },
     "output_type": "display_data"
    }
   ],
   "source": [
    "# Implementation of matplotlib function \n",
    "import matplotlib \n",
    "import numpy as np \n",
    "import matplotlib.pyplot as plt \n",
    "   \n",
    "np.random.seed(10**7) \n",
    "mu = 121 \n",
    "sigma = 21\n",
    "x = mu + sigma * np.random.randn(1000) \n",
    "   \n",
    "num_bins = 100\n",
    "   \n",
    "n, bins, patches = plt.hist(x, num_bins,  \n",
    "                            density = 1,  \n",
    "                            color ='green', \n",
    "                            alpha = 0.7)\n",
    "   \n",
    "y = ((1 / (np.sqrt(2 * np.pi) * sigma)) *\n",
    "     np.exp(-0.5 * (1 / sigma * (bins - mu))**2)) \n",
    "  \n",
    "plt.plot(bins, y, '--', color ='black') \n",
    "  \n",
    "plt.xlabel('X-Axis') \n",
    "plt.ylabel('Y-Axis') \n",
    "  \n",
    "plt.title('matplotlib.pyplot.hist() function Example\\n\\n', \n",
    "          fontweight =\"bold\") \n",
    "  \n",
    "plt.show() "
   ]
  },
  {
   "cell_type": "code",
   "execution_count": null,
   "metadata": {},
   "outputs": [],
   "source": []
  }
 ],
 "metadata": {
  "kernelspec": {
   "display_name": "Python 3",
   "language": "python",
   "name": "python3"
  },
  "language_info": {
   "codemirror_mode": {
    "name": "ipython",
    "version": 3
   },
   "file_extension": ".py",
   "mimetype": "text/x-python",
   "name": "python",
   "nbconvert_exporter": "python",
   "pygments_lexer": "ipython3",
   "version": "3.8.3"
  }
 },
 "nbformat": 4,
 "nbformat_minor": 4
}
