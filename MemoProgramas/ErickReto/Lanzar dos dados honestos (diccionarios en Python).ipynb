{
 "cells": [
  {
   "cell_type": "markdown",
   "metadata": {},
   "source": [
    "# 1. Lanzar dos dados honestos"
   ]
  },
  {
   "cell_type": "markdown",
   "metadata": {},
   "source": [
    "Supongamos que estamos interesados en el experimento aleatorio de lanzar un par de dados honestos. De este experimento nos interesa saber cuál es la suma de los dados en cada tirada."
   ]
  },
  {
   "cell_type": "markdown",
   "metadata": {},
   "source": [
    "## 1.1. El espacio muestral"
   ]
  },
  {
   "cell_type": "markdown",
   "metadata": {},
   "source": [
    "El espacio muestral $\\Omega$ del experimento de lanzar dos dados honestos, está compuesto de todas las parejas orden\n",
    "\n",
    "$$\\Omega = \\{(i,j):1\\le i,j\\le 6\\}$$\n",
    "\n",
    "En **Python**:"
   ]
  },
  {
   "cell_type": "code",
   "execution_count": 4,
   "metadata": {},
   "outputs": [
    {
     "data": {
      "text/plain": [
       "[(1, 1),\n",
       " (1, 2),\n",
       " (1, 3),\n",
       " (1, 4),\n",
       " (1, 5),\n",
       " (1, 6),\n",
       " (2, 1),\n",
       " (2, 2),\n",
       " (2, 3),\n",
       " (2, 4),\n",
       " (2, 5),\n",
       " (2, 6),\n",
       " (3, 1),\n",
       " (3, 2),\n",
       " (3, 3),\n",
       " (3, 4),\n",
       " (3, 5),\n",
       " (3, 6),\n",
       " (4, 1),\n",
       " (4, 2),\n",
       " (4, 3),\n",
       " (4, 4),\n",
       " (4, 5),\n",
       " (4, 6),\n",
       " (5, 1),\n",
       " (5, 2),\n",
       " (5, 3),\n",
       " (5, 4),\n",
       " (5, 5),\n",
       " (5, 6),\n",
       " (6, 1),\n",
       " (6, 2),\n",
       " (6, 3),\n",
       " (6, 4),\n",
       " (6, 5),\n",
       " (6, 6)]"
      ]
     },
     "execution_count": 4,
     "metadata": {},
     "output_type": "execute_result"
    }
   ],
   "source": [
    "Omega = [(i,j) for i in range(1,7) for j in range(1,7)]\n",
    "Omega"
   ]
  },
  {
   "cell_type": "markdown",
   "metadata": {},
   "source": [
    "## 1.2. Eventos Aleatorios"
   ]
  },
  {
   "cell_type": "markdown",
   "metadata": {},
   "source": [
    "Sea $S_n$ el evento \"La suma de los dados es $n$\". Esto es:\n",
    "    \n",
    "$$S_n = \\{(i,j) \\in \\Omega: i+j = n\\}$$\n",
    "\n",
    "El evento $S_4$ puede construirse en **Python** como sigue:"
   ]
  },
  {
   "cell_type": "code",
   "execution_count": 5,
   "metadata": {},
   "outputs": [
    {
     "data": {
      "text/plain": [
       "[(1, 3), (2, 2), (3, 1)]"
      ]
     },
     "execution_count": 5,
     "metadata": {},
     "output_type": "execute_result"
    }
   ],
   "source": [
    "S4 = [(i,j) for i in range(1,7) for j in range(1,7) if i+j == 4]\n",
    "S4"
   ]
  },
  {
   "cell_type": "code",
   "execution_count": 6,
   "metadata": {},
   "outputs": [],
   "source": [
    "def S(n):\n",
    "    Sn = [(i,j) for i in range(1,7) for j in range(1,7) if i+j == n]\n",
    "    return Sn"
   ]
  },
  {
   "cell_type": "code",
   "execution_count": 7,
   "metadata": {},
   "outputs": [
    {
     "name": "stdout",
     "output_type": "stream",
     "text": [
      "[(1, 3), (2, 2), (3, 1)]\n",
      "[(1, 6), (2, 5), (3, 4), (4, 3), (5, 2), (6, 1)]\n",
      "[(6, 6)]\n",
      "[]\n",
      "[]\n",
      "[]\n"
     ]
    }
   ],
   "source": [
    "print(S(4))\n",
    "print(S(7))\n",
    "print(S(12))\n",
    "print(S(-1))\n",
    "print(S(13))\n",
    "print(S(1))\n"
   ]
  },
  {
   "cell_type": "markdown",
   "metadata": {},
   "source": [
    "## 1.3. Eventos aleatorios  con diccionarios"
   ]
  },
  {
   "cell_type": "markdown",
   "metadata": {},
   "source": [
    "Definimos un diccionario en **Python** tal que a cada par $(i,j)$ de $\\Omega$ le coloque la etiqueta correspondiente a la suma $i+j$"
   ]
  },
  {
   "cell_type": "code",
   "execution_count": 8,
   "metadata": {},
   "outputs": [],
   "source": [
    "D = {(i,j): i+j for i in range(1,7) for j in range(1,7)}\n"
   ]
  },
  {
   "cell_type": "markdown",
   "metadata": {},
   "source": [
    "Las parejas $(i,j)$ son las **claves (etiquetas)** y las sumas $i+j$ son los **valores**"
   ]
  },
  {
   "cell_type": "code",
   "execution_count": 9,
   "metadata": {},
   "outputs": [
    {
     "data": {
      "text/plain": [
       "{(1, 1): 2,\n",
       " (1, 2): 3,\n",
       " (1, 3): 4,\n",
       " (1, 4): 5,\n",
       " (1, 5): 6,\n",
       " (1, 6): 7,\n",
       " (2, 1): 3,\n",
       " (2, 2): 4,\n",
       " (2, 3): 5,\n",
       " (2, 4): 6,\n",
       " (2, 5): 7,\n",
       " (2, 6): 8,\n",
       " (3, 1): 4,\n",
       " (3, 2): 5,\n",
       " (3, 3): 6,\n",
       " (3, 4): 7,\n",
       " (3, 5): 8,\n",
       " (3, 6): 9,\n",
       " (4, 1): 5,\n",
       " (4, 2): 6,\n",
       " (4, 3): 7,\n",
       " (4, 4): 8,\n",
       " (4, 5): 9,\n",
       " (4, 6): 10,\n",
       " (5, 1): 6,\n",
       " (5, 2): 7,\n",
       " (5, 3): 8,\n",
       " (5, 4): 9,\n",
       " (5, 5): 10,\n",
       " (5, 6): 11,\n",
       " (6, 1): 7,\n",
       " (6, 2): 8,\n",
       " (6, 3): 9,\n",
       " (6, 4): 10,\n",
       " (6, 5): 11,\n",
       " (6, 6): 12}"
      ]
     },
     "execution_count": 9,
     "metadata": {},
     "output_type": "execute_result"
    }
   ],
   "source": [
    "D"
   ]
  },
  {
   "cell_type": "code",
   "execution_count": 10,
   "metadata": {},
   "outputs": [
    {
     "data": {
      "text/plain": [
       "4"
      ]
     },
     "execution_count": 10,
     "metadata": {},
     "output_type": "execute_result"
    }
   ],
   "source": [
    "D[(1,3)]"
   ]
  },
  {
   "cell_type": "code",
   "execution_count": 11,
   "metadata": {},
   "outputs": [
    {
     "data": {
      "text/plain": [
       "8"
      ]
     },
     "execution_count": 11,
     "metadata": {},
     "output_type": "execute_result"
    }
   ],
   "source": [
    "D[(5,3)]"
   ]
  },
  {
   "cell_type": "code",
   "execution_count": 12,
   "metadata": {},
   "outputs": [
    {
     "data": {
      "text/plain": [
       "True"
      ]
     },
     "execution_count": 12,
     "metadata": {},
     "output_type": "execute_result"
    }
   ],
   "source": [
    "D[(4,2)] == D[(2,4)]"
   ]
  },
  {
   "cell_type": "markdown",
   "metadata": {},
   "source": [
    "# 2. ¿Cuál es la utilidad de un diccionario?"
   ]
  },
  {
   "cell_type": "markdown",
   "metadata": {},
   "source": [
    "Tiene mucho sentido entender al diccionario $D$ como una función $D: \\Omega \\to I$, donde $I=\\{2,3,4,5,6,7,8,9,10,11,12\\}$, dada por la regla\n",
    "\n",
    "$$ D(i,j) = i+j $$"
   ]
  },
  {
   "cell_type": "markdown",
   "metadata": {},
   "source": [
    "**OBSERVACIÓN**: La notación para este tipo de funciones (definidas sobre un espacio muestral) es comúnmente una letra X, y es llamada **variable aleatoria**, pero todo esto será aclarado posteriormente en el curso."
   ]
  },
  {
   "cell_type": "markdown",
   "metadata": {},
   "source": [
    "Los *diccionarios* en **Python** no sólo sirven para representar funciones, como el diccionario *D* anterior, sino también para encontrar las funciones inversas (o mejor dicho, las imágenes inversas) $D^{-1}$, las cuales también se pueden expresar como diccionarios, pero con los roles de las **etiquetas** y **valores** del diccionario $D$ invertidos."
   ]
  },
  {
   "cell_type": "markdown",
   "metadata": {},
   "source": [
    "En nuestro caso, las *imágenes inversas* de la función $D$ antes definida están dadas del modo siguiente:"
   ]
  },
  {
   "cell_type": "markdown",
   "metadata": {},
   "source": [
    "Dado $n\\in I$, la *imagen inversa de $n$ respecto a $D$* de $n$ es el conjunto\n",
    "\n",
    "$$ D^{-1}(n) = \\{(i,j) \\in \\Omega \\mid D(i,j) = i+j = n \\}$$"
   ]
  },
  {
   "cell_type": "markdown",
   "metadata": {},
   "source": [
    "En otras palabras, $D^{-1}(n)$ es el conjunto de todos los pares $(i,j) \\in \\Omega$ cuya suma $D(i,j) = i+j$ es $n$.\n",
    "\n",
    "Por ejemplo:\n",
    "\n",
    "$D^{-1}(2) = \\{(1,1)\\}$, tambien se usa la notación $D^{-1}(\\{2\\})$"
   ]
  },
  {
   "cell_type": "markdown",
   "metadata": {},
   "source": [
    "$D^{-1}(5) = \\{(1,4),(4,1),(2,3),(3,2)\\}$"
   ]
  },
  {
   "cell_type": "markdown",
   "metadata": {},
   "source": [
    "$D^{-1}(9) = \\{(3,6),(4,5),(5,4),(6,3)\\}$"
   ]
  },
  {
   "cell_type": "markdown",
   "metadata": {},
   "source": [
    "$D^{-1}(7) = \\{(1,6),(6,1),(2,5),(5,2),(3,4),(4,3)\\}$"
   ]
  },
  {
   "cell_type": "markdown",
   "metadata": {},
   "source": [
    "$D^{-1}(12) = \\{(6,6)\\}$"
   ]
  },
  {
   "cell_type": "markdown",
   "metadata": {},
   "source": [
    "De manera muy natural, cada uno de estos conjuntos los podemos escribir como **valores** asignados a una sola **etiqueta**: los valores son ahora los pares ordenados que están en $D(n)$ y la etiqueta es $n$ (i.e. invertimos los papeles del diccionario D):"
   ]
  },
  {
   "cell_type": "markdown",
   "metadata": {},
   "source": [
    "$D^{-1}(2) = \\{2:(1,1)\\}$\n"
   ]
  },
  {
   "cell_type": "markdown",
   "metadata": {},
   "source": [
    "$D^{-1}(5) = \\{5:(1,4),(2,3),(3,2),(4,1)\\}$"
   ]
  },
  {
   "cell_type": "markdown",
   "metadata": {},
   "source": [
    "$D^{-1}(9) = \\{9:(3,6),(4,5),(5,4),(6,3)\\}$"
   ]
  },
  {
   "cell_type": "markdown",
   "metadata": {},
   "source": [
    "$D^{-1}(7) = \\{7:(1,6),(6,1),(2,5),(5,2),(3,4),(4,3)\\}$"
   ]
  },
  {
   "cell_type": "markdown",
   "metadata": {},
   "source": [
    "$D^{-1}(12) = \\{12:(6,6)\\}$"
   ]
  },
  {
   "cell_type": "markdown",
   "metadata": {},
   "source": [
    "Observe entonces que el conjunto de imágenes inversas\n",
    "\n",
    "$$D^{-1} := \\{D^{-1}(n)\\mid n\\in I\\}$$\n",
    "\n",
    "puede interpretarse en **Python** nuevamente como un diccionario si lo escribimos de la siguiente manera (tal cómo lo arrojaría un programa **Python**):\n",
    "\n",
    "$$\n",
    "\\begin{align}D^{-1}:=\\{&2:(1,1), \\\\\n",
    "&3:(1,2),(2,1),\\\\\n",
    "&4:(1,3),(2,2),(3,1),\\\\\n",
    "&\\vdots\\\\\n",
    "&12:(6,6)\\}\n",
    "\\end{align}\n",
    "$$\n",
    "\n",
    "pero en el que se han invertido los papeles de quiénes son las **etiquetas** y quiénes son los **valores** del diccionario $D$."
   ]
  },
  {
   "cell_type": "markdown",
   "metadata": {},
   "source": [
    "Lo que vamos a hacer a continuación será construir este \"diccionario inverso\" en **Python**."
   ]
  },
  {
   "cell_type": "markdown",
   "metadata": {},
   "source": [
    "# 2. El método items()"
   ]
  },
  {
   "cell_type": "markdown",
   "metadata": {},
   "source": [
    "Como ya hemos dicho, queremos crear un diccionario un poco más sofisticado.\n",
    "\n",
    "Queremos crear un diccionario que asigne una sola etiqueta $n$ al conjunto de todos los pares $(i,j)$ tales que $i+j=n$\n",
    "\n",
    "Para ello contamos con varias herramientas.\n",
    "\n",
    "La primera que debemos conocer es conocidad como \"el método **items()**\"."
   ]
  },
  {
   "cell_type": "code",
   "execution_count": 13,
   "metadata": {},
   "outputs": [
    {
     "data": {
      "text/plain": [
       "dict_items([((1, 1), 2), ((1, 2), 3), ((1, 3), 4), ((1, 4), 5), ((1, 5), 6), ((1, 6), 7), ((2, 1), 3), ((2, 2), 4), ((2, 3), 5), ((2, 4), 6), ((2, 5), 7), ((2, 6), 8), ((3, 1), 4), ((3, 2), 5), ((3, 3), 6), ((3, 4), 7), ((3, 5), 8), ((3, 6), 9), ((4, 1), 5), ((4, 2), 6), ((4, 3), 7), ((4, 4), 8), ((4, 5), 9), ((4, 6), 10), ((5, 1), 6), ((5, 2), 7), ((5, 3), 8), ((5, 4), 9), ((5, 5), 10), ((5, 6), 11), ((6, 1), 7), ((6, 2), 8), ((6, 3), 9), ((6, 4), 10), ((6, 5), 11), ((6, 6), 12)])"
      ]
     },
     "execution_count": 13,
     "metadata": {},
     "output_type": "execute_result"
    }
   ],
   "source": [
    "D.items()"
   ]
  },
  {
   "cell_type": "markdown",
   "metadata": {},
   "source": [
    "La sintaxis de **items()** no toma parámetros. El método devuelve una vista de lista que muestra el par de tuplas de un diccionario en la forma **(clave, valor)**."
   ]
  },
  {
   "cell_type": "markdown",
   "metadata": {},
   "source": [
    "## Ejemplo"
   ]
  },
  {
   "cell_type": "code",
   "execution_count": 14,
   "metadata": {},
   "outputs": [
    {
     "data": {
      "text/plain": [
       "dict_items([('manzana', 2), ('naranja', 4), ('mandarina', 7)])"
      ]
     },
     "execution_count": 14,
     "metadata": {},
     "output_type": "execute_result"
    }
   ],
   "source": [
    "ventas = {'manzana':2, 'naranja':4, 'mandarina':7}\n",
    "ventas.items()"
   ]
  },
  {
   "cell_type": "markdown",
   "metadata": {},
   "source": [
    "¿Para qué se puede usar?"
   ]
  },
  {
   "cell_type": "code",
   "execution_count": 15,
   "metadata": {},
   "outputs": [
    {
     "name": "stdout",
     "output_type": "stream",
     "text": [
      "manzana\n",
      "naranja\n",
      "mandarina\n"
     ]
    }
   ],
   "source": [
    "for Items in ventas.items():\n",
    "    print(Items[0])"
   ]
  },
  {
   "cell_type": "code",
   "execution_count": 16,
   "metadata": {},
   "outputs": [
    {
     "name": "stdout",
     "output_type": "stream",
     "text": [
      "2\n",
      "4\n",
      "7\n"
     ]
    }
   ],
   "source": [
    "for Items in ventas.items():\n",
    "    print(Items[1])"
   ]
  },
  {
   "cell_type": "markdown",
   "metadata": {},
   "source": [
    "# 3. La función defaultdict"
   ]
  },
  {
   "cell_type": "markdown",
   "metadata": {},
   "source": [
    "La función **defaultdict** que está incorporado al módulo **collections** crea diccionarios con valores predeterminados de acuerdo a una clave ingresada, la cual puede ser inexistente generalmente.\n",
    "\n",
    "La sintaxis es:"
   ]
  },
  {
   "cell_type": "code",
   "execution_count": 17,
   "metadata": {},
   "outputs": [],
   "source": [
    "import collections"
   ]
  },
  {
   "cell_type": "markdown",
   "metadata": {},
   "source": [
    "La función es cargada con la sintaxis:\n",
    "\n",
    "**collections.defaultdict(default_factory)**"
   ]
  },
  {
   "cell_type": "markdown",
   "metadata": {},
   "source": [
    "Donde **default_factory** puede ser alguno de los parámetros:\n",
    " - **list** útil para crear diccionarios cuyos valores son listas\n",
    " - **int** útil para crear diccionarios que cuentan cosas, como letras o palabras en un texto\n",
    " - **set** útil para crear diccionarios de conjuntos\n",
    " - **lambda:None** útil para crear diccionarios con valores predeterminados con claves inexistentes\n",
    " \n",
    " Hay más posibilidades para **default_factory**. Una documentación completa puede encontrarse en la red."
   ]
  },
  {
   "cell_type": "markdown",
   "metadata": {},
   "source": [
    "## Ejemplo *lambda:None*"
   ]
  },
  {
   "cell_type": "markdown",
   "metadata": {},
   "source": [
    "Vamos a crear un diccionario que asigna a los amigos Andrea y Fabián (etiquetas) su helado favorito (valor). Pero además, si se junta un nuevo amigo (nueva etiqueta), el programa le asigna *por defecto* el helado de vainilla (un valor fijo)."
   ]
  },
  {
   "cell_type": "code",
   "execution_count": 18,
   "metadata": {},
   "outputs": [],
   "source": [
    "from collections import defaultdict # Forma común de importar únicamente la función defaultdict"
   ]
  },
  {
   "cell_type": "markdown",
   "metadata": {},
   "source": [
    "Nuestro diccionario se llamará **\"ice_cream\"**\n",
    "\n",
    "Primero asignamos el sabor (valor) por defecto a cualquier persona (etiqueta):"
   ]
  },
  {
   "cell_type": "code",
   "execution_count": 19,
   "metadata": {},
   "outputs": [],
   "source": [
    "# Asignación del sabor del helado (valor) por defecto,\n",
    "# que será el sabor Vanilla, a cualquier persona (clave-etiqueta) lambda\n",
    "ice_cream = defaultdict(lambda: 'Vanilla')"
   ]
  },
  {
   "cell_type": "code",
   "execution_count": 20,
   "metadata": {},
   "outputs": [
    {
     "data": {
      "text/plain": [
       "defaultdict(<function __main__.<lambda>()>, {})"
      ]
     },
     "execution_count": 20,
     "metadata": {},
     "output_type": "execute_result"
    }
   ],
   "source": [
    "ice_cream"
   ]
  },
  {
   "cell_type": "code",
   "execution_count": 21,
   "metadata": {},
   "outputs": [
    {
     "data": {
      "text/plain": [
       "dict_items([])"
      ]
     },
     "execution_count": 21,
     "metadata": {},
     "output_type": "execute_result"
    }
   ],
   "source": [
    "ice_cream.items()"
   ]
  },
  {
   "cell_type": "markdown",
   "metadata": {},
   "source": [
    "Ahora asignamos a Andrea y a Fabián sus helados favoritos"
   ]
  },
  {
   "cell_type": "code",
   "execution_count": 22,
   "metadata": {},
   "outputs": [],
   "source": [
    "ice_cream['Andrea'] = 'Chunky Monkey'\n",
    "ice_cream['Fabián'] = 'Butter Pecan'"
   ]
  },
  {
   "cell_type": "code",
   "execution_count": 23,
   "metadata": {},
   "outputs": [
    {
     "data": {
      "text/plain": [
       "dict_items([('Andrea', 'Chunky Monkey'), ('Fabián', 'Butter Pecan')])"
      ]
     },
     "execution_count": 23,
     "metadata": {},
     "output_type": "execute_result"
    }
   ],
   "source": [
    "ice_cream.items()"
   ]
  },
  {
   "cell_type": "code",
   "execution_count": 24,
   "metadata": {},
   "outputs": [
    {
     "data": {
      "text/plain": [
       "'Chunky Monkey'"
      ]
     },
     "execution_count": 24,
     "metadata": {},
     "output_type": "execute_result"
    }
   ],
   "source": [
    "ice_cream['Andrea']"
   ]
  },
  {
   "cell_type": "code",
   "execution_count": 25,
   "metadata": {},
   "outputs": [
    {
     "data": {
      "text/plain": [
       "'Butter Pecan'"
      ]
     },
     "execution_count": 25,
     "metadata": {},
     "output_type": "execute_result"
    }
   ],
   "source": [
    "ice_cream['Fabián']"
   ]
  },
  {
   "cell_type": "code",
   "execution_count": 26,
   "metadata": {},
   "outputs": [
    {
     "data": {
      "text/plain": [
       "'Vanilla'"
      ]
     },
     "execution_count": 26,
     "metadata": {},
     "output_type": "execute_result"
    }
   ],
   "source": [
    "ice_cream['Dafne']"
   ]
  },
  {
   "cell_type": "code",
   "execution_count": 27,
   "metadata": {},
   "outputs": [
    {
     "data": {
      "text/plain": [
       "'Vanilla'"
      ]
     },
     "execution_count": 27,
     "metadata": {},
     "output_type": "execute_result"
    }
   ],
   "source": [
    "ice_cream['Valeria']"
   ]
  },
  {
   "cell_type": "code",
   "execution_count": 28,
   "metadata": {},
   "outputs": [
    {
     "data": {
      "text/plain": [
       "'Vanilla'"
      ]
     },
     "execution_count": 28,
     "metadata": {},
     "output_type": "execute_result"
    }
   ],
   "source": [
    "ice_cream['Santiago']"
   ]
  },
  {
   "cell_type": "code",
   "execution_count": 29,
   "metadata": {},
   "outputs": [
    {
     "data": {
      "text/plain": [
       "dict_items([('Andrea', 'Chunky Monkey'), ('Fabián', 'Butter Pecan'), ('Dafne', 'Vanilla'), ('Valeria', 'Vanilla'), ('Santiago', 'Vanilla')])"
      ]
     },
     "execution_count": 29,
     "metadata": {},
     "output_type": "execute_result"
    }
   ],
   "source": [
    "ice_cream.items()"
   ]
  },
  {
   "cell_type": "markdown",
   "metadata": {},
   "source": [
    "Programa final **ice_cream.py**:"
   ]
  },
  {
   "cell_type": "code",
   "execution_count": 30,
   "metadata": {},
   "outputs": [
    {
     "name": "stdout",
     "output_type": "stream",
     "text": [
      "dict_items([]) \n",
      "\n",
      "dict_items([('Andrea', 'Chunky Monkey'), ('Fabián', 'Butter Pecan')]) \n",
      "\n",
      "dict_items([('Andrea', 'Chunky Monkey'), ('Fabián', 'Butter Pecan'), ('Dafne', 'Vanilla'), ('Valeria', 'Vanilla'), ('Santiago', 'Vanilla'), ('Diego', 'Vanilla'), ('Julio', 'Vanilla')])\n"
     ]
    }
   ],
   "source": [
    "'''\n",
    "Vamos a crear un diccionario que asigna a los amigos de Andrea y Fabián (etiquetas),\n",
    "su helado favorito (valor).\n",
    "Pero además, si se junta un nuevo amigo (nueva etiqueta), el programa le asigna por defecto\n",
    "el helado de vainilla (un valor fijo).\n",
    "'''\n",
    "\n",
    "from collections import defaultdict # Forma común de importar únicamente la función defaultdict\n",
    "\n",
    "# Asignación del sabor del helado (valor) por defecto,\n",
    "# que será el sabor Vanilla, a cualquier persona (clave-etiqueta) lambda\n",
    "\n",
    "ice_cream = defaultdict(lambda: 'Vanilla')\n",
    "\n",
    "print(ice_cream.items(), \"\\n\")\n",
    "\n",
    "ice_cream['Andrea'] = 'Chunky Monkey'\n",
    "ice_cream['Fabián'] = 'Butter Pecan'\n",
    "\n",
    "print(ice_cream.items(), \"\\n\")\n",
    "\n",
    "ice_cream['Dafne']\n",
    "ice_cream['Valeria']\n",
    "ice_cream['Santiago']\n",
    "ice_cream['Diego']\n",
    "ice_cream['Julio']\n",
    "\n",
    "print(ice_cream.items())"
   ]
  },
  {
   "cell_type": "markdown",
   "metadata": {},
   "source": [
    "## Ejemplo *int*"
   ]
  },
  {
   "cell_type": "markdown",
   "metadata": {},
   "source": [
    "Vamos a contar cuántas veces aparece cada letra de la palabra **\"mississipi\"**"
   ]
  },
  {
   "cell_type": "code",
   "execution_count": 31,
   "metadata": {},
   "outputs": [],
   "source": [
    "palabra = 'mississipi'"
   ]
  },
  {
   "cell_type": "markdown",
   "metadata": {},
   "source": [
    "Podemos enlistar las letras de **'mississipi'**"
   ]
  },
  {
   "cell_type": "code",
   "execution_count": 32,
   "metadata": {},
   "outputs": [
    {
     "name": "stdout",
     "output_type": "stream",
     "text": [
      "m\n",
      "i\n",
      "s\n",
      "s\n",
      "i\n",
      "s\n",
      "s\n",
      "i\n",
      "p\n",
      "i\n"
     ]
    }
   ],
   "source": [
    "for k in palabra:\n",
    "    print(k)"
   ]
  },
  {
   "cell_type": "code",
   "execution_count": 33,
   "metadata": {},
   "outputs": [],
   "source": [
    "cuenta = defaultdict(int) # Creamos un diccionario \"cuenta\" cuyas claves-etiquetas son enteros"
   ]
  },
  {
   "cell_type": "code",
   "execution_count": 34,
   "metadata": {},
   "outputs": [
    {
     "data": {
      "text/plain": [
       "defaultdict(int, {})"
      ]
     },
     "execution_count": 34,
     "metadata": {},
     "output_type": "execute_result"
    }
   ],
   "source": [
    "cuenta"
   ]
  },
  {
   "cell_type": "markdown",
   "metadata": {},
   "source": [
    "¿Qué hace el diccionario **\"cuenta\"** entonces?\n",
    "\n",
    "Por el momento, el diccionario **\"cuenta\"** asigna la clave-etiqueta 0 a cualquier cosa:"
   ]
  },
  {
   "cell_type": "code",
   "execution_count": 35,
   "metadata": {},
   "outputs": [
    {
     "data": {
      "text/plain": [
       "0"
      ]
     },
     "execution_count": 35,
     "metadata": {},
     "output_type": "execute_result"
    }
   ],
   "source": [
    "cuenta['m']"
   ]
  },
  {
   "cell_type": "code",
   "execution_count": 36,
   "metadata": {},
   "outputs": [
    {
     "data": {
      "text/plain": [
       "0"
      ]
     },
     "execution_count": 36,
     "metadata": {},
     "output_type": "execute_result"
    }
   ],
   "source": [
    "cuenta['i']"
   ]
  },
  {
   "cell_type": "code",
   "execution_count": 37,
   "metadata": {},
   "outputs": [
    {
     "data": {
      "text/plain": [
       "0"
      ]
     },
     "execution_count": 37,
     "metadata": {},
     "output_type": "execute_result"
    }
   ],
   "source": [
    "cuenta['bla']"
   ]
  },
  {
   "cell_type": "code",
   "execution_count": 38,
   "metadata": {},
   "outputs": [
    {
     "data": {
      "text/plain": [
       "0"
      ]
     },
     "execution_count": 38,
     "metadata": {},
     "output_type": "execute_result"
    }
   ],
   "source": [
    "cuenta[2]"
   ]
  },
  {
   "cell_type": "code",
   "execution_count": 39,
   "metadata": {},
   "outputs": [
    {
     "data": {
      "text/plain": [
       "dict_items([('m', 0), ('i', 0), ('bla', 0), (2, 0)])"
      ]
     },
     "execution_count": 39,
     "metadata": {},
     "output_type": "execute_result"
    }
   ],
   "source": [
    "cuenta.items()"
   ]
  },
  {
   "cell_type": "code",
   "execution_count": 40,
   "metadata": {},
   "outputs": [],
   "source": [
    "cuenta['bla'] = cuenta['bla'] + 1"
   ]
  },
  {
   "cell_type": "code",
   "execution_count": 41,
   "metadata": {},
   "outputs": [
    {
     "data": {
      "text/plain": [
       "1"
      ]
     },
     "execution_count": 41,
     "metadata": {},
     "output_type": "execute_result"
    }
   ],
   "source": [
    "cuenta['bla']"
   ]
  },
  {
   "cell_type": "code",
   "execution_count": 42,
   "metadata": {},
   "outputs": [
    {
     "data": {
      "text/plain": [
       "dict_items([('m', 0), ('i', 0), ('bla', 1), (2, 0)])"
      ]
     },
     "execution_count": 42,
     "metadata": {},
     "output_type": "execute_result"
    }
   ],
   "source": [
    "cuenta.items()"
   ]
  },
  {
   "cell_type": "markdown",
   "metadata": {},
   "source": [
    "Finalmente, en el programa **cuenta_letras.py**, vamos a asociar el diccionario **\"cuenta\"** con la palabra **\"mississipi\"** usando **for**:"
   ]
  },
  {
   "cell_type": "code",
   "execution_count": 43,
   "metadata": {},
   "outputs": [
    {
     "data": {
      "text/plain": [
       "dict_items([('m', 1), ('i', 4), ('s', 4), ('p', 1)])"
      ]
     },
     "execution_count": 43,
     "metadata": {},
     "output_type": "execute_result"
    }
   ],
   "source": [
    "# Este programa cuenta el número de veces que aparece\n",
    "# cada una de las letras de la palabra 'mississipi', y \n",
    "# va a poner el resultado en un diccionario\n",
    "\n",
    "from collections import defaultdict\n",
    "\n",
    "palabra = 'mississipi'\n",
    "cuenta = defaultdict(int)\n",
    "for k in palabra:\n",
    "    cuenta[k] += 1\n",
    "    \n",
    "# si k está en la palabra 'mississipi', entonces, por defecto cuenta[k] = 0.\n",
    "# Pero el programa dice que si k está en la palabra 'mississipi', entonces\n",
    "# cuenta[k] se actualiza a cuenta[k] + 1.\n",
    "\n",
    "cuenta.items()"
   ]
  },
  {
   "cell_type": "markdown",
   "metadata": {},
   "source": [
    "## Ejemplo *list*"
   ]
  },
  {
   "cell_type": "markdown",
   "metadata": {},
   "source": [
    "Supongamos que un almacenista en una zapatería anota en una lista el número de lotes de zapatos por color, conforme dichos lotes van llegando a la tienda. El resultado es una lista como sigue:"
   ]
  },
  {
   "cell_type": "code",
   "execution_count": 44,
   "metadata": {},
   "outputs": [
    {
     "data": {
      "text/plain": [
       "[('Amarillo', 1), ('azul', 2), ('Amarillo', 3), ('azul', 4), ('rojo', 1)]"
      ]
     },
     "execution_count": 44,
     "metadata": {},
     "output_type": "execute_result"
    }
   ],
   "source": [
    "Z = [('Amarillo', 1), ('azul', 2), ('Amarillo', 3), ('azul', 4), ('rojo', 1)]\n",
    "Z"
   ]
  },
  {
   "cell_type": "markdown",
   "metadata": {},
   "source": [
    "$(u,v)\\in Z$, por ejemplo $(u,v)=(Amarillo, 1)$ lo que hace el *for* es tomar $u$ como etiqueta y agregar a la lista vacía OZ\\[u\\] el número de lote $v$. Así en el primer paso, OZ\\[Amarillo\\] = \\[1\\]. Cuando el *for* llegue a la tupla $(Amarillo, 3)$, entonces la lista OZ\\[Amarillo\\] queda actualizada como OZ\\[Amarillo\\] = \\[1,3\\]"
   ]
  },
  {
   "cell_type": "markdown",
   "metadata": {},
   "source": [
    "Queremos ordenar la lista anterior en una nueva lista que sume el número de lotes (claves-etiquetas) para cada color (valor).\n",
    " - El primer paso será crear un diccionario que asigne a cada valor (clae) una lista (valor) formada para los lotes que llegan de ese color.\n",
    " - El segundo paso consiste en sumar las entradas de la lista asignada a cada color, y poner dicha suma como nuevo valor para dicho color.\n",
    "\n",
    "Para llevar a cabo el primer paso usamos **defaultdict(list)**"
   ]
  },
  {
   "cell_type": "code",
   "execution_count": 45,
   "metadata": {},
   "outputs": [],
   "source": [
    "OZ = defaultdict(list)"
   ]
  },
  {
   "cell_type": "code",
   "execution_count": 46,
   "metadata": {},
   "outputs": [
    {
     "data": {
      "text/plain": [
       "defaultdict(list, {})"
      ]
     },
     "execution_count": 46,
     "metadata": {},
     "output_type": "execute_result"
    }
   ],
   "source": [
    "OZ"
   ]
  },
  {
   "cell_type": "code",
   "execution_count": 47,
   "metadata": {},
   "outputs": [
    {
     "data": {
      "text/plain": [
       "dict_items([])"
      ]
     },
     "execution_count": 47,
     "metadata": {},
     "output_type": "execute_result"
    }
   ],
   "source": [
    "OZ.items()"
   ]
  },
  {
   "cell_type": "code",
   "execution_count": 48,
   "metadata": {},
   "outputs": [],
   "source": [
    "for u,v in Z:\n",
    "    OZ[u].append(v)"
   ]
  },
  {
   "cell_type": "code",
   "execution_count": 49,
   "metadata": {},
   "outputs": [
    {
     "data": {
      "text/plain": [
       "defaultdict(list, {'Amarillo': [1, 3], 'azul': [2, 4], 'rojo': [1]})"
      ]
     },
     "execution_count": 49,
     "metadata": {},
     "output_type": "execute_result"
    }
   ],
   "source": [
    "OZ"
   ]
  },
  {
   "cell_type": "code",
   "execution_count": 50,
   "metadata": {},
   "outputs": [
    {
     "data": {
      "text/plain": [
       "dict_items([('Amarillo', [1, 3]), ('azul', [2, 4]), ('rojo', [1])])"
      ]
     },
     "execution_count": 50,
     "metadata": {},
     "output_type": "execute_result"
    }
   ],
   "source": [
    "OZ.items()"
   ]
  },
  {
   "cell_type": "markdown",
   "metadata": {},
   "source": [
    "### Reto Python"
   ]
  },
  {
   "cell_type": "markdown",
   "metadata": {},
   "source": [
    "Aún no obtenemos lo que quiere el zapatero. ¿Qué debemos hacer? Escribe un programa **Python** con tu respuesta y envíalo al classroom, correo ó telegram de siempre."
   ]
  },
  {
   "cell_type": "code",
   "execution_count": 51,
   "metadata": {},
   "outputs": [
    {
     "name": "stdout",
     "output_type": "stream",
     "text": [
      "Hay 4 lotes de color Amarillo\n",
      "Hay 6 lotes de color azul\n",
      "Hay 1 lotes de color rojo\n"
     ]
    }
   ],
   "source": [
    "res = defaultdict(int)\n",
    "for color,lista in OZ.items():\n",
    "    for num in lista:\n",
    "        res[color] += num\n",
    "\n",
    "for color in res:\n",
    "    print(\"Hay \" + str(res[color]) + \" lotes de color \" + color)\n",
    "        "
   ]
  },
  {
   "cell_type": "markdown",
   "metadata": {},
   "source": [
    "### Observación"
   ]
  },
  {
   "cell_type": "markdown",
   "metadata": {},
   "source": [
    "¿Qué pasa si invertimos el orden de $u$ y $v$ en el código dentro del bloque **for**?"
   ]
  },
  {
   "cell_type": "code",
   "execution_count": 52,
   "metadata": {},
   "outputs": [],
   "source": [
    "OZ = defaultdict(list)"
   ]
  },
  {
   "cell_type": "code",
   "execution_count": 53,
   "metadata": {},
   "outputs": [],
   "source": [
    "for u,v in Z:\n",
    "    OZ[v].append(u)"
   ]
  },
  {
   "cell_type": "code",
   "execution_count": 54,
   "metadata": {},
   "outputs": [
    {
     "data": {
      "text/plain": [
       "defaultdict(list,\n",
       "            {1: ['Amarillo', 'rojo'],\n",
       "             2: ['azul'],\n",
       "             3: ['Amarillo'],\n",
       "             4: ['azul']})"
      ]
     },
     "execution_count": 54,
     "metadata": {},
     "output_type": "execute_result"
    }
   ],
   "source": [
    "OZ"
   ]
  },
  {
   "cell_type": "markdown",
   "metadata": {},
   "source": [
    "# 4. El evento $S_n$ con diccionarios"
   ]
  },
  {
   "cell_type": "code",
   "execution_count": 55,
   "metadata": {},
   "outputs": [
    {
     "data": {
      "text/plain": [
       "{(1, 1): 2,\n",
       " (1, 2): 3,\n",
       " (1, 3): 4,\n",
       " (1, 4): 5,\n",
       " (1, 5): 6,\n",
       " (1, 6): 7,\n",
       " (2, 1): 3,\n",
       " (2, 2): 4,\n",
       " (2, 3): 5,\n",
       " (2, 4): 6,\n",
       " (2, 5): 7,\n",
       " (2, 6): 8,\n",
       " (3, 1): 4,\n",
       " (3, 2): 5,\n",
       " (3, 3): 6,\n",
       " (3, 4): 7,\n",
       " (3, 5): 8,\n",
       " (3, 6): 9,\n",
       " (4, 1): 5,\n",
       " (4, 2): 6,\n",
       " (4, 3): 7,\n",
       " (4, 4): 8,\n",
       " (4, 5): 9,\n",
       " (4, 6): 10,\n",
       " (5, 1): 6,\n",
       " (5, 2): 7,\n",
       " (5, 3): 8,\n",
       " (5, 4): 9,\n",
       " (5, 5): 10,\n",
       " (5, 6): 11,\n",
       " (6, 1): 7,\n",
       " (6, 2): 8,\n",
       " (6, 3): 9,\n",
       " (6, 4): 10,\n",
       " (6, 5): 11,\n",
       " (6, 6): 12}"
      ]
     },
     "execution_count": 55,
     "metadata": {},
     "output_type": "execute_result"
    }
   ],
   "source": [
    "D"
   ]
  },
  {
   "cell_type": "code",
   "execution_count": 56,
   "metadata": {},
   "outputs": [
    {
     "data": {
      "text/plain": [
       "defaultdict(list,\n",
       "            {2: [(1, 1)],\n",
       "             3: [(1, 2), (2, 1)],\n",
       "             4: [(1, 3), (2, 2), (3, 1)],\n",
       "             5: [(1, 4), (2, 3), (3, 2), (4, 1)],\n",
       "             6: [(1, 5), (2, 4), (3, 3), (4, 2), (5, 1)],\n",
       "             7: [(1, 6), (2, 5), (3, 4), (4, 3), (5, 2), (6, 1)],\n",
       "             8: [(2, 6), (3, 5), (4, 4), (5, 3), (6, 2)],\n",
       "             9: [(3, 6), (4, 5), (5, 4), (6, 3)],\n",
       "             10: [(4, 6), (5, 5), (6, 4)],\n",
       "             11: [(5, 6), (6, 5)],\n",
       "             12: [(6, 6)]})"
      ]
     },
     "execution_count": 56,
     "metadata": {},
     "output_type": "execute_result"
    }
   ],
   "source": [
    "from collections import defaultdict\n",
    "S = defaultdict(list)\n",
    "for i,j in D.items():\n",
    "    S[j].append(i)\n",
    "S"
   ]
  },
  {
   "cell_type": "code",
   "execution_count": 57,
   "metadata": {},
   "outputs": [
    {
     "data": {
      "text/plain": [
       "dict_items([(2, [(1, 1)]), (3, [(1, 2), (2, 1)]), (4, [(1, 3), (2, 2), (3, 1)]), (5, [(1, 4), (2, 3), (3, 2), (4, 1)]), (6, [(1, 5), (2, 4), (3, 3), (4, 2), (5, 1)]), (7, [(1, 6), (2, 5), (3, 4), (4, 3), (5, 2), (6, 1)]), (8, [(2, 6), (3, 5), (4, 4), (5, 3), (6, 2)]), (9, [(3, 6), (4, 5), (5, 4), (6, 3)]), (10, [(4, 6), (5, 5), (6, 4)]), (11, [(5, 6), (6, 5)]), (12, [(6, 6)])])"
      ]
     },
     "execution_count": 57,
     "metadata": {},
     "output_type": "execute_result"
    }
   ],
   "source": [
    "S.items()"
   ]
  },
  {
   "cell_type": "code",
   "execution_count": 58,
   "metadata": {},
   "outputs": [
    {
     "data": {
      "text/plain": [
       "[(1, 1)]"
      ]
     },
     "execution_count": 58,
     "metadata": {},
     "output_type": "execute_result"
    }
   ],
   "source": [
    "S[2]"
   ]
  },
  {
   "cell_type": "code",
   "execution_count": 59,
   "metadata": {},
   "outputs": [
    {
     "data": {
      "text/plain": [
       "[(1, 6), (2, 5), (3, 4), (4, 3), (5, 2), (6, 1)]"
      ]
     },
     "execution_count": 59,
     "metadata": {},
     "output_type": "execute_result"
    }
   ],
   "source": [
    "S[7]"
   ]
  },
  {
   "cell_type": "markdown",
   "metadata": {},
   "source": [
    "# 5. Cálculo de Probabilidades"
   ]
  },
  {
   "cell_type": "code",
   "execution_count": 60,
   "metadata": {},
   "outputs": [
    {
     "data": {
      "text/plain": [
       "{2: 0.027777777777777776,\n",
       " 3: 0.05555555555555555,\n",
       " 4: 0.08333333333333333,\n",
       " 5: 0.1111111111111111,\n",
       " 6: 0.1388888888888889,\n",
       " 7: 0.16666666666666666,\n",
       " 8: 0.1388888888888889,\n",
       " 9: 0.1111111111111111,\n",
       " 10: 0.08333333333333333,\n",
       " 11: 0.05555555555555555,\n",
       " 12: 0.027777777777777776}"
      ]
     },
     "execution_count": 60,
     "metadata": {},
     "output_type": "execute_result"
    }
   ],
   "source": [
    "P = {i:len(j)/36 for i,j in S.items()}\n",
    "P"
   ]
  },
  {
   "cell_type": "markdown",
   "metadata": {},
   "source": [
    "Sería interesante comparar la cantidad de formas en las que se pueden sumar los distintos números (2-12) con las probabilidades de arriba. Puedo usar gráficas para que sea más fácil compararlas. Deben resultar muy similares."
   ]
  },
  {
   "cell_type": "code",
   "execution_count": 61,
   "metadata": {},
   "outputs": [
    {
     "data": {
      "image/png": "[encoded data removed]",
      "text/plain": [
       "<Figure size 432x288 with 1 Axes>"
      ]
     },
     "metadata": {
      "needs_background": "light"
     },
     "output_type": "display_data"
    }
   ],
   "source": [
    "import matplotlib.pyplot as plt\n",
    "fig = plt.figure()\n",
    "ax = fig.add_axes([0,0,1,1])\n",
    "suma_dado = [str(i) for i,j in S.items()]\n",
    "res_dado = [len(j) for i,j in S.items()]\n",
    "ax.bar(suma_dado,res_dado)\n",
    "plt.title(\"Formas en las que puede salir cada número\") #Titulo de la imagen\n",
    "plt.show() #Lanza la imagen construida "
   ]
  },
  {
   "cell_type": "code",
   "execution_count": 62,
   "metadata": {},
   "outputs": [
    {
     "data": {
      "image/png": "[encoded data removed]",
      "text/plain": [
       "<Figure size 432x288 with 1 Axes>"
      ]
     },
     "metadata": {
      "needs_background": "light"
     },
     "output_type": "display_data"
    }
   ],
   "source": [
    "fig = plt.figure()\n",
    "ax = fig.add_axes([0,0,1,1])\n",
    "suma_dado = [str(i) for i,j in P.items()]\n",
    "res_dado = [j for i,j in P.items()]\n",
    "ax.bar(suma_dado,res_dado)\n",
    "plt.title(\"Probabilidad de que la suma de los dados sea cada número\")\n",
    "plt.show()"
   ]
  },
  {
   "cell_type": "markdown",
   "metadata": {},
   "source": [
    "En efecto, las dos gráficas se ven iguales. Lo que esperaba obtener :)\n",
    "\n",
    "Ahora, Julio dijo que había un ejercicio que debíamos (necesitábamos) hacer. Lanzar un dado 100 veces. Creo que la gráfica será muy similar a las dos anteriores. Y probablemente no sea tan simétrica por ser aleatorio."
   ]
  },
  {
   "cell_type": "code",
   "execution_count": 63,
   "metadata": {},
   "outputs": [],
   "source": [
    "import random\n",
    "from collections import defaultdict\n",
    "\n",
    "def lanzar_dado():\n",
    "    return random.randint(1,6)\n",
    "\n",
    "def lanzar_2dados():\n",
    "    return lanzar_dado() + lanzar_dado()\n",
    "\n",
    "def lanzar_nveces(n):\n",
    "    lanzamientos = defaultdict(int)\n",
    "    for i in range (2,13):\n",
    "        lanzamientos[i]\n",
    "\n",
    "    for i in range(n):\n",
    "        res = lanzar_2dados()\n",
    "        lanzamientos[res] += 1\n",
    "        \n",
    "    return lanzamientos"
   ]
  },
  {
   "cell_type": "code",
   "execution_count": 70,
   "metadata": {},
   "outputs": [
    {
     "data": {
      "image/png": "[encoded data removed]",
      "text/plain": [
       "<Figure size 432x288 with 1 Axes>"
      ]
     },
     "metadata": {
      "needs_background": "light"
     },
     "output_type": "display_data"
    }
   ],
   "source": [
    "lanzamientos = lanzar_nveces(100)\n",
    "lanzamientos\n",
    "fig = plt.figure()\n",
    "ax = fig.add_axes([0,0,1,1])\n",
    "suma_dado = [str(i) for i,j in lanzamientos.items()]\n",
    "res_dado = [j for i,j in lanzamientos.items()]\n",
    "suma_dado = list(lanzamientos.keys())\n",
    "res_dado = list(lanzamientos.values())\n",
    "\n",
    "ax.bar(suma_dado,res_dado)\n",
    "plt.title(\"Experimento, cantidades totales\")\n",
    "plt.show()"
   ]
  },
  {
   "cell_type": "code",
   "execution_count": 71,
   "metadata": {},
   "outputs": [
    {
     "data": {
      "text/plain": [
       "defaultdict(int,\n",
       "            {2: 2,\n",
       "             3: 4,\n",
       "             4: 3,\n",
       "             5: 11,\n",
       "             6: 18,\n",
       "             7: 14,\n",
       "             8: 20,\n",
       "             9: 7,\n",
       "             10: 11,\n",
       "             11: 8,\n",
       "             12: 2})"
      ]
     },
     "execution_count": 71,
     "metadata": {},
     "output_type": "execute_result"
    }
   ],
   "source": [
    "lanzamientos"
   ]
  },
  {
   "cell_type": "code",
   "execution_count": 72,
   "metadata": {},
   "outputs": [
    {
     "data": {
      "text/plain": [
       "0"
      ]
     },
     "execution_count": 72,
     "metadata": {},
     "output_type": "execute_result"
    }
   ],
   "source": [
    "lanzamientos[13]"
   ]
  },
  {
   "cell_type": "markdown",
   "metadata": {},
   "source": [
    "La gráfica sale justo como me lo imaginaba. Se asemeja a las gráficas de probabilidad, pero no es tan simétrica. A veces un 10 le gana al 9, o un 9 sale más veces que un 8.\n",
    "\n",
    "**¿Cómo le hago para que la gráfica sea más parecida a la gráfica de probabilidad?**\n",
    "\n",
    "Si modifico el número de lanzamientos a 1000, a 10_000, se va acercando cada vez más a las gráficas de arriba. Creo que se debe a que los pequeños errores en una enorme cantidad de lanzamientos no se distingue tan bien como en pocos lanzamientos.\n",
    "\n",
    "**¿Qué pasa si ahora lo hago con 3 dados?**\n",
    "\n",
    "¿Será la misma gráfica?\n",
    "¿El punto máximo será a la mitad de 3 y 18 (10,11)?\n",
    "\n",
    "Puedo hacer la misma gráfica, sólo que ahora lanzo 3 dados. Esperaría ver el mismo comportamiento, los números de la mitad será muy probable que salgan, y los muy pequeños o muy grandes, será poco probable que salgan."
   ]
  },
  {
   "cell_type": "code",
   "execution_count": 65,
   "metadata": {},
   "outputs": [],
   "source": [
    "def lanzar_3dados():\n",
    "    return lanzar_dado() + lanzar_dado() + lanzar_dado()\n",
    "\n",
    "def lanzar_nVeces_3dados(n):\n",
    "    lanzamientos = defaultdict(int)\n",
    "    for i in range (3,19):\n",
    "        lanzamientos[i]\n",
    "\n",
    "    for i in range(n):\n",
    "        res = lanzar_3dados()\n",
    "        lanzamientos[res] += 1\n",
    "        \n",
    "    return lanzamientos"
   ]
  },
  {
   "cell_type": "code",
   "execution_count": 66,
   "metadata": {},
   "outputs": [
    {
     "data": {
      "image/png": "[encoded data removed]",
      "text/plain": [
       "<Figure size 432x288 with 1 Axes>"
      ]
     },
     "metadata": {
      "needs_background": "light"
     },
     "output_type": "display_data"
    }
   ],
   "source": [
    "lanzamientos = lanzar_nVeces_3dados(100000)\n",
    "\n",
    "fig = plt.figure()\n",
    "ax = fig.add_axes([0,0,1,1])\n",
    "suma_dado = list(lanzamientos.keys())\n",
    "res_dado = list(lanzamientos.values())\n",
    "\n",
    "ax.bar(suma_dado,res_dado)\n",
    "plt.title(\"Lanzar 3 dados, frecuencias\")\n",
    "plt.show()"
   ]
  },
  {
   "cell_type": "markdown",
   "metadata": {},
   "source": [
    "Justamente sale el resultado que esperaba. El 10 y el 11 salen con mucha más frecuencia que los demás, mientras que el 3 y el 18 casi no salen.\n",
    "Algo que observé fue que para que saliera simétrica, tenía que lanzar muchas más veces los dados en comparación con el experimento anterior.\n",
    "\n",
    "Pero, ahora que puedo comparar la gráfica de 2 y 3 dados, la de 3 dados se parece más a una Gaussiana que la de 2. Entonces, ¿Qué pasará si lanzo n dados m veces? ¿Será más parecida?"
   ]
  },
  {
   "cell_type": "code",
   "execution_count": 67,
   "metadata": {},
   "outputs": [],
   "source": [
    "def lanzar_nDados(n):\n",
    "    suma = 0\n",
    "    for i in range(n):\n",
    "        suma += lanzar_dado()\n",
    "    return suma\n",
    "\n",
    "def lanzar_nVeces_mDados(n, m):\n",
    "    lanzamientos = defaultdict(int)\n",
    "    for i in range (m, m*6):\n",
    "        lanzamientos[i]\n",
    "\n",
    "    for i in range(n):\n",
    "        res = lanzar_nDados(m)\n",
    "        lanzamientos[res] += 1\n",
    "        \n",
    "    return lanzamientos"
   ]
  },
  {
   "cell_type": "code",
   "execution_count": 68,
   "metadata": {},
   "outputs": [
    {
     "name": "stdout",
     "output_type": "stream",
     "text": [
      "Salieron 0 15's\n"
     ]
    },
    {
     "data": {
      "image/png": "[encoded data removed]",
      "text/plain": [
       "<Figure size 432x288 with 1 Axes>"
      ]
     },
     "metadata": {
      "needs_background": "light"
     },
     "output_type": "display_data"
    }
   ],
   "source": [
    "nLanzamientos = 100_000\n",
    "nDados = 15\n",
    "lanzamientos = lanzar_nVeces_mDados(nLanzamientos, nDados)\n",
    "\n",
    "fig = plt.figure()\n",
    "ax = fig.add_axes([0,0,1,1])\n",
    "suma_dado = list(lanzamientos.keys())\n",
    "res_dado = list(lanzamientos.values())\n",
    "\n",
    "print(\"Salieron\",lanzamientos[15],\"15's\")\n",
    "\n",
    "ax.bar(suma_dado,res_dado)\n",
    "plt.title(\"Lanzar \" + str(nDados) + \" dados, \" + str(nLanzamientos) + \" veces\")\n",
    "plt.show()"
   ]
  },
  {
   "cell_type": "markdown",
   "metadata": {},
   "source": [
    "La gráfica se parece mucho a una gaussiana, sin embargo, los lanzamientos que están por el 15 y el 90 no salen. Como que se comprimió la gráfica. Y si aumento un poco más los dados se tarda en generar la gráfica, por lo que ya no pude hacer más dados y lanzamientos.\n",
    "Probablemente con más dados se aproxime a una gaussiana.\n",
    "\n",
    "¿Qué pasará si tiene a infinito?"
   ]
  },
  {
   "cell_type": "code",
   "execution_count": null,
   "metadata": {},
   "outputs": [],
   "source": []
  }
 ],
 "metadata": {
  "kernelspec": {
   "display_name": "Python 3",
   "language": "python",
   "name": "python3"
  },
  "language_info": {
   "codemirror_mode": {
    "name": "ipython",
    "version": 3
   },
   "file_extension": ".py",
   "mimetype": "text/x-python",
   "name": "python",
   "nbconvert_exporter": "python",
   "pygments_lexer": "ipython3",
   "version": "3.8.3"
  }
 },
 "nbformat": 4,
 "nbformat_minor": 4
}
