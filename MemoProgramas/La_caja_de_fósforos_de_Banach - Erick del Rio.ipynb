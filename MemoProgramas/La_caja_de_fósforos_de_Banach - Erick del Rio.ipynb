{
 "cells": [
  {
   "cell_type": "markdown",
   "metadata": {
    "id": "p9hIbgL4gfL8"
   },
   "source": [
    "# El Problema de la caja de fósforos de Banach"
   ]
  },
  {
   "cell_type": "markdown",
   "metadata": {
    "id": "pude6G4dgoJK"
   },
   "source": [
    "El célebre matemático polaco Stefan Banach solía reunirse con otros matemáticos en el Café Escocés en Lwów, Polonia, en donde había un cuaderno en el cual se anotaban los problemas planteados y sus soluciones. Esta libreta se conoce como el Libro Escocés. El siguiente es el último problema incluido en este libro).\n",
    "\n",
    "En todo momento, Banach lleva $2$ cajas de fósforos: $1$ en su bolsillo izquierdo y $1$ en su bolsillo derecho. Cada vez que necesita un fósforo, es igualmente probable que lo saque de cualquier bolsillo. Considere el momento en que Banach descubre por primera vez que una de sus cajas de fósforos está vacía.\n",
    "<font color=red> Banach descubre que alguna de las cajetillas está vacía sólo cuando vuelve a abrirla una vez que ésta se ha vaciado la última vez que abrió la misma caja. </font> \n",
    " \n",
    "1. Si se supone que ambas cajas de fósforos inicialmente contenían $N$ fósforos, ¿cuál es la probabilidad de que haya exactamente $k$ fósforos, $k=0,1,\\dots, N$, en la otra caja?\n",
    "2.\tResuelve el problema de la caja de fósforos de Banach cuando la caja de fósforos de la izquierda contenía originalmente $N_1$ fósforos y la caja de la derecha contenía $N_2$ fósforos.\n",
    "3.\tEncuentra la probabilidad de que, en el momento en que se vacía la primera caja (en lugar de descubrirse vacía), la otra caja contenga exactamente $k$ fósforos.\n",
    "\n"
   ]
  },
  {
   "cell_type": "markdown",
   "metadata": {
    "id": "dsOzXCWzywh6"
   },
   "source": [
    "## Simulación en Pyhton"
   ]
  },
  {
   "cell_type": "code",
   "execution_count": null,
   "metadata": {
    "id": "qG-53L5Wywh6",
    "outputId": "284650fc-4b4b-4e49-fc5f-2550258b22f0"
   },
   "outputs": [
    {
     "name": "stdout",
     "output_type": "stream",
     "text": [
      "[0, 0, 0, 0, 0, 0, 0, 0, 0]\n",
      "[1, 1, 1, 1, 1, 1, 1, 1, 1, 1]\n"
     ]
    }
   ],
   "source": [
    "import random\n",
    "n = 10 # El número de fósforos en las cajetillas\n",
    "\n",
    "# c0 = [0 for i in range(10)]\n",
    "\n",
    "c0 = [0,] * n # la cajita de fósforos 0\n",
    "c1 = [1,] * n # la cajita de fósforos 1\n",
    "\n",
    "c = [c0,c1]\n",
    "\n",
    "p = random.choice(c) # Elegimos una de las cajitas\n",
    "e = random.choice(p) # Elegimos un fósforo de la cajita elegida antes\n",
    "\n",
    "if e == 0:\n",
    "    c0.remove(e)\n",
    "else:\n",
    "    c1.remove(e)\n",
    "\n",
    "print(c0)\n",
    "print(c1)"
   ]
  },
  {
   "cell_type": "code",
   "execution_count": null,
   "metadata": {
    "id": "D5l4UHs_ywh8",
    "outputId": "e889e537-0e4a-41f2-a6f8-6c2d608fcb83"
   },
   "outputs": [
    {
     "name": "stdout",
     "output_type": "stream",
     "text": [
      "[]\n",
      "[1, 1]\n"
     ]
    }
   ],
   "source": [
    "import random\n",
    "n = 10 # El número de fósforos en las cajetillas\n",
    "\n",
    "# c0 = [0 for i in range(10)]\n",
    "\n",
    "c0 = [0,] * n # la cajita de fósforos 0\n",
    "c1 = [1,] * n # la cajita de fósforos 1\n",
    "\n",
    "c = [c0,c1]\n",
    "\n",
    "while c0 and c1:\n",
    "    e = random.choice(random.choice(c)) # Elegimos una de las cajitas\n",
    "    if e == 0:\n",
    "        c0.remove(e)\n",
    "    else:\n",
    "        c1.remove(e)\n",
    "    \n",
    "    c = [c0, c1]\n",
    "    \n",
    "print(c0)\n",
    "print(c1)"
   ]
  },
  {
   "cell_type": "markdown",
   "metadata": {
    "id": "fyKkQiq1ywh8"
   },
   "source": [
    "Cuántos fósforos usa Banach?"
   ]
  },
  {
   "cell_type": "code",
   "execution_count": null,
   "metadata": {
    "id": "rg03SSS5ywh8",
    "outputId": "07df6a42-ba44-4da8-9649-3c7f88d2b0e4"
   },
   "outputs": [
    {
     "name": "stdout",
     "output_type": "stream",
     "text": [
      "[0, 0, 0, 0, 0]\n",
      "[]\n",
      "15\n"
     ]
    }
   ],
   "source": [
    "import random\n",
    "n = 10 # El número de fósforos en las cajetillas\n",
    "\n",
    "# c0 = [0 for i in range(10)]\n",
    "\n",
    "c0 = [0,] * n # la cajita de fósforos 0\n",
    "c1 = [1,] * n # la cajita de fósforos 1\n",
    "\n",
    "c = [c0,c1]\n",
    "\n",
    "#Hay que poner un contador de fósforos usados\n",
    "t = 0\n",
    "\n",
    "while c0 and c1:\n",
    "    e = random.choice(random.choice(c)) # Elegimos una de las cajitas\n",
    "    if e == 0:\n",
    "        c0.remove(e)\n",
    "    else:\n",
    "        c1.remove(e)\n",
    "    \n",
    "    c = [c0, c1]\n",
    "    t += 1\n",
    "    \n",
    "print(c0)\n",
    "print(c1)\n",
    "print(t)"
   ]
  },
  {
   "cell_type": "code",
   "execution_count": null,
   "metadata": {
    "id": "cZm36hUcywh8"
   },
   "outputs": [],
   "source": [
    "import random\n",
    "\n",
    "def banach(n):\n",
    "    c0 = [0,] * n # la cajita de fósforos 0\n",
    "    c1 = [1,] * n # la cajita de fósforos 1\n",
    "\n",
    "    c = [c0,c1]\n",
    "\n",
    "    #Hay que poner un contador de fósforos usados\n",
    "    t = 0\n",
    "\n",
    "    while c0 and c1:\n",
    "        e = random.choice(random.choice(c)) # Elegimos una de las cajitas\n",
    "        if e == 0:\n",
    "            c0.remove(e)\n",
    "        else:\n",
    "            c1.remove(e)\n",
    "\n",
    "        c = [c0, c1]\n",
    "        t += 1\n",
    "    \n",
    "    if c0:\n",
    "        return 0,t,len(c0)\n",
    "    else:\n",
    "        return 1,t,len(c1)"
   ]
  },
  {
   "cell_type": "code",
   "execution_count": null,
   "metadata": {
    "id": "NXQX7VRsywh8",
    "outputId": "5d7ef764-f8fd-4f69-89c4-d3f81094a260"
   },
   "outputs": [
    {
     "name": "stdout",
     "output_type": "stream",
     "text": [
      "Banach usó 19 fósforos antes de vaciar la cajetilla 1\n",
      "La cajita 0 quedó con 1 fósforos\n"
     ]
    }
   ],
   "source": [
    "B = banach(10)\n",
    "\n",
    "print(\"Banach usó \" + str(B[1]) + \" fósforos antes de vaciar la cajetilla \" + str(1-B[0]) )\n",
    "print(\"La cajita \" + str(B[0]) + \" quedó con \" + str(B[2]) + \" fósforos\"  )"
   ]
  },
  {
   "cell_type": "markdown",
   "metadata": {
    "id": "L4nL1qj4ywh8"
   },
   "source": [
    "Pero el problema es muy específico: No se trata de saber cuántas cerillas (o cuantos cigarros) ha usado Banach, sino el momento en que Banach descubre que alguna de las cajetillas se ha vaciado."
   ]
  },
  {
   "cell_type": "markdown",
   "metadata": {
    "id": "g3U-6k1Qywh8"
   },
   "source": [
    "Cualquiera de las cajetillas puede quedar vacía y Banach puede incluso seguir usando fósforos de la otra caja y seguir fumando, mientras no sé de cuenta que una caja esté vacía."
   ]
  },
  {
   "cell_type": "code",
   "execution_count": null,
   "metadata": {
    "id": "IGz_0zkkywh8"
   },
   "outputs": [],
   "source": [
    "import random\n",
    "\n",
    "def banach(n):\n",
    "    c0 = [0,] * (n+1) # la cajita de fósforos 0\n",
    "    c1 = [1,] * (n+1) # la cajita de fósforos 1\n",
    "\n",
    "    c = [c0,c1]\n",
    "\n",
    "    #Hay que poner un contador de fósforos usados\n",
    "    t = 1 #contador del momento en que Banach descubre que alguna de las cajitas está vacía\n",
    "\n",
    "    while c0 and c1:\n",
    "        e = random.choice(random.choice(c)) # Elegimos una de las cajitas\n",
    "        if e == 0:\n",
    "            c0.remove(e)\n",
    "        else:\n",
    "            c1.remove(e)\n",
    "\n",
    "        c = [c0, c1]\n",
    "        t += 1\n",
    "    \n",
    "    if c0:\n",
    "        return 0,t,len(c0)\n",
    "    else:\n",
    "        return 1,t,len(c1)"
   ]
  },
  {
   "cell_type": "code",
   "execution_count": null,
   "metadata": {
    "id": "Lj72ru7Bywh8",
    "outputId": "9b2142a5-3f86-4a89-cc7b-eff2029b8af8"
   },
   "outputs": [
    {
     "name": "stdout",
     "output_type": "stream",
     "text": [
      "Banach usó 19 fósforos antes de vaciar la cajetilla 1\n",
      "La cajita 0 quedó con 4 fósforos\n"
     ]
    }
   ],
   "source": [
    "B = banach(10)\n",
    "\n",
    "print(\"Banach usó \" + str(B[1]) + \" fósforos antes de vaciar la cajetilla \" + str(1-B[0]) )\n",
    "print(\"La cajita \" + str(B[0]) + \" quedó con \" + str(B[2]) + \" fósforos\"  )"
   ]
  },
  {
   "cell_type": "markdown",
   "metadata": {
    "id": "hOXSz4SLywh8"
   },
   "source": [
    "## Ejercicio"
   ]
  },
  {
   "cell_type": "markdown",
   "metadata": {
    "id": "irjHeK-Eywh8"
   },
   "source": [
    "Agregar un contador que cuente el momento en que Banach se da cuenta de que alguna de las cajitas de fósforos queda vacía. RESUELTO"
   ]
  },
  {
   "cell_type": "markdown",
   "metadata": {
    "id": "UguomnlGywh8"
   },
   "source": [
    "## Ejercicio"
   ]
  },
  {
   "cell_type": "markdown",
   "metadata": {
    "id": "yOT3ruYzywh8"
   },
   "source": [
    "Haz un gráfico de barras para un número arbitrario *n* de simulaciones del problema. Cada barra debe representar la frecuencia relativa de la cantidad de cerillos restantes que quedan en la caja no vacía. Obsérvese que una vez que alguna de las cajas se ha vaciado, en la otra caja sólo puede quedar 1 o bien 2,3,4,5,6,7,8,9 ó 10 cerillas."
   ]
  },
  {
   "cell_type": "markdown",
   "metadata": {
    "id": "hZjpODHzywh8"
   },
   "source": [
    "Se me hizo buena idea usar enteros en lugar de un arreglo con números para modelar el problema. Así que hice una solución con un arreglo de dos enteros."
   ]
  },
  {
   "cell_type": "code",
   "execution_count": null,
   "metadata": {
    "id": "o54IoPJvywh8",
    "outputId": "7facf928-5c96-447d-d2e3-16eb2b90a6ba"
   },
   "outputs": [
    {
     "data": {
      "text/plain": [
       "1"
      ]
     },
     "execution_count": 306,
     "metadata": {
      "tags": []
     },
     "output_type": "execute_result"
    }
   ],
   "source": [
    "import random\n",
    "\n",
    "def banach(n):\n",
    "    c = [n,n]\n",
    "\n",
    "    while c[0] != -1 and c[1] != -1:\n",
    "        p = random.choice([0,1]) # Elegimos una de las cajitas\n",
    "        c[p] -= 1\n",
    "\n",
    "    t = c[0] + c[1] + 1\n",
    "    return t\n",
    "    \n",
    "banach(10)"
   ]
  },
  {
   "cell_type": "code",
   "execution_count": null,
   "metadata": {
    "id": "dorQlwOuywh8",
    "outputId": "8f6dee0c-8c7d-43c8-d86c-0564bb42633e"
   },
   "outputs": [
    {
     "data": {
      "image/png": "[encoded data removed]",
      "text/plain": [
       "<Figure size 432x288 with 1 Axes>"
      ]
     },
     "metadata": {
      "needs_background": "light",
      "tags": []
     },
     "output_type": "display_data"
    }
   ],
   "source": [
    "import matplotlib.pyplot as plt\n",
    "veces = 1_000_000\n",
    "\n",
    "n = 10\n",
    "res = [0,] * (n+1)\n",
    "\n",
    "for i in range(veces):\n",
    "    res[banach(10)] += 1\n",
    "    \n",
    "cerillos_restantes = [str(i) for i in range(11)]\n",
    "frec_rel = [i/veces for i in res]\n",
    "\n",
    "fig = plt.figure()\n",
    "ax = fig.add_axes([0,0,2,1])\n",
    "ax.bar(cerillos_restantes, frec_rel)\n",
    "plt.title(\"Frecuencia relativa, sobraron cerillos en la caja\")\n",
    "plt.show()"
   ]
  },
  {
   "cell_type": "code",
   "execution_count": null,
   "metadata": {
    "id": "iQTG3mJDywh9"
   },
   "outputs": [],
   "source": []
  }
 ],
 "metadata": {
  "colab": {
   "name": "La caja de fósforos de Banach.ipynb",
   "provenance": []
  },
  "kernelspec": {
   "display_name": "Python 3",
   "language": "python",
   "name": "python3"
  },
  "language_info": {
   "codemirror_mode": {
    "name": "ipython",
    "version": 3
   },
   "file_extension": ".py",
   "mimetype": "text/x-python",
   "name": "python",
   "nbconvert_exporter": "python",
   "pygments_lexer": "ipython3",
   "version": "3.8.3"
  }
 },
 "nbformat": 4,
 "nbformat_minor": 1
}
