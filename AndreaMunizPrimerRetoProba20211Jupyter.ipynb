{
 "cells": [
  {
   "cell_type": "code",
   "execution_count": 15,
   "metadata": {},
   "outputs": [
    {
     "name": "stdout",
     "output_type": "stream",
     "text": [
      "Cara cayó  46 veces y cruz  54\n"
     ]
    }
   ],
   "source": [
    "import random \n",
    "i = 1\n",
    "cara = 0\n",
    "cruz = 0\n",
    "\n",
    "while i <= 100:\n",
    "    moneda = random.randint(0,1)\n",
    "    #i = 1 + i\n",
    "    i+=1\n",
    "    if moneda == 1:\n",
    "        cara+=1\n",
    "    if moneda == 0:\n",
    "        cruz+=1\n",
    "        \n",
    "print(\"Cara cayó \", cara, \"veces y cruz \", cruz)\n",
    "\n",
    "       \n",
    "    "
   ]
  },
  {
   "cell_type": "code",
   "execution_count": 16,
   "metadata": {},
   "outputs": [
    {
     "name": "stdout",
     "output_type": "stream",
     "text": [
      "\t Estas por descubrir tu fortuna\n",
      "Se acabaron las ideas, pero no las ganas de implementar\n"
     ]
    }
   ],
   "source": [
    "import random \n",
    "\n",
    "print(\"\\t Estas por descubrir tu fortuna\")\n",
    "galleta = random.randint(1, 5)\n",
    "\n",
    "if galleta == 1:\n",
    "    print(\"Auxilio soy un trabajador, ¡liberanos!\")\n",
    "if galleta == 2:\n",
    "    print(\"Luciernaga que esta por brillar\")\n",
    "if galleta == 3:\n",
    "    print(\"No todo es lo que parece, ni todo lo que parece es\")\n",
    "if galleta == 4:\n",
    "    print(\"La fortuna solo es para los que no tienen suerte\")\n",
    "if galleta == 5:\n",
    "    print(\"Se acabaron las ideas, pero no las ganas de implementar\")\n",
    "    "
   ]
  },
  {
   "cell_type": "code",
   "execution_count": 18,
   "metadata": {},
   "outputs": [
    {
     "name": "stdout",
     "output_type": "stream",
     "text": [
      "Trata de adivinar el número en el que estoy pensando, tienes 5 intentos\n",
      "¿Qué número crees que sea?50\n",
      "Más\n",
      "¿Qué número crees que sea?75\n",
      "Más\n",
      "¿Qué número crees que sea?89\n",
      "Menos\n",
      "¿Qué número crees que sea?85\n",
      "Más\n",
      "¿Qué número crees que sea?90\n",
      "Lo siento, se terminaron los intentos el número era:  86\n"
     ]
    }
   ],
   "source": [
    "import random\n",
    "\n",
    "print(\"Trata de adivinar el número en el que estoy pensando, tienes 5 intentos\")\n",
    "the_number = random.randint(1,100)\n",
    "\n",
    "guess = int(input(\"¿Qué número crees que sea?\"))\n",
    "intentos = 1\n",
    "\n",
    "while guess != the_number and intentos < 5:\n",
    "    if guess > the_number:\n",
    "        print(\"Menos\")\n",
    "    else: \n",
    "        print(\"Más\")\n",
    "    guess = int(input(\"¿Qué número crees que sea?\"))\n",
    "    intentos+=1\n",
    "print(\"Lo siento, se terminaron los intentos el número era: \", the_number)\n",
    "\n"
   ]
  },
  {
   "cell_type": "code",
   "execution_count": null,
   "metadata": {},
   "outputs": [],
   "source": []
  }
 ],
 "metadata": {
  "kernelspec": {
   "display_name": "Python 3",
   "language": "python",
   "name": "python3"
  },
  "language_info": {
   "codemirror_mode": {
    "name": "ipython",
    "version": 3
   },
   "file_extension": ".py",
   "mimetype": "text/x-python",
   "name": "python",
   "nbconvert_exporter": "python",
   "pygments_lexer": "ipython3",
   "version": "3.8.3"
  }
 },
 "nbformat": 4,
 "nbformat_minor": 4
}
