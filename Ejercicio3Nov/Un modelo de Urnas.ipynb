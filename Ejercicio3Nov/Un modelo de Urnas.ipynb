{
 "cells": [
  {
   "cell_type": "markdown",
   "metadata": {},
   "source": [
    "# Tarea 2: Ejericicio 1"
   ]
  },
  {
   "cell_type": "markdown",
   "metadata": {},
   "source": [
    "Dos bolas se seleccionan (sin remplazo)"
   ]
  },
  {
   "cell_type": "markdown",
   "metadata": {},
   "source": [
    "![title](bolas_urna.png)\n"
   ]
  },
  {
   "cell_type": "code",
   "execution_count": 2,
   "metadata": {},
   "outputs": [
    {
     "data": {
      "text/plain": [
       "['B', 'O', 'W']"
      ]
     },
     "execution_count": 2,
     "metadata": {},
     "output_type": "execute_result"
    }
   ],
   "source": [
    "Bolas = ['B','O','W']\n",
    "Bolas"
   ]
  },
  {
   "cell_type": "code",
   "execution_count": 4,
   "metadata": {},
   "outputs": [
    {
     "data": {
      "text/plain": [
       "[['B', 'B'],\n",
       " ['B', 'O'],\n",
       " ['B', 'W'],\n",
       " ['O', 'B'],\n",
       " ['O', 'O'],\n",
       " ['O', 'W'],\n",
       " ['W', 'B'],\n",
       " ['W', 'O'],\n",
       " ['W', 'W']]"
      ]
     },
     "execution_count": 4,
     "metadata": {},
     "output_type": "execute_result"
    }
   ],
   "source": [
    "R = [[x,y] for x in Bolas for y in Bolas]\n",
    "R"
   ]
  },
  {
   "cell_type": "code",
   "execution_count": 5,
   "metadata": {},
   "outputs": [
    {
     "data": {
      "text/plain": [
       "[['B', 'B'], ['B', 'O'], ['B', 'W'], ['O', 'O'], ['O', 'W'], ['W', 'W']]"
      ]
     },
     "execution_count": 5,
     "metadata": {},
     "output_type": "execute_result"
    }
   ],
   "source": [
    "R = [[x,y] for x in Bolas for y in Bolas if Bolas.index(x)<=Bolas.index(y)]\n",
    "R"
   ]
  },
  {
   "cell_type": "code",
   "execution_count": 6,
   "metadata": {},
   "outputs": [
    {
     "data": {
      "text/plain": [
       "['B',\n",
       " 'B',\n",
       " 'B',\n",
       " 'B',\n",
       " 'B',\n",
       " 'B',\n",
       " 'B',\n",
       " 'B',\n",
       " 'O',\n",
       " 'O',\n",
       " 'W',\n",
       " 'W',\n",
       " 'W',\n",
       " 'W',\n",
       " 'W',\n",
       " 'W',\n",
       " 'W',\n",
       " 'W']"
      ]
     },
     "execution_count": 6,
     "metadata": {},
     "output_type": "execute_result"
    }
   ],
   "source": [
    "#Creamos con un for las repeticiones de las bolas\n",
    "U =[]\n",
    "for i in range(18):\n",
    "    if i <=7:\n",
    "        U.append('B')\n",
    "    elif  i<=9:\n",
    "        U.append('O')\n",
    "    else: \n",
    "        U.append('W')\n",
    "U"
   ]
  },
  {
   "cell_type": "code",
   "execution_count": 9,
   "metadata": {},
   "outputs": [
    {
     "data": {
      "text/plain": [
       "'W'"
      ]
     },
     "execution_count": 9,
     "metadata": {},
     "output_type": "execute_result"
    }
   ],
   "source": [
    "import random\n",
    "#Se elige aleatoriamente un elemento de la lista b\n",
    "b = random.choice(U)\n",
    "b\n"
   ]
  },
  {
   "cell_type": "markdown",
   "metadata": {},
   "source": [
    "Para saber el indice de la bola elegida"
   ]
  },
  {
   "cell_type": "code",
   "execution_count": 13,
   "metadata": {},
   "outputs": [
    {
     "data": {
      "text/plain": [
       "12"
      ]
     },
     "execution_count": 13,
     "metadata": {},
     "output_type": "execute_result"
    }
   ],
   "source": [
    "U.index(b)"
   ]
  },
  {
   "cell_type": "code",
   "execution_count": 14,
   "metadata": {},
   "outputs": [
    {
     "data": {
      "text/plain": [
       "['B',\n",
       " 'B',\n",
       " 'B',\n",
       " 'B',\n",
       " 'B',\n",
       " 'B',\n",
       " 'B',\n",
       " 'B',\n",
       " 'O',\n",
       " 'O',\n",
       " 'None',\n",
       " 'None',\n",
       " 'None',\n",
       " 'W',\n",
       " 'W',\n",
       " 'W',\n",
       " 'W',\n",
       " 'W']"
      ]
     },
     "execution_count": 14,
     "metadata": {},
     "output_type": "execute_result"
    }
   ],
   "source": [
    "U[U.index(b)] = 'None'\n",
    "U"
   ]
  },
  {
   "cell_type": "code",
   "execution_count": 23,
   "metadata": {},
   "outputs": [
    {
     "data": {
      "text/plain": [
       "['B',\n",
       " 'B',\n",
       " 'B',\n",
       " 'B',\n",
       " 'B',\n",
       " 'B',\n",
       " 'B',\n",
       " 'B',\n",
       " 'O',\n",
       " 'O',\n",
       " 'W',\n",
       " 'W',\n",
       " 'W',\n",
       " 'W',\n",
       " 'W',\n",
       " 'W',\n",
       " 'W',\n",
       " 'W']"
      ]
     },
     "execution_count": 23,
     "metadata": {},
     "output_type": "execute_result"
    }
   ],
   "source": [
    "#Creamos con un for las repeticiones de las bolas\n",
    "U =[]\n",
    "for i in range(18):\n",
    "    if i <=7:\n",
    "        U.append('B')\n",
    "    elif  i<=9:\n",
    "        U.append('O')\n",
    "    else: \n",
    "        U.append('W')\n",
    "U"
   ]
  },
  {
   "cell_type": "code",
   "execution_count": 24,
   "metadata": {},
   "outputs": [
    {
     "data": {
      "text/plain": [
       "['B']"
      ]
     },
     "execution_count": 24,
     "metadata": {},
     "output_type": "execute_result"
    }
   ],
   "source": [
    "#Ahora vamos a elegir dos bolas\n",
    "\n",
    "b0 = random.choice(U)\n",
    "#Para construir listas se usa \"list\"\n",
    "S = list(b0)\n",
    "S"
   ]
  },
  {
   "cell_type": "code",
   "execution_count": 25,
   "metadata": {},
   "outputs": [
    {
     "data": {
      "text/plain": [
       "['B',\n",
       " 'B',\n",
       " 'B',\n",
       " 'B',\n",
       " 'B',\n",
       " 'B',\n",
       " 'B',\n",
       " 'O',\n",
       " 'O',\n",
       " 'W',\n",
       " 'W',\n",
       " 'W',\n",
       " 'W',\n",
       " 'W',\n",
       " 'W',\n",
       " 'W',\n",
       " 'W']"
      ]
     },
     "execution_count": 25,
     "metadata": {},
     "output_type": "execute_result"
    }
   ],
   "source": [
    "#Vamos a sacar un elemento de la lista con el método pop\n",
    "\n",
    "U.pop(U.index(b0))\n",
    "U"
   ]
  },
  {
   "cell_type": "code",
   "execution_count": 26,
   "metadata": {},
   "outputs": [
    {
     "data": {
      "text/plain": [
       "['B', 'B']"
      ]
     },
     "execution_count": 26,
     "metadata": {},
     "output_type": "execute_result"
    }
   ],
   "source": [
    "b1 = random.choice(U)\n",
    "b1 #Para mostrar lo que es b1\n",
    "#Agregamos esta nueva bola a la lista S\n",
    "S.append(b1)\n",
    "S"
   ]
  },
  {
   "cell_type": "code",
   "execution_count": 2,
   "metadata": {},
   "outputs": [
    {
     "name": "stdout",
     "output_type": "stream",
     "text": [
      "dict_items([(('O', 'W'), 1), (('W', 'W'), 1), (('B', 'B'), 2), (('B', 'W'), 6)])\n",
      "\n",
      "[(('B', 'B'), 2), (('B', 'W'), 6), (('O', 'W'), 1), (('W', 'W'), 1)]\n"
     ]
    }
   ],
   "source": [
    "import random\n",
    "from collections import defaultdict\n",
    "\n",
    "r = 10 #número total de repeticiones\n",
    "n = 0 #inicio de repeticiones\n",
    "\n",
    "f = defaultdict(int) #Es un diccionario \n",
    "\n",
    "while n<r:\n",
    "    U =[]\n",
    "    for i in range(18):\n",
    "        if i <=7:\n",
    "            U.append('B')\n",
    "        elif  i<=9:\n",
    "            U.append('O')\n",
    "        else: \n",
    "            U.append('W')\n",
    "    b0 = random.choice(U)\n",
    "    U.pop(U.index(b0))\n",
    "    b1 = random.choice(U)\n",
    "    S = (b0,b1)\n",
    "    #Ordenamos el asunto\n",
    "    S = tuple(sorted(S))\n",
    "    f[S]+=1\n",
    "    \n",
    "    n+=1\n",
    "print(f.items())\n",
    "f = sorted(f.items())\n",
    "print()\n",
    "print(f)\n"
   ]
  },
  {
   "cell_type": "code",
   "execution_count": 12,
   "metadata": {},
   "outputs": [
    {
     "data": {
      "image/png": "[encoded data removed]",
      "text/plain": [
       "<Figure size 432x288 with 1 Axes>"
      ]
     },
     "metadata": {
      "needs_background": "light"
     },
     "output_type": "display_data"
    }
   ],
   "source": [
    "import matplotlib.pyplot as plt\n",
    "\n",
    "fig = plt.figure() #construcción de la imagen inicializado\n",
    "\n",
    "ax = fig.add_axes([0,0,2,1]) \n",
    "\n",
    "resultado = [str(i) for i,j in f]\n",
    "frecuencia = [j for i,j in f]\n",
    "# A gráficar en X o en Y\n",
    "\n",
    "ax.bar(resultado,frecuencia)\n",
    "plt.title(\"Frecuencias en \" + str(r) + \" repeticiones\") #Titulo de la imagen\n",
    "plt.show() #Lanza la imagen construida \n",
    "\n",
    "# Código de Erick del Río Comentarios por MuAndrea"
   ]
  },
  {
   "cell_type": "code",
   "execution_count": 19,
   "metadata": {},
   "outputs": [
    {
     "data": {
      "image/png": "[encoded data removed]",
      "text/plain": [
       "<Figure size 432x288 with 1 Axes>"
      ]
     },
     "metadata": {
      "needs_background": "light"
     },
     "output_type": "display_data"
    }
   ],
   "source": [
    "import matplotlib.pyplot as plt\n",
    "\n",
    "fig = plt.figure() #construcción de la imagen inicializado\n",
    "\n",
    "ax = fig.add_axes([0,2,1,1]) \n",
    "\n",
    "resultado = [str(i) for i,j in f]\n",
    "frecuencia = [j for i,j in f]\n",
    "# A gráficar en X o en Y\n",
    "\n",
    "ax.bar(resultado,frecuencia)\n",
    "plt.title(\"Frecuencias en \" + str(r) + \" repeticiones\") #Titulo de la imagen\n",
    "plt.show() #Lanza la imagen construida \n",
    "\n",
    "# Código de Erick del Río Comentarios por MuAndrea"
   ]
  }
 ],
 "metadata": {
  "kernelspec": {
   "display_name": "Python 3",
   "language": "python",
   "name": "python3"
  },
  "language_info": {
   "codemirror_mode": {
    "name": "ipython",
    "version": 3
   },
   "file_extension": ".py",
   "mimetype": "text/x-python",
   "name": "python",
   "nbconvert_exporter": "python",
   "pygments_lexer": "ipython3",
   "version": "3.8.3"
  }
 },
 "nbformat": 4,
 "nbformat_minor": 4
}
