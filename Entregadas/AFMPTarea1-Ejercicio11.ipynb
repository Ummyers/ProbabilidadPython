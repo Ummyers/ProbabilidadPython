{
 "cells": [
  {
   "cell_type": "markdown",
   "metadata": {},
   "source": [
    "### Sobre el ejercicio 11, ¿Cuánto debe valer n para que sea más favorable obtener una tercia de 5's que no obtenerla?"
   ]
  },
  {
   "cell_type": "code",
   "execution_count": 6,
   "metadata": {},
   "outputs": [
    {
     "name": "stdout",
     "output_type": "stream",
     "text": [
      "n debe ser mayor a: 150 para que sea más favorable obtener una tercia de 5's que no obtenerla\n"
     ]
    }
   ],
   "source": [
    "import math\n",
    "\n",
    "# @autor ummyers\n",
    "# Despues de que Memo obtuvo la formula solo bastaba con hacer los siguientes calculos\n",
    "\n",
    "#Para el calculo pueden usarse menos variables, no es la forma más optima de hacerlo\n",
    "a = math.log(1/2)\n",
    "c = 1- (1/216)\n",
    "b = math.log(c)\n",
    "\n",
    "# Para redondear el resultado use la función ceil de \"math\"\n",
    "print(\"n debe ser mayor a:\", math.ceil(a/b) ,\"para que sea más favorable obtener una tercia de 5's que no obtenerla\")"
   ]
  }
 ],
 "metadata": {
  "kernelspec": {
   "display_name": "Python 3",
   "language": "python",
   "name": "python3"
  },
  "language_info": {
   "codemirror_mode": {
    "name": "ipython",
    "version": 3
   },
   "file_extension": ".py",
   "mimetype": "text/x-python",
   "name": "python",
   "nbconvert_exporter": "python",
   "pygments_lexer": "ipython3",
   "version": "3.8.3"
  }
 },
 "nbformat": 4,
 "nbformat_minor": 4
}
