{
 "cells": [
  {
   "cell_type": "markdown",
   "metadata": {},
   "source": [
    "## Diccionarios en Python \n"
   ]
  },
  {
   "cell_type": "code",
   "execution_count": 57,
   "metadata": {},
   "outputs": [],
   "source": [
    "Z=[('Amarillo',1),('azul',6),('azul',2),('rojo',7),('Amarillo',9)]"
   ]
  },
  {
   "cell_type": "code",
   "execution_count": 58,
   "metadata": {},
   "outputs": [
    {
     "data": {
      "text/plain": [
       "defaultdict(list, {})"
      ]
     },
     "execution_count": 58,
     "metadata": {},
     "output_type": "execute_result"
    }
   ],
   "source": [
    "OZ = defaultdict(list)\n",
    "OZ"
   ]
  },
  {
   "cell_type": "code",
   "execution_count": 59,
   "metadata": {},
   "outputs": [],
   "source": [
    "for u,v in Z: #En la lista\n",
    "    # u -> color v -> int\n",
    "    OZ[u].append(v)"
   ]
  },
  {
   "cell_type": "markdown",
   "metadata": {},
   "source": [
    "El for lo que que hace es iterar en la lista **Z** y **u** es la primer coordenada de la i-esima tupla y **v** es la segunda coordenada de la trupla"
   ]
  },
  {
   "cell_type": "markdown",
   "metadata": {},
   "source": [
    "$(u,v) \\in Z$ por ejemplo $(u,v) = (Amarillo,1)$ y $ u = $ \"Amarillo\" $v = 1$  "
   ]
  },
  {
   "cell_type": "code",
   "execution_count": 60,
   "metadata": {},
   "outputs": [
    {
     "data": {
      "text/plain": [
       "defaultdict(list, {'Amarillo': [1, 9], 'azul': [6, 2], 'rojo': [7]})"
      ]
     },
     "execution_count": 60,
     "metadata": {},
     "output_type": "execute_result"
    }
   ],
   "source": [
    "OZ"
   ]
  },
  {
   "cell_type": "code",
   "execution_count": null,
   "metadata": {},
   "outputs": [],
   "source": [
    "# Reto Python del Zapatero"
   ]
  },
  {
   "cell_type": "code",
   "execution_count": 67,
   "metadata": {},
   "outputs": [],
   "source": [
    "it = OZ.items()"
   ]
  },
  {
   "cell_type": "markdown",
   "metadata": {},
   "source": [
    "Sabemos como recorrer un elemento diccionario al que le hemos aplicado la función **items()**, entonces iteramos sobre un objeto de esa indole pero guardamos en OZ la suma de la lista que tenía como valor"
   ]
  },
  {
   "cell_type": "code",
   "execution_count": 68,
   "metadata": {},
   "outputs": [],
   "source": [
    "for u,v in it:\n",
    "    OZ[u]=sum(v)    "
   ]
  },
  {
   "cell_type": "code",
   "execution_count": 69,
   "metadata": {
    "scrolled": true
   },
   "outputs": [
    {
     "data": {
      "text/plain": [
       "defaultdict(list, {'Amarillo': 10, 'azul': 8, 'rojo': 7})"
      ]
     },
     "execution_count": 69,
     "metadata": {},
     "output_type": "execute_result"
    }
   ],
   "source": [
    "OZ"
   ]
  },
  {
   "cell_type": "code",
   "execution_count": 31,
   "metadata": {},
   "outputs": [
    {
     "name": "stdout",
     "output_type": "stream",
     "text": [
      "Amarillo\n",
      "azul\n",
      "rojo\n"
     ]
    }
   ],
   "source": [
    "#Con esto solo estamos imprimiendo la clave\n",
    "for Items in OZ.items():\n",
    "    print(Items[0])"
   ]
  },
  {
   "cell_type": "code",
   "execution_count": 32,
   "metadata": {},
   "outputs": [
    {
     "name": "stdout",
     "output_type": "stream",
     "text": [
      "[1, 9]\n",
      "[6, 2]\n",
      "[7]\n"
     ]
    }
   ],
   "source": [
    "#Con esto estamos imprimiendo el valor de cada clave\n",
    "for Items in OZ.items():\n",
    "    print(Items[1])"
   ]
  },
  {
   "cell_type": "code",
   "execution_count": 42,
   "metadata": {},
   "outputs": [
    {
     "name": "stdout",
     "output_type": "stream",
     "text": [
      "('Amarillo', [1, 9])\n"
     ]
    }
   ],
   "source": [
    "# Vamos a imprimir el \"todo\" solo si la clave es amarillo\n",
    "for Items in OZ.items():\n",
    "    if Items[0] == 'Amarillo':\n",
    "        print(Items)"
   ]
  },
  {
   "cell_type": "code",
   "execution_count": null,
   "metadata": {},
   "outputs": [],
   "source": []
  }
 ],
 "metadata": {
  "kernelspec": {
   "display_name": "Python 3",
   "language": "python",
   "name": "python3"
  },
  "language_info": {
   "codemirror_mode": {
    "name": "ipython",
    "version": 3
   },
   "file_extension": ".py",
   "mimetype": "text/x-python",
   "name": "python",
   "nbconvert_exporter": "python",
   "pygments_lexer": "ipython3",
   "version": "3.8.3"
  }
 },
 "nbformat": 4,
 "nbformat_minor": 4
}
