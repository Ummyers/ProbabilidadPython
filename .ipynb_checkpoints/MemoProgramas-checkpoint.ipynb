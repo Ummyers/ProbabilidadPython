{
 "cells": [
  {
   "cell_type": "markdown",
   "metadata": {},
   "source": [
    "# ¿Qué es Jupyter Notebook?\n"
   ]
  },
  {
   "cell_type": "markdown",
   "metadata": {},
   "source": [
    "Es una aplicación que permite editar, ejecutar y compartir código **Python**"
   ]
  },
  {
   "cell_type": "markdown",
   "metadata": {},
   "source": [
    "Para poner texto en negritas debes escribir el texto entre dos asteriscos **"
   ]
  },
  {
   "cell_type": "markdown",
   "metadata": {},
   "source": [
    "## Para poner una subsección hay que indicarlo con dos gatos (##)\n"
   ]
  },
  {
   "cell_type": "code",
   "execution_count": 1,
   "metadata": {},
   "outputs": [
    {
     "name": "stdout",
     "output_type": "stream",
     "text": [
      "Ingresa el LimiteIzquiero: 1\n",
      "Ingresa el LimiteDerecho: 100\n",
      "La solución es:  5050.0\n"
     ]
    }
   ],
   "source": [
    "\"\"\"\n",
    "Solución al problema presentado en OmegaUp\n",
    "la liga es la siguiente: https://omegaup.com/arena/problem/Sumando-intervalos-de-enteros/#problems\n",
    "@author: ummyers\n",
    "\"\"\"\n",
    "\n",
    "\n",
    "LI = int(input(\"Ingresa el LimiteIzquiero: \"))\n",
    "LD = int(input(\"Ingresa el LimiteDerecho: \"))\n",
    "    \n",
    "LimiteDerecho = (LD)*(LD+1)/2\n",
    "LimiteIzquiero = (LI-1)*(LI)/2\n",
    "sumaTotal = LimiteDerecho - LimiteIzquiero\n",
    "print(\"La solución es: \", sumaTotal)"
   ]
  },
  {
   "cell_type": "markdown",
   "metadata": {},
   "source": [
    "# 2. Funciones predefinidas en Python"
   ]
  },
  {
   "cell_type": "code",
   "execution_count": 2,
   "metadata": {},
   "outputs": [
    {
     "name": "stdout",
     "output_type": "stream",
     "text": [
      "Hola Mundo\n"
     ]
    }
   ],
   "source": [
    "print(\"Hola Mundo\")"
   ]
  },
  {
   "cell_type": "markdown",
   "metadata": {},
   "source": [
    "Funciones personales definidas "
   ]
  },
  {
   "cell_type": "code",
   "execution_count": 5,
   "metadata": {},
   "outputs": [],
   "source": [
    "def saluda(nombre):\n",
    "    #Comentarios#\n",
    "    print(\"Hola\",nombre)\n"
   ]
  },
  {
   "cell_type": "markdown",
   "metadata": {},
   "source": [
    "La funcion anterior podrá usarse en todo nuestro documento de jupyter"
   ]
  },
  {
   "cell_type": "code",
   "execution_count": 6,
   "metadata": {},
   "outputs": [
    {
     "name": "stdout",
     "output_type": "stream",
     "text": [
      "Hola Memo\n"
     ]
    }
   ],
   "source": [
    "saluda(\"Memo\")"
   ]
  },
  {
   "cell_type": "code",
   "execution_count": 7,
   "metadata": {},
   "outputs": [],
   "source": [
    "Memo = \"MEMO el ayudante\""
   ]
  },
  {
   "cell_type": "code",
   "execution_count": 8,
   "metadata": {},
   "outputs": [
    {
     "name": "stdout",
     "output_type": "stream",
     "text": [
      "Hola MEMO el ayudante\n"
     ]
    }
   ],
   "source": [
    "saluda(Memo)"
   ]
  },
  {
   "cell_type": "code",
   "execution_count": null,
   "metadata": {},
   "outputs": [],
   "source": []
  }
 ],
 "metadata": {
  "kernelspec": {
   "display_name": "Python 3",
   "language": "python",
   "name": "python3"
  },
  "language_info": {
   "codemirror_mode": {
    "name": "ipython",
    "version": 3
   },
   "file_extension": ".py",
   "mimetype": "text/x-python",
   "name": "python",
   "nbconvert_exporter": "python",
   "pygments_lexer": "ipython3",
   "version": "3.8.3"
  }
 },
 "nbformat": 4,
 "nbformat_minor": 4
}
