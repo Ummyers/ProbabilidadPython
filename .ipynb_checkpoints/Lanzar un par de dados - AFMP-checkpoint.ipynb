{
 "cells": [
  {
   "cell_type": "markdown",
   "metadata": {},
   "source": [
    "### En este Jupyter vamos a lanzar dos dados en cien ocaciones y obtendremos la grafica.\n"
   ]
  },
  {
   "cell_type": "markdown",
   "metadata": {},
   "source": [
    "La función **lanzarNDados(n)** devuelve un diccionario con los resultados de lanzar dos dados **n** veces, teniendo como clave la suma de ambos lanzamientos y valor el número de veces que dio como resultado esa suma."
   ]
  },
  {
   "cell_type": "code",
   "execution_count": 56,
   "metadata": {},
   "outputs": [],
   "source": [
    "import random #Para poder usar la función que generar pseudoaleatorios\n",
    "from collections import defaultdict #Para inicializar el diccionario\n",
    "\n",
    "def lanzarDado():\n",
    "    #El metodo randint devuelve un numero pseudo-aleatorio entre [1,6]\n",
    "    return random.randint(1,6)\n",
    "\n",
    "def lanzarNDados(n):\n",
    "    #Estamos diciendo que dictLan es un diccionario de tipo integer\n",
    "    dictLan = defaultdict(int)\n",
    "    \n",
    "    #Ponemos las posibles claves que puede tomar el resultado\n",
    "    for i in range (2,12):\n",
    "        dictLan[i]\n",
    "    \n",
    "    for i in range(n):\n",
    "        res = lanzarDado() + lanzarDado()\n",
    "        dictLan[res]+=1\n",
    "    #Devuelve un diccionario\n",
    "    return dictLan\n",
    "\n"
   ]
  },
  {
   "cell_type": "markdown",
   "metadata": {},
   "source": [
    "El siguiente bloque nos muestra la gráfica de haber hecho el experimento"
   ]
  },
  {
   "cell_type": "code",
   "execution_count": 57,
   "metadata": {},
   "outputs": [
    {
     "data": {
      "image/png": "[encoded data removed]",
      "text/plain": [
       "<Figure size 432x288 with 1 Axes>"
      ]
     },
     "metadata": {
      "needs_background": "light"
     },
     "output_type": "display_data"
    }
   ],
   "source": [
    "from collections import Counter\n",
    "import matplotlib.pyplot as plt \n",
    "\n",
    "# f es nuestro diccionario de donde tomamos los valores\n",
    "f = lanzarNDados(100)\n",
    "\n",
    "#No tuvimos que usar items para gráficar\n",
    "plt.bar(range(len(f)), f.values(), align='center') \n",
    "plt.xticks(range(len(f)), list(f.keys())) \n",
    "\n",
    "# Titulo de la imagen\n",
    "plt.title(\"Gráfica de lanzar 100 veces un par de dados\")\n",
    "\n",
    "#Función que al generar la imagen la guardará en la carpeta donde se encuentra tu jupyter\n",
    "plt.savefig(\"Nombre-Con-El-Que-Se-Guarda.jpg\")\n",
    "\n",
    "#Muestra la gráfica\n",
    "plt.show()"
   ]
  },
  {
   "cell_type": "markdown",
   "metadata": {},
   "source": [
    "### Comprobando que son 100 lanzamientos"
   ]
  },
  {
   "cell_type": "markdown",
   "metadata": {},
   "source": [
    "El número de veces que la suma dió 3 se obtiene de la siguiente forma"
   ]
  },
  {
   "cell_type": "code",
   "execution_count": 58,
   "metadata": {},
   "outputs": [
    {
     "data": {
      "text/plain": [
       "6"
      ]
     },
     "execution_count": 58,
     "metadata": {},
     "output_type": "execute_result"
    }
   ],
   "source": [
    "f[3]"
   ]
  },
  {
   "cell_type": "markdown",
   "metadata": {},
   "source": [
    "Veamos si la suma en efecto nos da 100 \n"
   ]
  },
  {
   "cell_type": "code",
   "execution_count": 59,
   "metadata": {},
   "outputs": [
    {
     "name": "stdout",
     "output_type": "stream",
     "text": [
      "100\n"
     ]
    }
   ],
   "source": [
    "SumLan = 0\n",
    "for i in range(2,13):\n",
    "    SumLan += f[i]\n",
    "    \n",
    "print (SumLan)"
   ]
  },
  {
   "cell_type": "code",
   "execution_count": 60,
   "metadata": {},
   "outputs": [
    {
     "data": {
      "text/plain": [
       "defaultdict(int,\n",
       "            {2: 1,\n",
       "             3: 6,\n",
       "             4: 9,\n",
       "             5: 13,\n",
       "             6: 13,\n",
       "             7: 12,\n",
       "             8: 17,\n",
       "             9: 8,\n",
       "             10: 12,\n",
       "             11: 8,\n",
       "             12: 1})"
      ]
     },
     "execution_count": 60,
     "metadata": {},
     "output_type": "execute_result"
    }
   ],
   "source": [
    "f"
   ]
  }
 ],
 "metadata": {
  "kernelspec": {
   "display_name": "Python 3",
   "language": "python",
   "name": "python3"
  },
  "language_info": {
   "codemirror_mode": {
    "name": "ipython",
    "version": 3
   },
   "file_extension": ".py",
   "mimetype": "text/x-python",
   "name": "python",
   "nbconvert_exporter": "python",
   "pygments_lexer": "ipython3",
   "version": "3.8.3"
  }
 },
 "nbformat": 4,
 "nbformat_minor": 4
}
