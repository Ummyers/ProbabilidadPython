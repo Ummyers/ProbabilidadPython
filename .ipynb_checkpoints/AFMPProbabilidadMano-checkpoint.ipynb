{
 "cells": [
  {
   "cell_type": "markdown",
   "metadata": {},
   "source": [
    "## Función que calcula el factorial de un número"
   ]
  },
  {
   "cell_type": "code",
   "execution_count": 4,
   "metadata": {},
   "outputs": [],
   "source": [
    "def factorial(x):\n",
    "    producto = 1\n",
    "    for i in range (1,x+1):\n",
    "        producto = producto * i\n",
    "        #print(i)\n",
    "    return producto"
   ]
  },
  {
   "cell_type": "markdown",
   "metadata": {},
   "source": [
    "Para comprobar sabemos que factorial de 10 es 3628800"
   ]
  },
  {
   "cell_type": "code",
   "execution_count": 5,
   "metadata": {},
   "outputs": [
    {
     "name": "stdout",
     "output_type": "stream",
     "text": [
      "3628800\n"
     ]
    }
   ],
   "source": [
    "prub_fact = factorial(10)\n",
    "print(prub_fact)"
   ]
  },
  {
   "cell_type": "markdown",
   "metadata": {},
   "source": [
    "## Función que calcula el coeficiente Binomial"
   ]
  },
  {
   "cell_type": "code",
   "execution_count": 6,
   "metadata": {},
   "outputs": [],
   "source": [
    "def coeficienteBinomial(m,n):\n",
    "    cb = factorial(m)/(factorial(n)*factorial(m-n))\n",
    "    return cb\n"
   ]
  },
  {
   "cell_type": "code",
   "execution_count": 7,
   "metadata": {},
   "outputs": [
    {
     "data": {
      "text/plain": [
       "1225.0"
      ]
     },
     "execution_count": 7,
     "metadata": {},
     "output_type": "execute_result"
    }
   ],
   "source": [
    "coeficienteBinomial(50,2)\n",
    "co"
   ]
  },
  {
   "cell_type": "code",
   "execution_count": 71,
   "metadata": {},
   "outputs": [
    {
     "name": "stdout",
     "output_type": "stream",
     "text": [
      "10.0\n"
     ]
    }
   ],
   "source": [
    "CB = coeficienteBinomial(5,2)\n",
    "print(CB)"
   ]
  },
  {
   "cell_type": "markdown",
   "metadata": {},
   "source": [
    "#### Se calculan las probabilidades de las siguientes manos\n",
    "\n",
    "Probabilidad de obtener una escalera  \n",
    "Probabilidad de obtener un full  \n",
    "Probabilidad de obtener un s-flush\n",
    "\n",
    "(Nota: para dar un salto de linea en jupyter es con doble espacio)"
   ]
  },
  {
   "cell_type": "code",
   "execution_count": 75,
   "metadata": {},
   "outputs": [
    {
     "name": "stdout",
     "output_type": "stream",
     "text": [
      "Probabilidad de hacer una escalera 0.003940037553482932\n"
     ]
    }
   ],
   "source": [
    "P_escalera = 10*math.pow(4,5)/coeficienteBinomial(52,5)\n",
    "print(\"Probabilidad de hacer una escalera\", P_escalera)"
   ]
  },
  {
   "cell_type": "code",
   "execution_count": 69,
   "metadata": {},
   "outputs": [
    {
     "name": "stdout",
     "output_type": "stream",
     "text": [
      "Probabilidad de hacer un Full 0.0014405762304921968\n"
     ]
    }
   ],
   "source": [
    "P_full = (13*12*coeficienteBinomial(4,3)*coeficienteBinomial(4,2))/(coeficienteBinomial(52,5))\n",
    "print(\"Probabilidad de hacer un Full\", P_full)"
   ]
  },
  {
   "cell_type": "code",
   "execution_count": 72,
   "metadata": {},
   "outputs": [
    {
     "name": "stdout",
     "output_type": "stream",
     "text": [
      "Probabilidad de hacer un s-Flush 1.5390771693292702e-05\n"
     ]
    }
   ],
   "source": [
    "P_sFlush = (10*4)/coeficienteBinomial(52,5)\n",
    "print(\"Probabilidad de hacer un s-Flush\", P_sFlush)"
   ]
  },
  {
   "cell_type": "markdown",
   "metadata": {},
   "source": [
    "### Se calcula la probabilidad de no obtener ninguna mano en el Pokér"
   ]
  },
  {
   "cell_type": "code",
   "execution_count": 78,
   "metadata": {},
   "outputs": [
    {
     "name": "stdout",
     "output_type": "stream",
     "text": [
      "0.5017176101209715\n"
     ]
    }
   ],
   "source": [
    "import math\n",
    "proba = 1.0\n",
    "proba = ((coeficienteBinomial(13,5)*math.pow(4,5))/(coeficienteBinomial(52,5))) - P_escalera - P_full + P_sFlush\n",
    "print(proba)"
   ]
  }
 ],
 "metadata": {
  "kernelspec": {
   "display_name": "Python 3",
   "language": "python",
   "name": "python3"
  },
  "language_info": {
   "codemirror_mode": {
    "name": "ipython",
    "version": 3
   },
   "file_extension": ".py",
   "mimetype": "text/x-python",
   "name": "python",
   "nbconvert_exporter": "python",
   "pygments_lexer": "ipython3",
   "version": "3.8.3"
  }
 },
 "nbformat": 4,
 "nbformat_minor": 4
}
