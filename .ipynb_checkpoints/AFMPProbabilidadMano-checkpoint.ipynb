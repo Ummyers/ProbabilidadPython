{
 "cells": [
  {
   "cell_type": "markdown",
   "metadata": {},
   "source": [
    "## Función que calcula el factorial de un número"
   ]
  },
  {
   "cell_type": "code",
   "execution_count": 30,
   "metadata": {},
   "outputs": [],
   "source": [
    "import math\n",
    "\n",
    "def factorial(x):\n",
    "    producto = 1\n",
    "    for i in range (1,x+1):\n",
    "        producto = producto * i\n",
    "        #print(i)\n",
    "    return producto"
   ]
  },
  {
   "cell_type": "markdown",
   "metadata": {},
   "source": [
    "Para comprobar sabemos que factorial de 10 es 3628800"
   ]
  },
  {
   "cell_type": "code",
   "execution_count": 31,
   "metadata": {},
   "outputs": [
    {
     "name": "stdout",
     "output_type": "stream",
     "text": [
      "3628800\n"
     ]
    }
   ],
   "source": [
    "prub_fact = factorial(10)\n",
    "print(prub_fact)"
   ]
  },
  {
   "cell_type": "markdown",
   "metadata": {},
   "source": [
    "## Función que calcula el coeficiente Binomial"
   ]
  },
  {
   "cell_type": "code",
   "execution_count": 32,
   "metadata": {},
   "outputs": [],
   "source": [
    "def coeficienteBinomial(m,n):\n",
    "    cb = factorial(m)/(factorial(n)*factorial(m-n))\n",
    "    return cb\n"
   ]
  },
  {
   "cell_type": "markdown",
   "metadata": {},
   "source": [
    "### Prueba de funcionalidad para el coeficiente"
   ]
  },
  {
   "cell_type": "code",
   "execution_count": 33,
   "metadata": {
    "scrolled": true
   },
   "outputs": [
    {
     "name": "stdout",
     "output_type": "stream",
     "text": [
      "10.0\n"
     ]
    }
   ],
   "source": [
    "CB = coeficienteBinomial(5,2)\n",
    "print(CB)"
   ]
  },
  {
   "cell_type": "markdown",
   "metadata": {},
   "source": [
    "#### Se calculan las probabilidades de las siguientes manos\n",
    "\n",
    "Probabilidad de obtener una escalera  \n",
    "Probabilidad de obtener un full  \n",
    "Probabilidad de obtener un s-flush\n",
    "\n",
    "(Nota: para dar un salto de linea en jupyter es con doble espacio)"
   ]
  },
  {
   "cell_type": "code",
   "execution_count": 34,
   "metadata": {},
   "outputs": [
    {
     "name": "stdout",
     "output_type": "stream",
     "text": [
      "Probabilidad de hacer una escalera 0.003940037553482932\n"
     ]
    }
   ],
   "source": [
    "P_escalera = 10*math.pow(4,5)/coeficienteBinomial(52,5)\n",
    "print(\"Probabilidad de hacer una escalera\", P_escalera)"
   ]
  },
  {
   "cell_type": "code",
   "execution_count": 35,
   "metadata": {},
   "outputs": [
    {
     "name": "stdout",
     "output_type": "stream",
     "text": [
      "Probabilidad de hacer un Full 0.0014405762304921968\n"
     ]
    }
   ],
   "source": [
    "P_full = (13*12*coeficienteBinomial(4,3)*coeficienteBinomial(4,2))/(coeficienteBinomial(52,5))\n",
    "print(\"Probabilidad de hacer un Full\", P_full)"
   ]
  },
  {
   "cell_type": "code",
   "execution_count": 36,
   "metadata": {},
   "outputs": [
    {
     "name": "stdout",
     "output_type": "stream",
     "text": [
      "Probabilidad de hacer un s-Flush 1.5390771693292702e-05\n"
     ]
    }
   ],
   "source": [
    "P_sFlush = (10*4)/coeficienteBinomial(52,5)\n",
    "print(\"Probabilidad de hacer un s-Flush\", P_sFlush)"
   ]
  },
  {
   "cell_type": "markdown",
   "metadata": {},
   "source": [
    "### Se calcula la probabilidad de no obtener ninguna mano en el Pokér"
   ]
  },
  {
   "cell_type": "code",
   "execution_count": 37,
   "metadata": {},
   "outputs": [
    {
     "name": "stdout",
     "output_type": "stream",
     "text": [
      "0.5017176101209715\n"
     ]
    }
   ],
   "source": [
    "import math\n",
    "proba = 1.0\n",
    "proba = ((coeficienteBinomial(13,5)*math.pow(4,5))/(coeficienteBinomial(52,5))) - P_escalera - P_full + P_sFlush\n",
    "print(proba)"
   ]
  },
  {
   "cell_type": "markdown",
   "metadata": {},
   "source": [
    "#### Probabilidad de ejercicio 6"
   ]
  },
  {
   "cell_type": "code",
   "execution_count": 38,
   "metadata": {},
   "outputs": [
    {
     "name": "stdout",
     "output_type": "stream",
     "text": [
      "Resultado:  0.2474747474747475\n"
     ]
    }
   ],
   "source": [
    "x = coeficienteBinomial(50,2)\n",
    "y = coeficienteBinomial(100,2)\n",
    "print(\"Resultado: \", x/y)"
   ]
  },
  {
   "cell_type": "markdown",
   "metadata": {},
   "source": [
    "#### Probabilidad del ejercicio 12"
   ]
  },
  {
   "cell_type": "code",
   "execution_count": 39,
   "metadata": {},
   "outputs": [
    {
     "name": "stdout",
     "output_type": "stream",
     "text": [
      "0.6875\n"
     ]
    }
   ],
   "source": [
    "print(11/16)"
   ]
  },
  {
   "cell_type": "code",
   "execution_count": 40,
   "metadata": {},
   "outputs": [
    {
     "name": "stdout",
     "output_type": "stream",
     "text": [
      "0.3125\n"
     ]
    }
   ],
   "source": [
    "print(5/16)"
   ]
  },
  {
   "cell_type": "markdown",
   "metadata": {},
   "source": [
    "### Sobre el ejercicio 11, ¿Cuánto debe valer n para que sea más favorable obtener una tercia de 5's que no obtenerla?"
   ]
  },
  {
   "cell_type": "code",
   "execution_count": 41,
   "metadata": {},
   "outputs": [
    {
     "name": "stdout",
     "output_type": "stream",
     "text": [
      "n debe ser mayor a:  150 para que sea más favorable obtener una tercia de 5's que no obtenerla\n"
     ]
    }
   ],
   "source": [
    "import math\n",
    "\n",
    "a = math.log(1/2)\n",
    "c = 1- (1/216)\n",
    "b = math.log(c)\n",
    "print(\"n debe ser mayor a: \", math.ceil(a/b) ,\"para que sea más favorable obtener una tercia de 5's que no obtenerla\")"
   ]
  },
  {
   "cell_type": "markdown",
   "metadata": {},
   "source": [
    "### Para el ejercicio extra de la probabilidad de no cambiar de puerta en el problema de Monty-Hall\n",
    "\n",
    "Sea E= { MH muestra la puerta 2 y 4 } La probabilidad que el premio este en la puerta 1 dado que mostro 2 y 4 es: \n"
   ]
  },
  {
   "cell_type": "code",
   "execution_count": 42,
   "metadata": {},
   "outputs": [
    {
     "name": "stdout",
     "output_type": "stream",
     "text": [
      "La probabilidad es:  0.19999999999999998\n"
     ]
    }
   ],
   "source": [
    "dem = ((1/(coeficienteBinomial(4,2)))*(1/5))+((1/(coeficienteBinomial(3,2)))*(1/5))+((1/(coeficienteBinomial(3,2)))*(1/5)) \n",
    "arri = ((1/(coeficienteBinomial(4,2)))*(1/5))\n",
    "resultado = arri/dem\n",
    "print(\"La probabilidad es: \", resultado)"
   ]
  },
  {
   "cell_type": "code",
   "execution_count": 43,
   "metadata": {},
   "outputs": [
    {
     "name": "stdout",
     "output_type": "stream",
     "text": [
      "6.613756613756615e-07\n"
     ]
    }
   ],
   "source": [
    "resultado = coeficienteBinomial(4,10) * (1/10)\n",
    "print(resultado)"
   ]
  }
 ],
 "metadata": {
  "kernelspec": {
   "display_name": "Python 3",
   "language": "python",
   "name": "python3"
  },
  "language_info": {
   "codemirror_mode": {
    "name": "ipython",
    "version": 3
   },
   "file_extension": ".py",
   "mimetype": "text/x-python",
   "name": "python",
   "nbconvert_exporter": "python",
   "pygments_lexer": "ipython3",
   "version": "3.8.3"
  }
 },
 "nbformat": 4,
 "nbformat_minor": 4
}
