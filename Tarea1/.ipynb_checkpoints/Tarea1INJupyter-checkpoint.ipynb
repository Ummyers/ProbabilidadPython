{
 "cells": [
  {
   "cell_type": "markdown",
   "metadata": {},
   "source": [
    "# Tarea 1 de Probabilidad 2021-1\n",
    "@author: ummyers"
   ]
  },
  {
   "cell_type": "markdown",
   "metadata": {},
   "source": [
    " ## Ejercicio 1"
   ]
  },
  {
   "cell_type": "code",
   "execution_count": 2,
   "metadata": {},
   "outputs": [
    {
     "name": "stdout",
     "output_type": "stream",
     "text": [
      "La suma de los primeros 100 números naturales es:  5050.0\n"
     ]
    }
   ],
   "source": [
    "n = 100\n",
    "s = n * (n+1)/2\n",
    "print(\"La suma de los primeros 100 números naturales es: \",s)\n",
    "\n"
   ]
  },
  {
   "cell_type": "markdown",
   "metadata": {},
   "source": [
    "## Ejercicio 2 "
   ]
  },
  {
   "cell_type": "code",
   "execution_count": 4,
   "metadata": {},
   "outputs": [
    {
     "name": "stdout",
     "output_type": "stream",
     "text": [
      "Ingresa un número: 100\n",
      "Elegiste el número entero  100 y la suma de los primeros  100  números es:  5050.0\n"
     ]
    }
   ],
   "source": [
    "entero = int(input(\"Ingresa un número: \"))\n",
    "s = entero * (entero+1)/2\n",
    "print(\"Elegiste el número entero \",entero , \"y la suma de los primeros \", entero,\" números es: \",s)\n",
    "            \n"
   ]
  },
  {
   "cell_type": "markdown",
   "metadata": {},
   "source": [
    "## Ejercicio 3"
   ]
  },
  {
   "cell_type": "code",
   "execution_count": 5,
   "metadata": {},
   "outputs": [
    {
     "name": "stdout",
     "output_type": "stream",
     "text": [
      "Ingresa un número: 3\n",
      "Elegiste el número entero  3 y la suma de los primeros  3  números es:  6.0\n"
     ]
    }
   ],
   "source": [
    "while True:\n",
    "    try:\n",
    "        entero = int(input(\"Ingresa un número: \"))\n",
    "    except ValueError:\n",
    "        print(\"Ingresaste un número inválido, intentalo de nuevo\")\n",
    "    else:\n",
    "        s = entero * (entero+1)/2\n",
    "        print(\"Elegiste el número entero \",entero , \"y la suma de los primeros \", entero,\" números es: \",s)\n",
    "        \n",
    "        break\n"
   ]
  },
  {
   "cell_type": "code",
   "execution_count": null,
   "metadata": {},
   "outputs": [],
   "source": []
  }
 ],
 "metadata": {
  "kernelspec": {
   "display_name": "Python 3",
   "language": "python",
   "name": "python3"
  },
  "language_info": {
   "codemirror_mode": {
    "name": "ipython",
    "version": 3
   },
   "file_extension": ".py",
   "mimetype": "text/x-python",
   "name": "python",
   "nbconvert_exporter": "python",
   "pygments_lexer": "ipython3",
   "version": "3.8.3"
  }
 },
 "nbformat": 4,
 "nbformat_minor": 4
}
