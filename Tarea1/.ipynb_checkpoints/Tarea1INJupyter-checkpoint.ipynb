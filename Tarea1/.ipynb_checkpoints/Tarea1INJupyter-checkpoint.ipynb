{
 "cells": [
  {
   "cell_type": "markdown",
   "metadata": {},
   "source": [
    "# Tarea 1 de Probabilidad 2021-1\n",
    "@author: ummyers and Yazmin"
   ]
  },
  {
   "cell_type": "markdown",
   "metadata": {},
   "source": [
    " ## Ejercicio 1"
   ]
  },
  {
   "cell_type": "code",
   "execution_count": 1,
   "metadata": {},
   "outputs": [
    {
     "name": "stdout",
     "output_type": "stream",
     "text": [
      "La suma de los primeros 100 números naturales es:  5050.0\n"
     ]
    }
   ],
   "source": [
    "n = 100\n",
    "s = n * (n+1)/2\n",
    "print(\"La suma de los primeros 100 números naturales es: \",s)\n",
    "\n"
   ]
  },
  {
   "cell_type": "markdown",
   "metadata": {},
   "source": [
    "## Ejercicio 2 "
   ]
  },
  {
   "cell_type": "code",
   "execution_count": 2,
   "metadata": {},
   "outputs": [
    {
     "name": "stdout",
     "output_type": "stream",
     "text": [
      "Ingresa un número: 67\n",
      "Elegiste el número entero  67 y la suma de los primeros  67  números es:  2278.0\n"
     ]
    }
   ],
   "source": [
    "entero = int(input(\"Ingresa un número: \"))\n",
    "s = entero * (entero+1)/2\n",
    "print(\"Elegiste el número entero \",entero , \"y la suma de los primeros \", entero,\" números es: \",s)\n",
    "            \n"
   ]
  },
  {
   "cell_type": "markdown",
   "metadata": {},
   "source": [
    "## Ejercicio 3"
   ]
  },
  {
   "cell_type": "code",
   "execution_count": 3,
   "metadata": {},
   "outputs": [
    {
     "name": "stdout",
     "output_type": "stream",
     "text": [
      "Ingresa un número: 78\n",
      "Elegiste el número entero  78 y la suma de los primeros  78  números es:  3081.0\n"
     ]
    }
   ],
   "source": [
    "while True:\n",
    "    try:\n",
    "        ent = int(input(\"Ingresa un número: \"))\n",
    "    except ValueError:\n",
    "        print(\"Ingresaste un número inválido, intentalo de nuevo\")\n",
    "    else:\n",
    "        s = ent * (ent+1)/2\n",
    "        print(\"Elegiste el número entero \",ent , \"y la suma de los primeros \", ent,\" números es: \",s)\n",
    "        \n",
    "        break\n"
   ]
  }
 ],
 "metadata": {
  "kernelspec": {
   "display_name": "Python 3",
   "language": "python",
   "name": "python3"
  },
  "language_info": {
   "codemirror_mode": {
    "name": "ipython",
    "version": 3
   },
   "file_extension": ".py",
   "mimetype": "text/x-python",
   "name": "python",
   "nbconvert_exporter": "python",
   "pygments_lexer": "ipython3",
   "version": "3.8.3"
  }
 },
 "nbformat": 4,
 "nbformat_minor": 4
}
